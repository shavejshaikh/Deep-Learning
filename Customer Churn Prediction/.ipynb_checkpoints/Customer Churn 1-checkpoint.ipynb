{
 "cells": [
  {
   "cell_type": "code",
   "execution_count": 1,
   "metadata": {},
   "outputs": [],
   "source": [
    "#Telecom Datasets from Kaggle\n",
    "import pandas as pd\n",
    "import numpy as np\n",
    "import matplotlib.pyplot as plt\n",
    "%matplotlib inline"
   ]
  },
  {
   "cell_type": "code",
   "execution_count": 2,
   "metadata": {},
   "outputs": [],
   "source": [
    "df = pd.read_csv('Telco_Customer_Churn.csv')"
   ]
  },
  {
   "cell_type": "code",
   "execution_count": 3,
   "metadata": {},
   "outputs": [
    {
     "data": {
      "text/html": [
       "<div>\n",
       "<style scoped>\n",
       "    .dataframe tbody tr th:only-of-type {\n",
       "        vertical-align: middle;\n",
       "    }\n",
       "\n",
       "    .dataframe tbody tr th {\n",
       "        vertical-align: top;\n",
       "    }\n",
       "\n",
       "    .dataframe thead th {\n",
       "        text-align: right;\n",
       "    }\n",
       "</style>\n",
       "<table border=\"1\" class=\"dataframe\">\n",
       "  <thead>\n",
       "    <tr style=\"text-align: right;\">\n",
       "      <th></th>\n",
       "      <th>customerID</th>\n",
       "      <th>gender</th>\n",
       "      <th>SeniorCitizen</th>\n",
       "      <th>Partner</th>\n",
       "      <th>Dependents</th>\n",
       "      <th>tenure</th>\n",
       "      <th>PhoneService</th>\n",
       "      <th>MultipleLines</th>\n",
       "      <th>InternetService</th>\n",
       "      <th>OnlineSecurity</th>\n",
       "      <th>...</th>\n",
       "      <th>DeviceProtection</th>\n",
       "      <th>TechSupport</th>\n",
       "      <th>StreamingTV</th>\n",
       "      <th>StreamingMovies</th>\n",
       "      <th>Contract</th>\n",
       "      <th>PaperlessBilling</th>\n",
       "      <th>PaymentMethod</th>\n",
       "      <th>MonthlyCharges</th>\n",
       "      <th>TotalCharges</th>\n",
       "      <th>Churn</th>\n",
       "    </tr>\n",
       "  </thead>\n",
       "  <tbody>\n",
       "    <tr>\n",
       "      <th>0</th>\n",
       "      <td>7590-VHVEG</td>\n",
       "      <td>Female</td>\n",
       "      <td>0</td>\n",
       "      <td>Yes</td>\n",
       "      <td>No</td>\n",
       "      <td>1</td>\n",
       "      <td>No</td>\n",
       "      <td>No phone service</td>\n",
       "      <td>DSL</td>\n",
       "      <td>No</td>\n",
       "      <td>...</td>\n",
       "      <td>No</td>\n",
       "      <td>No</td>\n",
       "      <td>No</td>\n",
       "      <td>No</td>\n",
       "      <td>Month-to-month</td>\n",
       "      <td>Yes</td>\n",
       "      <td>Electronic check</td>\n",
       "      <td>29.85</td>\n",
       "      <td>29.85</td>\n",
       "      <td>No</td>\n",
       "    </tr>\n",
       "    <tr>\n",
       "      <th>1</th>\n",
       "      <td>5575-GNVDE</td>\n",
       "      <td>Male</td>\n",
       "      <td>0</td>\n",
       "      <td>No</td>\n",
       "      <td>No</td>\n",
       "      <td>34</td>\n",
       "      <td>Yes</td>\n",
       "      <td>No</td>\n",
       "      <td>DSL</td>\n",
       "      <td>Yes</td>\n",
       "      <td>...</td>\n",
       "      <td>Yes</td>\n",
       "      <td>No</td>\n",
       "      <td>No</td>\n",
       "      <td>No</td>\n",
       "      <td>One year</td>\n",
       "      <td>No</td>\n",
       "      <td>Mailed check</td>\n",
       "      <td>56.95</td>\n",
       "      <td>1889.5</td>\n",
       "      <td>No</td>\n",
       "    </tr>\n",
       "    <tr>\n",
       "      <th>2</th>\n",
       "      <td>3668-QPYBK</td>\n",
       "      <td>Male</td>\n",
       "      <td>0</td>\n",
       "      <td>No</td>\n",
       "      <td>No</td>\n",
       "      <td>2</td>\n",
       "      <td>Yes</td>\n",
       "      <td>No</td>\n",
       "      <td>DSL</td>\n",
       "      <td>Yes</td>\n",
       "      <td>...</td>\n",
       "      <td>No</td>\n",
       "      <td>No</td>\n",
       "      <td>No</td>\n",
       "      <td>No</td>\n",
       "      <td>Month-to-month</td>\n",
       "      <td>Yes</td>\n",
       "      <td>Mailed check</td>\n",
       "      <td>53.85</td>\n",
       "      <td>108.15</td>\n",
       "      <td>Yes</td>\n",
       "    </tr>\n",
       "    <tr>\n",
       "      <th>3</th>\n",
       "      <td>7795-CFOCW</td>\n",
       "      <td>Male</td>\n",
       "      <td>0</td>\n",
       "      <td>No</td>\n",
       "      <td>No</td>\n",
       "      <td>45</td>\n",
       "      <td>No</td>\n",
       "      <td>No phone service</td>\n",
       "      <td>DSL</td>\n",
       "      <td>Yes</td>\n",
       "      <td>...</td>\n",
       "      <td>Yes</td>\n",
       "      <td>Yes</td>\n",
       "      <td>No</td>\n",
       "      <td>No</td>\n",
       "      <td>One year</td>\n",
       "      <td>No</td>\n",
       "      <td>Bank transfer (automatic)</td>\n",
       "      <td>42.30</td>\n",
       "      <td>1840.75</td>\n",
       "      <td>No</td>\n",
       "    </tr>\n",
       "    <tr>\n",
       "      <th>4</th>\n",
       "      <td>9237-HQITU</td>\n",
       "      <td>Female</td>\n",
       "      <td>0</td>\n",
       "      <td>No</td>\n",
       "      <td>No</td>\n",
       "      <td>2</td>\n",
       "      <td>Yes</td>\n",
       "      <td>No</td>\n",
       "      <td>Fiber optic</td>\n",
       "      <td>No</td>\n",
       "      <td>...</td>\n",
       "      <td>No</td>\n",
       "      <td>No</td>\n",
       "      <td>No</td>\n",
       "      <td>No</td>\n",
       "      <td>Month-to-month</td>\n",
       "      <td>Yes</td>\n",
       "      <td>Electronic check</td>\n",
       "      <td>70.70</td>\n",
       "      <td>151.65</td>\n",
       "      <td>Yes</td>\n",
       "    </tr>\n",
       "    <tr>\n",
       "      <th>...</th>\n",
       "      <td>...</td>\n",
       "      <td>...</td>\n",
       "      <td>...</td>\n",
       "      <td>...</td>\n",
       "      <td>...</td>\n",
       "      <td>...</td>\n",
       "      <td>...</td>\n",
       "      <td>...</td>\n",
       "      <td>...</td>\n",
       "      <td>...</td>\n",
       "      <td>...</td>\n",
       "      <td>...</td>\n",
       "      <td>...</td>\n",
       "      <td>...</td>\n",
       "      <td>...</td>\n",
       "      <td>...</td>\n",
       "      <td>...</td>\n",
       "      <td>...</td>\n",
       "      <td>...</td>\n",
       "      <td>...</td>\n",
       "      <td>...</td>\n",
       "    </tr>\n",
       "    <tr>\n",
       "      <th>7038</th>\n",
       "      <td>6840-RESVB</td>\n",
       "      <td>Male</td>\n",
       "      <td>0</td>\n",
       "      <td>Yes</td>\n",
       "      <td>Yes</td>\n",
       "      <td>24</td>\n",
       "      <td>Yes</td>\n",
       "      <td>Yes</td>\n",
       "      <td>DSL</td>\n",
       "      <td>Yes</td>\n",
       "      <td>...</td>\n",
       "      <td>Yes</td>\n",
       "      <td>Yes</td>\n",
       "      <td>Yes</td>\n",
       "      <td>Yes</td>\n",
       "      <td>One year</td>\n",
       "      <td>Yes</td>\n",
       "      <td>Mailed check</td>\n",
       "      <td>84.80</td>\n",
       "      <td>1990.5</td>\n",
       "      <td>No</td>\n",
       "    </tr>\n",
       "    <tr>\n",
       "      <th>7039</th>\n",
       "      <td>2234-XADUH</td>\n",
       "      <td>Female</td>\n",
       "      <td>0</td>\n",
       "      <td>Yes</td>\n",
       "      <td>Yes</td>\n",
       "      <td>72</td>\n",
       "      <td>Yes</td>\n",
       "      <td>Yes</td>\n",
       "      <td>Fiber optic</td>\n",
       "      <td>No</td>\n",
       "      <td>...</td>\n",
       "      <td>Yes</td>\n",
       "      <td>No</td>\n",
       "      <td>Yes</td>\n",
       "      <td>Yes</td>\n",
       "      <td>One year</td>\n",
       "      <td>Yes</td>\n",
       "      <td>Credit card (automatic)</td>\n",
       "      <td>103.20</td>\n",
       "      <td>7362.9</td>\n",
       "      <td>No</td>\n",
       "    </tr>\n",
       "    <tr>\n",
       "      <th>7040</th>\n",
       "      <td>4801-JZAZL</td>\n",
       "      <td>Female</td>\n",
       "      <td>0</td>\n",
       "      <td>Yes</td>\n",
       "      <td>Yes</td>\n",
       "      <td>11</td>\n",
       "      <td>No</td>\n",
       "      <td>No phone service</td>\n",
       "      <td>DSL</td>\n",
       "      <td>Yes</td>\n",
       "      <td>...</td>\n",
       "      <td>No</td>\n",
       "      <td>No</td>\n",
       "      <td>No</td>\n",
       "      <td>No</td>\n",
       "      <td>Month-to-month</td>\n",
       "      <td>Yes</td>\n",
       "      <td>Electronic check</td>\n",
       "      <td>29.60</td>\n",
       "      <td>346.45</td>\n",
       "      <td>No</td>\n",
       "    </tr>\n",
       "    <tr>\n",
       "      <th>7041</th>\n",
       "      <td>8361-LTMKD</td>\n",
       "      <td>Male</td>\n",
       "      <td>1</td>\n",
       "      <td>Yes</td>\n",
       "      <td>No</td>\n",
       "      <td>4</td>\n",
       "      <td>Yes</td>\n",
       "      <td>Yes</td>\n",
       "      <td>Fiber optic</td>\n",
       "      <td>No</td>\n",
       "      <td>...</td>\n",
       "      <td>No</td>\n",
       "      <td>No</td>\n",
       "      <td>No</td>\n",
       "      <td>No</td>\n",
       "      <td>Month-to-month</td>\n",
       "      <td>Yes</td>\n",
       "      <td>Mailed check</td>\n",
       "      <td>74.40</td>\n",
       "      <td>306.6</td>\n",
       "      <td>Yes</td>\n",
       "    </tr>\n",
       "    <tr>\n",
       "      <th>7042</th>\n",
       "      <td>3186-AJIEK</td>\n",
       "      <td>Male</td>\n",
       "      <td>0</td>\n",
       "      <td>No</td>\n",
       "      <td>No</td>\n",
       "      <td>66</td>\n",
       "      <td>Yes</td>\n",
       "      <td>No</td>\n",
       "      <td>Fiber optic</td>\n",
       "      <td>Yes</td>\n",
       "      <td>...</td>\n",
       "      <td>Yes</td>\n",
       "      <td>Yes</td>\n",
       "      <td>Yes</td>\n",
       "      <td>Yes</td>\n",
       "      <td>Two year</td>\n",
       "      <td>Yes</td>\n",
       "      <td>Bank transfer (automatic)</td>\n",
       "      <td>105.65</td>\n",
       "      <td>6844.5</td>\n",
       "      <td>No</td>\n",
       "    </tr>\n",
       "  </tbody>\n",
       "</table>\n",
       "<p>7043 rows × 21 columns</p>\n",
       "</div>"
      ],
      "text/plain": [
       "      customerID  gender  SeniorCitizen Partner Dependents  tenure  \\\n",
       "0     7590-VHVEG  Female              0     Yes         No       1   \n",
       "1     5575-GNVDE    Male              0      No         No      34   \n",
       "2     3668-QPYBK    Male              0      No         No       2   \n",
       "3     7795-CFOCW    Male              0      No         No      45   \n",
       "4     9237-HQITU  Female              0      No         No       2   \n",
       "...          ...     ...            ...     ...        ...     ...   \n",
       "7038  6840-RESVB    Male              0     Yes        Yes      24   \n",
       "7039  2234-XADUH  Female              0     Yes        Yes      72   \n",
       "7040  4801-JZAZL  Female              0     Yes        Yes      11   \n",
       "7041  8361-LTMKD    Male              1     Yes         No       4   \n",
       "7042  3186-AJIEK    Male              0      No         No      66   \n",
       "\n",
       "     PhoneService     MultipleLines InternetService OnlineSecurity  ...  \\\n",
       "0              No  No phone service             DSL             No  ...   \n",
       "1             Yes                No             DSL            Yes  ...   \n",
       "2             Yes                No             DSL            Yes  ...   \n",
       "3              No  No phone service             DSL            Yes  ...   \n",
       "4             Yes                No     Fiber optic             No  ...   \n",
       "...           ...               ...             ...            ...  ...   \n",
       "7038          Yes               Yes             DSL            Yes  ...   \n",
       "7039          Yes               Yes     Fiber optic             No  ...   \n",
       "7040           No  No phone service             DSL            Yes  ...   \n",
       "7041          Yes               Yes     Fiber optic             No  ...   \n",
       "7042          Yes                No     Fiber optic            Yes  ...   \n",
       "\n",
       "     DeviceProtection TechSupport StreamingTV StreamingMovies        Contract  \\\n",
       "0                  No          No          No              No  Month-to-month   \n",
       "1                 Yes          No          No              No        One year   \n",
       "2                  No          No          No              No  Month-to-month   \n",
       "3                 Yes         Yes          No              No        One year   \n",
       "4                  No          No          No              No  Month-to-month   \n",
       "...               ...         ...         ...             ...             ...   \n",
       "7038              Yes         Yes         Yes             Yes        One year   \n",
       "7039              Yes          No         Yes             Yes        One year   \n",
       "7040               No          No          No              No  Month-to-month   \n",
       "7041               No          No          No              No  Month-to-month   \n",
       "7042              Yes         Yes         Yes             Yes        Two year   \n",
       "\n",
       "     PaperlessBilling              PaymentMethod MonthlyCharges  TotalCharges  \\\n",
       "0                 Yes           Electronic check          29.85         29.85   \n",
       "1                  No               Mailed check          56.95        1889.5   \n",
       "2                 Yes               Mailed check          53.85        108.15   \n",
       "3                  No  Bank transfer (automatic)          42.30       1840.75   \n",
       "4                 Yes           Electronic check          70.70        151.65   \n",
       "...               ...                        ...            ...           ...   \n",
       "7038              Yes               Mailed check          84.80        1990.5   \n",
       "7039              Yes    Credit card (automatic)         103.20        7362.9   \n",
       "7040              Yes           Electronic check          29.60        346.45   \n",
       "7041              Yes               Mailed check          74.40         306.6   \n",
       "7042              Yes  Bank transfer (automatic)         105.65        6844.5   \n",
       "\n",
       "     Churn  \n",
       "0       No  \n",
       "1       No  \n",
       "2      Yes  \n",
       "3       No  \n",
       "4      Yes  \n",
       "...    ...  \n",
       "7038    No  \n",
       "7039    No  \n",
       "7040    No  \n",
       "7041   Yes  \n",
       "7042    No  \n",
       "\n",
       "[7043 rows x 21 columns]"
      ]
     },
     "execution_count": 3,
     "metadata": {},
     "output_type": "execute_result"
    }
   ],
   "source": [
    "df"
   ]
  },
  {
   "cell_type": "code",
   "execution_count": 4,
   "metadata": {},
   "outputs": [
    {
     "data": {
      "text/plain": [
       "gender               object\n",
       "SeniorCitizen         int64\n",
       "Partner              object\n",
       "Dependents           object\n",
       "tenure                int64\n",
       "PhoneService         object\n",
       "MultipleLines        object\n",
       "InternetService      object\n",
       "OnlineSecurity       object\n",
       "OnlineBackup         object\n",
       "DeviceProtection     object\n",
       "TechSupport          object\n",
       "StreamingTV          object\n",
       "StreamingMovies      object\n",
       "Contract             object\n",
       "PaperlessBilling     object\n",
       "PaymentMethod        object\n",
       "MonthlyCharges      float64\n",
       "TotalCharges         object\n",
       "Churn                object\n",
       "dtype: object"
      ]
     },
     "execution_count": 4,
     "metadata": {},
     "output_type": "execute_result"
    }
   ],
   "source": [
    "df.drop('customerID',axis='columns',inplace=True)\n",
    "df.dtypes"
   ]
  },
  {
   "cell_type": "code",
   "execution_count": 5,
   "metadata": {
    "scrolled": true
   },
   "outputs": [
    {
     "data": {
      "text/plain": [
       "array(['29.85', '1889.5', '108.15', ..., '346.45', '306.6', '6844.5'],\n",
       "      dtype=object)"
      ]
     },
     "execution_count": 5,
     "metadata": {},
     "output_type": "execute_result"
    }
   ],
   "source": [
    "df.TotalCharges.values"
   ]
  },
  {
   "cell_type": "code",
   "execution_count": 6,
   "metadata": {},
   "outputs": [],
   "source": [
    "# pd.to_numeric(df.TotalCharges)"
   ]
  },
  {
   "cell_type": "code",
   "execution_count": 7,
   "metadata": {},
   "outputs": [
    {
     "data": {
      "text/plain": [
       "0         29.85\n",
       "1       1889.50\n",
       "2        108.15\n",
       "3       1840.75\n",
       "4        151.65\n",
       "         ...   \n",
       "7038    1990.50\n",
       "7039    7362.90\n",
       "7040     346.45\n",
       "7041     306.60\n",
       "7042    6844.50\n",
       "Name: TotalCharges, Length: 7043, dtype: float64"
      ]
     },
     "execution_count": 7,
     "metadata": {},
     "output_type": "execute_result"
    }
   ],
   "source": [
    "pd.to_numeric(df.TotalCharges,errors='coerce')"
   ]
  },
  {
   "cell_type": "code",
   "execution_count": 8,
   "metadata": {},
   "outputs": [
    {
     "data": {
      "text/plain": [
       "0       False\n",
       "1       False\n",
       "2       False\n",
       "3       False\n",
       "4       False\n",
       "        ...  \n",
       "7038    False\n",
       "7039    False\n",
       "7040    False\n",
       "7041    False\n",
       "7042    False\n",
       "Name: TotalCharges, Length: 7043, dtype: bool"
      ]
     },
     "execution_count": 8,
     "metadata": {},
     "output_type": "execute_result"
    }
   ],
   "source": [
    "pd.to_numeric(df.TotalCharges,errors='coerce').isnull()"
   ]
  },
  {
   "cell_type": "code",
   "execution_count": 9,
   "metadata": {},
   "outputs": [
    {
     "data": {
      "text/html": [
       "<div>\n",
       "<style scoped>\n",
       "    .dataframe tbody tr th:only-of-type {\n",
       "        vertical-align: middle;\n",
       "    }\n",
       "\n",
       "    .dataframe tbody tr th {\n",
       "        vertical-align: top;\n",
       "    }\n",
       "\n",
       "    .dataframe thead th {\n",
       "        text-align: right;\n",
       "    }\n",
       "</style>\n",
       "<table border=\"1\" class=\"dataframe\">\n",
       "  <thead>\n",
       "    <tr style=\"text-align: right;\">\n",
       "      <th></th>\n",
       "      <th>gender</th>\n",
       "      <th>SeniorCitizen</th>\n",
       "      <th>Partner</th>\n",
       "      <th>Dependents</th>\n",
       "      <th>tenure</th>\n",
       "      <th>PhoneService</th>\n",
       "      <th>MultipleLines</th>\n",
       "      <th>InternetService</th>\n",
       "      <th>OnlineSecurity</th>\n",
       "      <th>OnlineBackup</th>\n",
       "      <th>DeviceProtection</th>\n",
       "      <th>TechSupport</th>\n",
       "      <th>StreamingTV</th>\n",
       "      <th>StreamingMovies</th>\n",
       "      <th>Contract</th>\n",
       "      <th>PaperlessBilling</th>\n",
       "      <th>PaymentMethod</th>\n",
       "      <th>MonthlyCharges</th>\n",
       "      <th>TotalCharges</th>\n",
       "      <th>Churn</th>\n",
       "    </tr>\n",
       "  </thead>\n",
       "  <tbody>\n",
       "    <tr>\n",
       "      <th>488</th>\n",
       "      <td>Female</td>\n",
       "      <td>0</td>\n",
       "      <td>Yes</td>\n",
       "      <td>Yes</td>\n",
       "      <td>0</td>\n",
       "      <td>No</td>\n",
       "      <td>No phone service</td>\n",
       "      <td>DSL</td>\n",
       "      <td>Yes</td>\n",
       "      <td>No</td>\n",
       "      <td>Yes</td>\n",
       "      <td>Yes</td>\n",
       "      <td>Yes</td>\n",
       "      <td>No</td>\n",
       "      <td>Two year</td>\n",
       "      <td>Yes</td>\n",
       "      <td>Bank transfer (automatic)</td>\n",
       "      <td>52.55</td>\n",
       "      <td></td>\n",
       "      <td>No</td>\n",
       "    </tr>\n",
       "    <tr>\n",
       "      <th>753</th>\n",
       "      <td>Male</td>\n",
       "      <td>0</td>\n",
       "      <td>No</td>\n",
       "      <td>Yes</td>\n",
       "      <td>0</td>\n",
       "      <td>Yes</td>\n",
       "      <td>No</td>\n",
       "      <td>No</td>\n",
       "      <td>No internet service</td>\n",
       "      <td>No internet service</td>\n",
       "      <td>No internet service</td>\n",
       "      <td>No internet service</td>\n",
       "      <td>No internet service</td>\n",
       "      <td>No internet service</td>\n",
       "      <td>Two year</td>\n",
       "      <td>No</td>\n",
       "      <td>Mailed check</td>\n",
       "      <td>20.25</td>\n",
       "      <td></td>\n",
       "      <td>No</td>\n",
       "    </tr>\n",
       "    <tr>\n",
       "      <th>936</th>\n",
       "      <td>Female</td>\n",
       "      <td>0</td>\n",
       "      <td>Yes</td>\n",
       "      <td>Yes</td>\n",
       "      <td>0</td>\n",
       "      <td>Yes</td>\n",
       "      <td>No</td>\n",
       "      <td>DSL</td>\n",
       "      <td>Yes</td>\n",
       "      <td>Yes</td>\n",
       "      <td>Yes</td>\n",
       "      <td>No</td>\n",
       "      <td>Yes</td>\n",
       "      <td>Yes</td>\n",
       "      <td>Two year</td>\n",
       "      <td>No</td>\n",
       "      <td>Mailed check</td>\n",
       "      <td>80.85</td>\n",
       "      <td></td>\n",
       "      <td>No</td>\n",
       "    </tr>\n",
       "    <tr>\n",
       "      <th>1082</th>\n",
       "      <td>Male</td>\n",
       "      <td>0</td>\n",
       "      <td>Yes</td>\n",
       "      <td>Yes</td>\n",
       "      <td>0</td>\n",
       "      <td>Yes</td>\n",
       "      <td>Yes</td>\n",
       "      <td>No</td>\n",
       "      <td>No internet service</td>\n",
       "      <td>No internet service</td>\n",
       "      <td>No internet service</td>\n",
       "      <td>No internet service</td>\n",
       "      <td>No internet service</td>\n",
       "      <td>No internet service</td>\n",
       "      <td>Two year</td>\n",
       "      <td>No</td>\n",
       "      <td>Mailed check</td>\n",
       "      <td>25.75</td>\n",
       "      <td></td>\n",
       "      <td>No</td>\n",
       "    </tr>\n",
       "    <tr>\n",
       "      <th>1340</th>\n",
       "      <td>Female</td>\n",
       "      <td>0</td>\n",
       "      <td>Yes</td>\n",
       "      <td>Yes</td>\n",
       "      <td>0</td>\n",
       "      <td>No</td>\n",
       "      <td>No phone service</td>\n",
       "      <td>DSL</td>\n",
       "      <td>Yes</td>\n",
       "      <td>Yes</td>\n",
       "      <td>Yes</td>\n",
       "      <td>Yes</td>\n",
       "      <td>Yes</td>\n",
       "      <td>No</td>\n",
       "      <td>Two year</td>\n",
       "      <td>No</td>\n",
       "      <td>Credit card (automatic)</td>\n",
       "      <td>56.05</td>\n",
       "      <td></td>\n",
       "      <td>No</td>\n",
       "    </tr>\n",
       "    <tr>\n",
       "      <th>3331</th>\n",
       "      <td>Male</td>\n",
       "      <td>0</td>\n",
       "      <td>Yes</td>\n",
       "      <td>Yes</td>\n",
       "      <td>0</td>\n",
       "      <td>Yes</td>\n",
       "      <td>No</td>\n",
       "      <td>No</td>\n",
       "      <td>No internet service</td>\n",
       "      <td>No internet service</td>\n",
       "      <td>No internet service</td>\n",
       "      <td>No internet service</td>\n",
       "      <td>No internet service</td>\n",
       "      <td>No internet service</td>\n",
       "      <td>Two year</td>\n",
       "      <td>No</td>\n",
       "      <td>Mailed check</td>\n",
       "      <td>19.85</td>\n",
       "      <td></td>\n",
       "      <td>No</td>\n",
       "    </tr>\n",
       "    <tr>\n",
       "      <th>3826</th>\n",
       "      <td>Male</td>\n",
       "      <td>0</td>\n",
       "      <td>Yes</td>\n",
       "      <td>Yes</td>\n",
       "      <td>0</td>\n",
       "      <td>Yes</td>\n",
       "      <td>Yes</td>\n",
       "      <td>No</td>\n",
       "      <td>No internet service</td>\n",
       "      <td>No internet service</td>\n",
       "      <td>No internet service</td>\n",
       "      <td>No internet service</td>\n",
       "      <td>No internet service</td>\n",
       "      <td>No internet service</td>\n",
       "      <td>Two year</td>\n",
       "      <td>No</td>\n",
       "      <td>Mailed check</td>\n",
       "      <td>25.35</td>\n",
       "      <td></td>\n",
       "      <td>No</td>\n",
       "    </tr>\n",
       "    <tr>\n",
       "      <th>4380</th>\n",
       "      <td>Female</td>\n",
       "      <td>0</td>\n",
       "      <td>Yes</td>\n",
       "      <td>Yes</td>\n",
       "      <td>0</td>\n",
       "      <td>Yes</td>\n",
       "      <td>No</td>\n",
       "      <td>No</td>\n",
       "      <td>No internet service</td>\n",
       "      <td>No internet service</td>\n",
       "      <td>No internet service</td>\n",
       "      <td>No internet service</td>\n",
       "      <td>No internet service</td>\n",
       "      <td>No internet service</td>\n",
       "      <td>Two year</td>\n",
       "      <td>No</td>\n",
       "      <td>Mailed check</td>\n",
       "      <td>20.00</td>\n",
       "      <td></td>\n",
       "      <td>No</td>\n",
       "    </tr>\n",
       "    <tr>\n",
       "      <th>5218</th>\n",
       "      <td>Male</td>\n",
       "      <td>0</td>\n",
       "      <td>Yes</td>\n",
       "      <td>Yes</td>\n",
       "      <td>0</td>\n",
       "      <td>Yes</td>\n",
       "      <td>No</td>\n",
       "      <td>No</td>\n",
       "      <td>No internet service</td>\n",
       "      <td>No internet service</td>\n",
       "      <td>No internet service</td>\n",
       "      <td>No internet service</td>\n",
       "      <td>No internet service</td>\n",
       "      <td>No internet service</td>\n",
       "      <td>One year</td>\n",
       "      <td>Yes</td>\n",
       "      <td>Mailed check</td>\n",
       "      <td>19.70</td>\n",
       "      <td></td>\n",
       "      <td>No</td>\n",
       "    </tr>\n",
       "    <tr>\n",
       "      <th>6670</th>\n",
       "      <td>Female</td>\n",
       "      <td>0</td>\n",
       "      <td>Yes</td>\n",
       "      <td>Yes</td>\n",
       "      <td>0</td>\n",
       "      <td>Yes</td>\n",
       "      <td>Yes</td>\n",
       "      <td>DSL</td>\n",
       "      <td>No</td>\n",
       "      <td>Yes</td>\n",
       "      <td>Yes</td>\n",
       "      <td>Yes</td>\n",
       "      <td>Yes</td>\n",
       "      <td>No</td>\n",
       "      <td>Two year</td>\n",
       "      <td>No</td>\n",
       "      <td>Mailed check</td>\n",
       "      <td>73.35</td>\n",
       "      <td></td>\n",
       "      <td>No</td>\n",
       "    </tr>\n",
       "    <tr>\n",
       "      <th>6754</th>\n",
       "      <td>Male</td>\n",
       "      <td>0</td>\n",
       "      <td>No</td>\n",
       "      <td>Yes</td>\n",
       "      <td>0</td>\n",
       "      <td>Yes</td>\n",
       "      <td>Yes</td>\n",
       "      <td>DSL</td>\n",
       "      <td>Yes</td>\n",
       "      <td>Yes</td>\n",
       "      <td>No</td>\n",
       "      <td>Yes</td>\n",
       "      <td>No</td>\n",
       "      <td>No</td>\n",
       "      <td>Two year</td>\n",
       "      <td>Yes</td>\n",
       "      <td>Bank transfer (automatic)</td>\n",
       "      <td>61.90</td>\n",
       "      <td></td>\n",
       "      <td>No</td>\n",
       "    </tr>\n",
       "  </tbody>\n",
       "</table>\n",
       "</div>"
      ],
      "text/plain": [
       "      gender  SeniorCitizen Partner Dependents  tenure PhoneService  \\\n",
       "488   Female              0     Yes        Yes       0           No   \n",
       "753     Male              0      No        Yes       0          Yes   \n",
       "936   Female              0     Yes        Yes       0          Yes   \n",
       "1082    Male              0     Yes        Yes       0          Yes   \n",
       "1340  Female              0     Yes        Yes       0           No   \n",
       "3331    Male              0     Yes        Yes       0          Yes   \n",
       "3826    Male              0     Yes        Yes       0          Yes   \n",
       "4380  Female              0     Yes        Yes       0          Yes   \n",
       "5218    Male              0     Yes        Yes       0          Yes   \n",
       "6670  Female              0     Yes        Yes       0          Yes   \n",
       "6754    Male              0      No        Yes       0          Yes   \n",
       "\n",
       "         MultipleLines InternetService       OnlineSecurity  \\\n",
       "488   No phone service             DSL                  Yes   \n",
       "753                 No              No  No internet service   \n",
       "936                 No             DSL                  Yes   \n",
       "1082               Yes              No  No internet service   \n",
       "1340  No phone service             DSL                  Yes   \n",
       "3331                No              No  No internet service   \n",
       "3826               Yes              No  No internet service   \n",
       "4380                No              No  No internet service   \n",
       "5218                No              No  No internet service   \n",
       "6670               Yes             DSL                   No   \n",
       "6754               Yes             DSL                  Yes   \n",
       "\n",
       "             OnlineBackup     DeviceProtection          TechSupport  \\\n",
       "488                    No                  Yes                  Yes   \n",
       "753   No internet service  No internet service  No internet service   \n",
       "936                   Yes                  Yes                   No   \n",
       "1082  No internet service  No internet service  No internet service   \n",
       "1340                  Yes                  Yes                  Yes   \n",
       "3331  No internet service  No internet service  No internet service   \n",
       "3826  No internet service  No internet service  No internet service   \n",
       "4380  No internet service  No internet service  No internet service   \n",
       "5218  No internet service  No internet service  No internet service   \n",
       "6670                  Yes                  Yes                  Yes   \n",
       "6754                  Yes                   No                  Yes   \n",
       "\n",
       "              StreamingTV      StreamingMovies  Contract PaperlessBilling  \\\n",
       "488                   Yes                   No  Two year              Yes   \n",
       "753   No internet service  No internet service  Two year               No   \n",
       "936                   Yes                  Yes  Two year               No   \n",
       "1082  No internet service  No internet service  Two year               No   \n",
       "1340                  Yes                   No  Two year               No   \n",
       "3331  No internet service  No internet service  Two year               No   \n",
       "3826  No internet service  No internet service  Two year               No   \n",
       "4380  No internet service  No internet service  Two year               No   \n",
       "5218  No internet service  No internet service  One year              Yes   \n",
       "6670                  Yes                   No  Two year               No   \n",
       "6754                   No                   No  Two year              Yes   \n",
       "\n",
       "                  PaymentMethod  MonthlyCharges TotalCharges Churn  \n",
       "488   Bank transfer (automatic)           52.55                 No  \n",
       "753                Mailed check           20.25                 No  \n",
       "936                Mailed check           80.85                 No  \n",
       "1082               Mailed check           25.75                 No  \n",
       "1340    Credit card (automatic)           56.05                 No  \n",
       "3331               Mailed check           19.85                 No  \n",
       "3826               Mailed check           25.35                 No  \n",
       "4380               Mailed check           20.00                 No  \n",
       "5218               Mailed check           19.70                 No  \n",
       "6670               Mailed check           73.35                 No  \n",
       "6754  Bank transfer (automatic)           61.90                 No  "
      ]
     },
     "execution_count": 9,
     "metadata": {},
     "output_type": "execute_result"
    }
   ],
   "source": [
    "df[pd.to_numeric(df.TotalCharges,errors='coerce').isnull()]"
   ]
  },
  {
   "cell_type": "code",
   "execution_count": 10,
   "metadata": {},
   "outputs": [
    {
     "data": {
      "text/plain": [
       "(11, 20)"
      ]
     },
     "execution_count": 10,
     "metadata": {},
     "output_type": "execute_result"
    }
   ],
   "source": [
    "df[pd.to_numeric(df.TotalCharges,errors='coerce').isnull()].shape"
   ]
  },
  {
   "cell_type": "code",
   "execution_count": 11,
   "metadata": {},
   "outputs": [
    {
     "data": {
      "text/plain": [
       "(7043, 20)"
      ]
     },
     "execution_count": 11,
     "metadata": {},
     "output_type": "execute_result"
    }
   ],
   "source": [
    "df.shape"
   ]
  },
  {
   "cell_type": "code",
   "execution_count": 12,
   "metadata": {},
   "outputs": [
    {
     "data": {
      "text/plain": [
       "' '"
      ]
     },
     "execution_count": 12,
     "metadata": {},
     "output_type": "execute_result"
    }
   ],
   "source": [
    "df.iloc[488]['TotalCharges']"
   ]
  },
  {
   "cell_type": "code",
   "execution_count": 13,
   "metadata": {},
   "outputs": [
    {
     "data": {
      "text/plain": [
       "(7032, 20)"
      ]
     },
     "execution_count": 13,
     "metadata": {},
     "output_type": "execute_result"
    }
   ],
   "source": [
    "df1=df[df.TotalCharges != ' ']\n",
    "df1.shape"
   ]
  },
  {
   "cell_type": "code",
   "execution_count": 14,
   "metadata": {},
   "outputs": [
    {
     "data": {
      "text/plain": [
       "gender               object\n",
       "SeniorCitizen         int64\n",
       "Partner              object\n",
       "Dependents           object\n",
       "tenure                int64\n",
       "PhoneService         object\n",
       "MultipleLines        object\n",
       "InternetService      object\n",
       "OnlineSecurity       object\n",
       "OnlineBackup         object\n",
       "DeviceProtection     object\n",
       "TechSupport          object\n",
       "StreamingTV          object\n",
       "StreamingMovies      object\n",
       "Contract             object\n",
       "PaperlessBilling     object\n",
       "PaymentMethod        object\n",
       "MonthlyCharges      float64\n",
       "TotalCharges         object\n",
       "Churn                object\n",
       "dtype: object"
      ]
     },
     "execution_count": 14,
     "metadata": {},
     "output_type": "execute_result"
    }
   ],
   "source": [
    "df1.dtypes"
   ]
  },
  {
   "cell_type": "code",
   "execution_count": 15,
   "metadata": {},
   "outputs": [
    {
     "name": "stderr",
     "output_type": "stream",
     "text": [
      "C:\\Users\\shavej shaikh\\AppData\\Local\\Programs\\Python\\Python37\\lib\\site-packages\\pandas\\core\\generic.py:5303: SettingWithCopyWarning: \n",
      "A value is trying to be set on a copy of a slice from a DataFrame.\n",
      "Try using .loc[row_indexer,col_indexer] = value instead\n",
      "\n",
      "See the caveats in the documentation: https://pandas.pydata.org/pandas-docs/stable/user_guide/indexing.html#returning-a-view-versus-a-copy\n",
      "  self[name] = value\n"
     ]
    }
   ],
   "source": [
    "df1.TotalCharges = pd.to_numeric(df1.TotalCharges)"
   ]
  },
  {
   "cell_type": "code",
   "execution_count": 16,
   "metadata": {},
   "outputs": [
    {
     "data": {
      "text/plain": [
       "gender               object\n",
       "SeniorCitizen         int64\n",
       "Partner              object\n",
       "Dependents           object\n",
       "tenure                int64\n",
       "PhoneService         object\n",
       "MultipleLines        object\n",
       "InternetService      object\n",
       "OnlineSecurity       object\n",
       "OnlineBackup         object\n",
       "DeviceProtection     object\n",
       "TechSupport          object\n",
       "StreamingTV          object\n",
       "StreamingMovies      object\n",
       "Contract             object\n",
       "PaperlessBilling     object\n",
       "PaymentMethod        object\n",
       "MonthlyCharges      float64\n",
       "TotalCharges        float64\n",
       "Churn                object\n",
       "dtype: object"
      ]
     },
     "execution_count": 16,
     "metadata": {},
     "output_type": "execute_result"
    }
   ],
   "source": [
    "df1.dtypes"
   ]
  },
  {
   "cell_type": "code",
   "execution_count": 17,
   "metadata": {},
   "outputs": [],
   "source": [
    "# Visualizations"
   ]
  },
  {
   "cell_type": "code",
   "execution_count": 18,
   "metadata": {},
   "outputs": [],
   "source": [
    "tenureChurnNo = df1[df1.Churn == 'No'].tenure\n",
    "tenureChurnYes= df1[df1.Churn == 'Yes'].tenure"
   ]
  },
  {
   "cell_type": "code",
   "execution_count": 19,
   "metadata": {},
   "outputs": [
    {
     "data": {
      "text/plain": [
       "<matplotlib.legend.Legend at 0x1f36d0256a0>"
      ]
     },
     "execution_count": 19,
     "metadata": {},
     "output_type": "execute_result"
    },
    {
     "data": {
      "image/png": "[encoded data removed]",
      "text/plain": [
       "<Figure size 432x288 with 1 Axes>"
      ]
     },
     "metadata": {
      "needs_background": "light"
     },
     "output_type": "display_data"
    }
   ],
   "source": [
    "plt.xlabel(\"Tenure\")\n",
    "plt.ylabel(\"No of Customer\")\n",
    "plt.hist([tenureChurnYes,tenureChurnNo],color=['green','red'],label=['Churn-Yes','Churn-No'])\n",
    "plt.legend()"
   ]
  },
  {
   "cell_type": "code",
   "execution_count": 20,
   "metadata": {},
   "outputs": [],
   "source": [
    "# Montly Charges Vs Tenure"
   ]
  },
  {
   "cell_type": "code",
   "execution_count": 21,
   "metadata": {},
   "outputs": [
    {
     "data": {
      "text/plain": [
       "<matplotlib.legend.Legend at 0x1f36d0c32e8>"
      ]
     },
     "execution_count": 21,
     "metadata": {},
     "output_type": "execute_result"
    },
    {
     "data": {
      "image/png": "[encoded data removed]",
      "text/plain": [
       "<Figure size 432x288 with 1 Axes>"
      ]
     },
     "metadata": {
      "needs_background": "light"
     },
     "output_type": "display_data"
    }
   ],
   "source": [
    "MonthlyCharChurnNo = df1[df1.Churn == 'No'].MonthlyCharges\n",
    "MonthlyCharChurnYes= df1[df1.Churn == 'Yes'].MonthlyCharges\n",
    "\n",
    "plt.xlabel(\"Monthly Charges\")\n",
    "plt.ylabel(\"No of Customer\")\n",
    "\n",
    "plt.hist([MonthlyCharChurnYes,MonthlyCharChurnNo],color=['green','red'],label=['Churn-Yes','Churn-No'])\n",
    "plt.legend()"
   ]
  },
  {
   "cell_type": "code",
   "execution_count": 22,
   "metadata": {},
   "outputs": [],
   "source": [
    "def printUniqueValues(df):\n",
    "    for columns in df:\n",
    "        if df[columns].dtype == 'object':\n",
    "            print(f'{columns} : {df[columns].unique()}')"
   ]
  },
  {
   "cell_type": "code",
   "execution_count": 23,
   "metadata": {},
   "outputs": [
    {
     "name": "stdout",
     "output_type": "stream",
     "text": [
      "gender : ['Female' 'Male']\n",
      "Partner : ['Yes' 'No']\n",
      "Dependents : ['No' 'Yes']\n",
      "PhoneService : ['No' 'Yes']\n",
      "MultipleLines : ['No phone service' 'No' 'Yes']\n",
      "InternetService : ['DSL' 'Fiber optic' 'No']\n",
      "OnlineSecurity : ['No' 'Yes' 'No internet service']\n",
      "OnlineBackup : ['Yes' 'No' 'No internet service']\n",
      "DeviceProtection : ['No' 'Yes' 'No internet service']\n",
      "TechSupport : ['No' 'Yes' 'No internet service']\n",
      "StreamingTV : ['No' 'Yes' 'No internet service']\n",
      "StreamingMovies : ['No' 'Yes' 'No internet service']\n",
      "Contract : ['Month-to-month' 'One year' 'Two year']\n",
      "PaperlessBilling : ['Yes' 'No']\n",
      "PaymentMethod : ['Electronic check' 'Mailed check' 'Bank transfer (automatic)'\n",
      " 'Credit card (automatic)']\n",
      "Churn : ['No' 'Yes']\n"
     ]
    }
   ],
   "source": [
    "printUniqueValues(df1)"
   ]
  },
  {
   "cell_type": "code",
   "execution_count": 24,
   "metadata": {},
   "outputs": [
    {
     "name": "stderr",
     "output_type": "stream",
     "text": [
      "C:\\Users\\shavej shaikh\\AppData\\Local\\Programs\\Python\\Python37\\lib\\site-packages\\pandas\\core\\frame.py:4172: SettingWithCopyWarning: \n",
      "A value is trying to be set on a copy of a slice from a DataFrame\n",
      "\n",
      "See the caveats in the documentation: https://pandas.pydata.org/pandas-docs/stable/user_guide/indexing.html#returning-a-view-versus-a-copy\n",
      "  method=method,\n"
     ]
    }
   ],
   "source": [
    "df1.replace('No internet service','No',inplace=True)"
   ]
  },
  {
   "cell_type": "code",
   "execution_count": 25,
   "metadata": {},
   "outputs": [
    {
     "name": "stdout",
     "output_type": "stream",
     "text": [
      "gender : ['Female' 'Male']\n",
      "Partner : ['Yes' 'No']\n",
      "Dependents : ['No' 'Yes']\n",
      "PhoneService : ['No' 'Yes']\n",
      "MultipleLines : ['No phone service' 'No' 'Yes']\n",
      "InternetService : ['DSL' 'Fiber optic' 'No']\n",
      "OnlineSecurity : ['No' 'Yes']\n",
      "OnlineBackup : ['Yes' 'No']\n",
      "DeviceProtection : ['No' 'Yes']\n",
      "TechSupport : ['No' 'Yes']\n",
      "StreamingTV : ['No' 'Yes']\n",
      "StreamingMovies : ['No' 'Yes']\n",
      "Contract : ['Month-to-month' 'One year' 'Two year']\n",
      "PaperlessBilling : ['Yes' 'No']\n",
      "PaymentMethod : ['Electronic check' 'Mailed check' 'Bank transfer (automatic)'\n",
      " 'Credit card (automatic)']\n",
      "Churn : ['No' 'Yes']\n"
     ]
    }
   ],
   "source": [
    "printUniqueValues(df1)"
   ]
  },
  {
   "cell_type": "code",
   "execution_count": 26,
   "metadata": {},
   "outputs": [],
   "source": [
    "df1.replace('No phone service','No',inplace=True)"
   ]
  },
  {
   "cell_type": "code",
   "execution_count": 27,
   "metadata": {},
   "outputs": [
    {
     "name": "stdout",
     "output_type": "stream",
     "text": [
      "gender : ['Female' 'Male']\n",
      "Partner : ['Yes' 'No']\n",
      "Dependents : ['No' 'Yes']\n",
      "PhoneService : ['No' 'Yes']\n",
      "MultipleLines : ['No' 'Yes']\n",
      "InternetService : ['DSL' 'Fiber optic' 'No']\n",
      "OnlineSecurity : ['No' 'Yes']\n",
      "OnlineBackup : ['Yes' 'No']\n",
      "DeviceProtection : ['No' 'Yes']\n",
      "TechSupport : ['No' 'Yes']\n",
      "StreamingTV : ['No' 'Yes']\n",
      "StreamingMovies : ['No' 'Yes']\n",
      "Contract : ['Month-to-month' 'One year' 'Two year']\n",
      "PaperlessBilling : ['Yes' 'No']\n",
      "PaymentMethod : ['Electronic check' 'Mailed check' 'Bank transfer (automatic)'\n",
      " 'Credit card (automatic)']\n",
      "Churn : ['No' 'Yes']\n"
     ]
    }
   ],
   "source": [
    "printUniqueValues(df1)"
   ]
  },
  {
   "cell_type": "code",
   "execution_count": 28,
   "metadata": {},
   "outputs": [
    {
     "name": "stderr",
     "output_type": "stream",
     "text": [
      "C:\\Users\\shavej shaikh\\AppData\\Local\\Programs\\Python\\Python37\\lib\\site-packages\\pandas\\core\\generic.py:6746: SettingWithCopyWarning: \n",
      "A value is trying to be set on a copy of a slice from a DataFrame\n",
      "\n",
      "See the caveats in the documentation: https://pandas.pydata.org/pandas-docs/stable/user_guide/indexing.html#returning-a-view-versus-a-copy\n",
      "  self._update_inplace(new_data)\n"
     ]
    }
   ],
   "source": [
    "yes_no_col = ['Partner','Dependents','PhoneService','MultipleLines','OnlineSecurity',\n",
    "              'OnlineBackup','DeviceProtection','TechSupport','StreamingTV','StreamingMovies',\n",
    "              'PaperlessBilling','Churn']\n",
    "\n",
    "for col in yes_no_col:\n",
    "    df1[col].replace({'Yes':1,\"No\":0},inplace=True)"
   ]
  },
  {
   "cell_type": "code",
   "execution_count": 29,
   "metadata": {},
   "outputs": [
    {
     "name": "stdout",
     "output_type": "stream",
     "text": [
      "gender : ['Female' 'Male']\n",
      "InternetService : ['DSL' 'Fiber optic' 'No']\n",
      "Contract : ['Month-to-month' 'One year' 'Two year']\n",
      "PaymentMethod : ['Electronic check' 'Mailed check' 'Bank transfer (automatic)'\n",
      " 'Credit card (automatic)']\n"
     ]
    }
   ],
   "source": [
    "printUniqueValues(df1)"
   ]
  },
  {
   "cell_type": "code",
   "execution_count": 30,
   "metadata": {},
   "outputs": [],
   "source": [
    "df1['gender'].replace({'Male':1,'Female':0},inplace=True)"
   ]
  },
  {
   "cell_type": "code",
   "execution_count": 31,
   "metadata": {},
   "outputs": [
    {
     "data": {
      "text/plain": [
       "array([0, 1], dtype=int64)"
      ]
     },
     "execution_count": 31,
     "metadata": {},
     "output_type": "execute_result"
    }
   ],
   "source": [
    "df1.gender.unique()"
   ]
  },
  {
   "cell_type": "code",
   "execution_count": 32,
   "metadata": {},
   "outputs": [
    {
     "name": "stdout",
     "output_type": "stream",
     "text": [
      "InternetService : ['DSL' 'Fiber optic' 'No']\n",
      "Contract : ['Month-to-month' 'One year' 'Two year']\n",
      "PaymentMethod : ['Electronic check' 'Mailed check' 'Bank transfer (automatic)'\n",
      " 'Credit card (automatic)']\n"
     ]
    }
   ],
   "source": [
    "printUniqueValues(df1)"
   ]
  },
  {
   "cell_type": "code",
   "execution_count": 33,
   "metadata": {},
   "outputs": [
    {
     "data": {
      "text/plain": [
       "Index(['gender', 'SeniorCitizen', 'Partner', 'Dependents', 'tenure',\n",
       "       'PhoneService', 'MultipleLines', 'OnlineSecurity', 'OnlineBackup',\n",
       "       'DeviceProtection', 'TechSupport', 'StreamingTV', 'StreamingMovies',\n",
       "       'PaperlessBilling', 'MonthlyCharges', 'TotalCharges', 'Churn',\n",
       "       'InternetService_DSL', 'InternetService_Fiber optic',\n",
       "       'InternetService_No', 'Contract_Month-to-month', 'Contract_One year',\n",
       "       'Contract_Two year', 'PaymentMethod_Bank transfer (automatic)',\n",
       "       'PaymentMethod_Credit card (automatic)',\n",
       "       'PaymentMethod_Electronic check', 'PaymentMethod_Mailed check'],\n",
       "      dtype='object')"
      ]
     },
     "execution_count": 33,
     "metadata": {},
     "output_type": "execute_result"
    }
   ],
   "source": [
    "df2=pd.get_dummies(data=df1,columns=['InternetService','Contract','PaymentMethod'])\n",
    "df2.columns"
   ]
  },
  {
   "cell_type": "code",
   "execution_count": 34,
   "metadata": {},
   "outputs": [
    {
     "data": {
      "text/plain": [
       "gender                                       int64\n",
       "SeniorCitizen                                int64\n",
       "Partner                                      int64\n",
       "Dependents                                   int64\n",
       "tenure                                       int64\n",
       "PhoneService                                 int64\n",
       "MultipleLines                                int64\n",
       "OnlineSecurity                               int64\n",
       "OnlineBackup                                 int64\n",
       "DeviceProtection                             int64\n",
       "TechSupport                                  int64\n",
       "StreamingTV                                  int64\n",
       "StreamingMovies                              int64\n",
       "PaperlessBilling                             int64\n",
       "MonthlyCharges                             float64\n",
       "TotalCharges                               float64\n",
       "Churn                                        int64\n",
       "InternetService_DSL                          uint8\n",
       "InternetService_Fiber optic                  uint8\n",
       "InternetService_No                           uint8\n",
       "Contract_Month-to-month                      uint8\n",
       "Contract_One year                            uint8\n",
       "Contract_Two year                            uint8\n",
       "PaymentMethod_Bank transfer (automatic)      uint8\n",
       "PaymentMethod_Credit card (automatic)        uint8\n",
       "PaymentMethod_Electronic check               uint8\n",
       "PaymentMethod_Mailed check                   uint8\n",
       "dtype: object"
      ]
     },
     "execution_count": 34,
     "metadata": {},
     "output_type": "execute_result"
    }
   ],
   "source": [
    "df2.dtypes"
   ]
  },
  {
   "cell_type": "code",
   "execution_count": 35,
   "metadata": {},
   "outputs": [
    {
     "data": {
      "text/html": [
       "<div>\n",
       "<style scoped>\n",
       "    .dataframe tbody tr th:only-of-type {\n",
       "        vertical-align: middle;\n",
       "    }\n",
       "\n",
       "    .dataframe tbody tr th {\n",
       "        vertical-align: top;\n",
       "    }\n",
       "\n",
       "    .dataframe thead th {\n",
       "        text-align: right;\n",
       "    }\n",
       "</style>\n",
       "<table border=\"1\" class=\"dataframe\">\n",
       "  <thead>\n",
       "    <tr style=\"text-align: right;\">\n",
       "      <th></th>\n",
       "      <th>gender</th>\n",
       "      <th>SeniorCitizen</th>\n",
       "      <th>Partner</th>\n",
       "      <th>Dependents</th>\n",
       "      <th>tenure</th>\n",
       "      <th>PhoneService</th>\n",
       "      <th>MultipleLines</th>\n",
       "      <th>OnlineSecurity</th>\n",
       "      <th>OnlineBackup</th>\n",
       "      <th>DeviceProtection</th>\n",
       "      <th>...</th>\n",
       "      <th>InternetService_DSL</th>\n",
       "      <th>InternetService_Fiber optic</th>\n",
       "      <th>InternetService_No</th>\n",
       "      <th>Contract_Month-to-month</th>\n",
       "      <th>Contract_One year</th>\n",
       "      <th>Contract_Two year</th>\n",
       "      <th>PaymentMethod_Bank transfer (automatic)</th>\n",
       "      <th>PaymentMethod_Credit card (automatic)</th>\n",
       "      <th>PaymentMethod_Electronic check</th>\n",
       "      <th>PaymentMethod_Mailed check</th>\n",
       "    </tr>\n",
       "  </thead>\n",
       "  <tbody>\n",
       "    <tr>\n",
       "      <th>1596</th>\n",
       "      <td>0</td>\n",
       "      <td>0</td>\n",
       "      <td>1</td>\n",
       "      <td>0</td>\n",
       "      <td>2</td>\n",
       "      <td>1</td>\n",
       "      <td>0</td>\n",
       "      <td>0</td>\n",
       "      <td>0</td>\n",
       "      <td>0</td>\n",
       "      <td>...</td>\n",
       "      <td>0</td>\n",
       "      <td>1</td>\n",
       "      <td>0</td>\n",
       "      <td>1</td>\n",
       "      <td>0</td>\n",
       "      <td>0</td>\n",
       "      <td>0</td>\n",
       "      <td>0</td>\n",
       "      <td>1</td>\n",
       "      <td>0</td>\n",
       "    </tr>\n",
       "    <tr>\n",
       "      <th>381</th>\n",
       "      <td>1</td>\n",
       "      <td>0</td>\n",
       "      <td>0</td>\n",
       "      <td>0</td>\n",
       "      <td>1</td>\n",
       "      <td>1</td>\n",
       "      <td>0</td>\n",
       "      <td>0</td>\n",
       "      <td>1</td>\n",
       "      <td>0</td>\n",
       "      <td>...</td>\n",
       "      <td>1</td>\n",
       "      <td>0</td>\n",
       "      <td>0</td>\n",
       "      <td>1</td>\n",
       "      <td>0</td>\n",
       "      <td>0</td>\n",
       "      <td>0</td>\n",
       "      <td>0</td>\n",
       "      <td>0</td>\n",
       "      <td>1</td>\n",
       "    </tr>\n",
       "    <tr>\n",
       "      <th>5260</th>\n",
       "      <td>0</td>\n",
       "      <td>0</td>\n",
       "      <td>0</td>\n",
       "      <td>0</td>\n",
       "      <td>33</td>\n",
       "      <td>1</td>\n",
       "      <td>1</td>\n",
       "      <td>1</td>\n",
       "      <td>0</td>\n",
       "      <td>0</td>\n",
       "      <td>...</td>\n",
       "      <td>0</td>\n",
       "      <td>1</td>\n",
       "      <td>0</td>\n",
       "      <td>1</td>\n",
       "      <td>0</td>\n",
       "      <td>0</td>\n",
       "      <td>0</td>\n",
       "      <td>0</td>\n",
       "      <td>1</td>\n",
       "      <td>0</td>\n",
       "    </tr>\n",
       "    <tr>\n",
       "      <th>2394</th>\n",
       "      <td>1</td>\n",
       "      <td>0</td>\n",
       "      <td>0</td>\n",
       "      <td>0</td>\n",
       "      <td>71</td>\n",
       "      <td>1</td>\n",
       "      <td>1</td>\n",
       "      <td>0</td>\n",
       "      <td>1</td>\n",
       "      <td>0</td>\n",
       "      <td>...</td>\n",
       "      <td>0</td>\n",
       "      <td>1</td>\n",
       "      <td>0</td>\n",
       "      <td>0</td>\n",
       "      <td>1</td>\n",
       "      <td>0</td>\n",
       "      <td>0</td>\n",
       "      <td>1</td>\n",
       "      <td>0</td>\n",
       "      <td>0</td>\n",
       "    </tr>\n",
       "  </tbody>\n",
       "</table>\n",
       "<p>4 rows × 27 columns</p>\n",
       "</div>"
      ],
      "text/plain": [
       "      gender  SeniorCitizen  Partner  Dependents  tenure  PhoneService  \\\n",
       "1596       0              0        1           0       2             1   \n",
       "381        1              0        0           0       1             1   \n",
       "5260       0              0        0           0      33             1   \n",
       "2394       1              0        0           0      71             1   \n",
       "\n",
       "      MultipleLines  OnlineSecurity  OnlineBackup  DeviceProtection  ...  \\\n",
       "1596              0               0             0                 0  ...   \n",
       "381               0               0             1                 0  ...   \n",
       "5260              1               1             0                 0  ...   \n",
       "2394              1               0             1                 0  ...   \n",
       "\n",
       "      InternetService_DSL  InternetService_Fiber optic  InternetService_No  \\\n",
       "1596                    0                            1                   0   \n",
       "381                     1                            0                   0   \n",
       "5260                    0                            1                   0   \n",
       "2394                    0                            1                   0   \n",
       "\n",
       "      Contract_Month-to-month  Contract_One year  Contract_Two year  \\\n",
       "1596                        1                  0                  0   \n",
       "381                         1                  0                  0   \n",
       "5260                        1                  0                  0   \n",
       "2394                        0                  1                  0   \n",
       "\n",
       "      PaymentMethod_Bank transfer (automatic)  \\\n",
       "1596                                        0   \n",
       "381                                         0   \n",
       "5260                                        0   \n",
       "2394                                        0   \n",
       "\n",
       "      PaymentMethod_Credit card (automatic)  PaymentMethod_Electronic check  \\\n",
       "1596                                      0                               1   \n",
       "381                                       0                               0   \n",
       "5260                                      0                               1   \n",
       "2394                                      1                               0   \n",
       "\n",
       "      PaymentMethod_Mailed check  \n",
       "1596                           0  \n",
       "381                            1  \n",
       "5260                           0  \n",
       "2394                           0  \n",
       "\n",
       "[4 rows x 27 columns]"
      ]
     },
     "execution_count": 35,
     "metadata": {},
     "output_type": "execute_result"
    }
   ],
   "source": [
    "df2.sample(4)"
   ]
  },
  {
   "cell_type": "code",
   "execution_count": 36,
   "metadata": {},
   "outputs": [],
   "source": [
    "# To scale number in minmaxScalar form [0-1]\n",
    "cols_to_scale = ['tenure','MonthlyCharges','TotalCharges']\n",
    "\n",
    "from sklearn.preprocessing import MinMaxScaler\n",
    "scaler = MinMaxScaler()\n",
    "\n",
    "df2[cols_to_scale] = scaler.fit_transform(df2[cols_to_scale])"
   ]
  },
  {
   "cell_type": "code",
   "execution_count": 37,
   "metadata": {},
   "outputs": [
    {
     "data": {
      "text/html": [
       "<div>\n",
       "<style scoped>\n",
       "    .dataframe tbody tr th:only-of-type {\n",
       "        vertical-align: middle;\n",
       "    }\n",
       "\n",
       "    .dataframe tbody tr th {\n",
       "        vertical-align: top;\n",
       "    }\n",
       "\n",
       "    .dataframe thead th {\n",
       "        text-align: right;\n",
       "    }\n",
       "</style>\n",
       "<table border=\"1\" class=\"dataframe\">\n",
       "  <thead>\n",
       "    <tr style=\"text-align: right;\">\n",
       "      <th></th>\n",
       "      <th>gender</th>\n",
       "      <th>SeniorCitizen</th>\n",
       "      <th>Partner</th>\n",
       "      <th>Dependents</th>\n",
       "      <th>tenure</th>\n",
       "      <th>PhoneService</th>\n",
       "      <th>MultipleLines</th>\n",
       "      <th>OnlineSecurity</th>\n",
       "      <th>OnlineBackup</th>\n",
       "      <th>DeviceProtection</th>\n",
       "      <th>...</th>\n",
       "      <th>InternetService_DSL</th>\n",
       "      <th>InternetService_Fiber optic</th>\n",
       "      <th>InternetService_No</th>\n",
       "      <th>Contract_Month-to-month</th>\n",
       "      <th>Contract_One year</th>\n",
       "      <th>Contract_Two year</th>\n",
       "      <th>PaymentMethod_Bank transfer (automatic)</th>\n",
       "      <th>PaymentMethod_Credit card (automatic)</th>\n",
       "      <th>PaymentMethod_Electronic check</th>\n",
       "      <th>PaymentMethod_Mailed check</th>\n",
       "    </tr>\n",
       "  </thead>\n",
       "  <tbody>\n",
       "    <tr>\n",
       "      <th>4995</th>\n",
       "      <td>0</td>\n",
       "      <td>0</td>\n",
       "      <td>0</td>\n",
       "      <td>0</td>\n",
       "      <td>0.084507</td>\n",
       "      <td>1</td>\n",
       "      <td>1</td>\n",
       "      <td>0</td>\n",
       "      <td>0</td>\n",
       "      <td>0</td>\n",
       "      <td>...</td>\n",
       "      <td>0</td>\n",
       "      <td>1</td>\n",
       "      <td>0</td>\n",
       "      <td>1</td>\n",
       "      <td>0</td>\n",
       "      <td>0</td>\n",
       "      <td>1</td>\n",
       "      <td>0</td>\n",
       "      <td>0</td>\n",
       "      <td>0</td>\n",
       "    </tr>\n",
       "    <tr>\n",
       "      <th>1691</th>\n",
       "      <td>1</td>\n",
       "      <td>0</td>\n",
       "      <td>1</td>\n",
       "      <td>1</td>\n",
       "      <td>0.830986</td>\n",
       "      <td>1</td>\n",
       "      <td>0</td>\n",
       "      <td>0</td>\n",
       "      <td>0</td>\n",
       "      <td>0</td>\n",
       "      <td>...</td>\n",
       "      <td>0</td>\n",
       "      <td>0</td>\n",
       "      <td>1</td>\n",
       "      <td>0</td>\n",
       "      <td>0</td>\n",
       "      <td>1</td>\n",
       "      <td>0</td>\n",
       "      <td>1</td>\n",
       "      <td>0</td>\n",
       "      <td>0</td>\n",
       "    </tr>\n",
       "    <tr>\n",
       "      <th>1255</th>\n",
       "      <td>0</td>\n",
       "      <td>0</td>\n",
       "      <td>0</td>\n",
       "      <td>0</td>\n",
       "      <td>0.014085</td>\n",
       "      <td>0</td>\n",
       "      <td>0</td>\n",
       "      <td>0</td>\n",
       "      <td>0</td>\n",
       "      <td>0</td>\n",
       "      <td>...</td>\n",
       "      <td>1</td>\n",
       "      <td>0</td>\n",
       "      <td>0</td>\n",
       "      <td>1</td>\n",
       "      <td>0</td>\n",
       "      <td>0</td>\n",
       "      <td>0</td>\n",
       "      <td>0</td>\n",
       "      <td>1</td>\n",
       "      <td>0</td>\n",
       "    </tr>\n",
       "  </tbody>\n",
       "</table>\n",
       "<p>3 rows × 27 columns</p>\n",
       "</div>"
      ],
      "text/plain": [
       "      gender  SeniorCitizen  Partner  Dependents    tenure  PhoneService  \\\n",
       "4995       0              0        0           0  0.084507             1   \n",
       "1691       1              0        1           1  0.830986             1   \n",
       "1255       0              0        0           0  0.014085             0   \n",
       "\n",
       "      MultipleLines  OnlineSecurity  OnlineBackup  DeviceProtection  ...  \\\n",
       "4995              1               0             0                 0  ...   \n",
       "1691              0               0             0                 0  ...   \n",
       "1255              0               0             0                 0  ...   \n",
       "\n",
       "      InternetService_DSL  InternetService_Fiber optic  InternetService_No  \\\n",
       "4995                    0                            1                   0   \n",
       "1691                    0                            0                   1   \n",
       "1255                    1                            0                   0   \n",
       "\n",
       "      Contract_Month-to-month  Contract_One year  Contract_Two year  \\\n",
       "4995                        1                  0                  0   \n",
       "1691                        0                  0                  1   \n",
       "1255                        1                  0                  0   \n",
       "\n",
       "      PaymentMethod_Bank transfer (automatic)  \\\n",
       "4995                                        1   \n",
       "1691                                        0   \n",
       "1255                                        0   \n",
       "\n",
       "      PaymentMethod_Credit card (automatic)  PaymentMethod_Electronic check  \\\n",
       "4995                                      0                               0   \n",
       "1691                                      1                               0   \n",
       "1255                                      0                               1   \n",
       "\n",
       "      PaymentMethod_Mailed check  \n",
       "4995                           0  \n",
       "1691                           0  \n",
       "1255                           0  \n",
       "\n",
       "[3 rows x 27 columns]"
      ]
     },
     "execution_count": 37,
     "metadata": {},
     "output_type": "execute_result"
    }
   ],
   "source": [
    "df2.sample(3)"
   ]
  },
  {
   "cell_type": "code",
   "execution_count": 38,
   "metadata": {},
   "outputs": [
    {
     "name": "stdout",
     "output_type": "stream",
     "text": [
      "gender :[0 1]\n",
      "SeniorCitizen :[0 1]\n",
      "Partner :[1 0]\n",
      "Dependents :[0 1]\n",
      "tenure :[0.         0.46478873 0.01408451 0.61971831 0.09859155 0.29577465\n",
      " 0.12676056 0.38028169 0.85915493 0.16901408 0.21126761 0.8028169\n",
      " 0.67605634 0.33802817 0.95774648 0.71830986 0.98591549 0.28169014\n",
      " 0.15492958 0.4084507  0.64788732 1.         0.22535211 0.36619718\n",
      " 0.05633803 0.63380282 0.14084507 0.97183099 0.87323944 0.5915493\n",
      " 0.1971831  0.83098592 0.23943662 0.91549296 0.11267606 0.02816901\n",
      " 0.42253521 0.69014085 0.88732394 0.77464789 0.08450704 0.57746479\n",
      " 0.47887324 0.66197183 0.3943662  0.90140845 0.52112676 0.94366197\n",
      " 0.43661972 0.76056338 0.50704225 0.49295775 0.56338028 0.07042254\n",
      " 0.04225352 0.45070423 0.92957746 0.30985915 0.78873239 0.84507042\n",
      " 0.18309859 0.26760563 0.73239437 0.54929577 0.81690141 0.32394366\n",
      " 0.6056338  0.25352113 0.74647887 0.70422535 0.35211268 0.53521127]\n",
      "PhoneService :[0 1]\n",
      "MultipleLines :[0 1]\n",
      "OnlineSecurity :[0 1]\n",
      "OnlineBackup :[1 0]\n",
      "DeviceProtection :[0 1]\n",
      "TechSupport :[0 1]\n",
      "StreamingTV :[0 1]\n",
      "StreamingMovies :[0 1]\n",
      "PaperlessBilling :[1 0]\n",
      "MonthlyCharges :[0.11542289 0.38507463 0.35422886 ... 0.44626866 0.25820896 0.60149254]\n",
      "TotalCharges :[0.0012751  0.21586661 0.01031041 ... 0.03780868 0.03321025 0.78764136]\n",
      "Churn :[0 1]\n",
      "InternetService_DSL :[1 0]\n",
      "InternetService_Fiber optic :[0 1]\n",
      "InternetService_No :[0 1]\n",
      "Contract_Month-to-month :[1 0]\n",
      "Contract_One year :[0 1]\n",
      "Contract_Two year :[0 1]\n",
      "PaymentMethod_Bank transfer (automatic) :[0 1]\n",
      "PaymentMethod_Credit card (automatic) :[0 1]\n",
      "PaymentMethod_Electronic check :[1 0]\n",
      "PaymentMethod_Mailed check :[0 1]\n"
     ]
    }
   ],
   "source": [
    "for col in df2:\n",
    "    print(f'{col} :{df2[col].unique()}')"
   ]
  },
  {
   "cell_type": "code",
   "execution_count": 39,
   "metadata": {},
   "outputs": [],
   "source": [
    "X = df2.drop('Churn',axis='columns')\n",
    "Y = df2.Churn"
   ]
  },
  {
   "cell_type": "code",
   "execution_count": 40,
   "metadata": {},
   "outputs": [],
   "source": [
    "from sklearn.model_selection import train_test_split\n",
    "\n",
    "x_train,x_test,y_train,y_test = train_test_split(X,Y,test_size=0.2)"
   ]
  },
  {
   "cell_type": "code",
   "execution_count": 41,
   "metadata": {},
   "outputs": [
    {
     "data": {
      "text/plain": [
       "(5625, 26)"
      ]
     },
     "execution_count": 41,
     "metadata": {},
     "output_type": "execute_result"
    }
   ],
   "source": [
    "x_train.shape"
   ]
  },
  {
   "cell_type": "code",
   "execution_count": 42,
   "metadata": {},
   "outputs": [
    {
     "data": {
      "text/plain": [
       "(1407, 26)"
      ]
     },
     "execution_count": 42,
     "metadata": {},
     "output_type": "execute_result"
    }
   ],
   "source": [
    "x_test.shape"
   ]
  },
  {
   "cell_type": "code",
   "execution_count": 43,
   "metadata": {},
   "outputs": [
    {
     "data": {
      "text/plain": [
       "26"
      ]
     },
     "execution_count": 43,
     "metadata": {},
     "output_type": "execute_result"
    }
   ],
   "source": [
    "len(x_train.columns)"
   ]
  },
  {
   "cell_type": "code",
   "execution_count": 44,
   "metadata": {},
   "outputs": [],
   "source": [
    "import tensorflow as tf\n",
    "from tensorflow import keras"
   ]
  },
  {
   "cell_type": "code",
   "execution_count": 45,
   "metadata": {},
   "outputs": [
    {
     "name": "stdout",
     "output_type": "stream",
     "text": [
      "Epoch 1/110\n",
      "176/176 [==============================] - 0s 2ms/step - loss: 0.5015 - accuracy: 0.7573\n",
      "Epoch 2/110\n",
      "176/176 [==============================] - 0s 2ms/step - loss: 0.4313 - accuracy: 0.7904\n",
      "Epoch 3/110\n",
      "176/176 [==============================] - 0s 2ms/step - loss: 0.4238 - accuracy: 0.7952\n",
      "Epoch 4/110\n",
      "176/176 [==============================] - 0s 2ms/step - loss: 0.4207 - accuracy: 0.7993\n",
      "Epoch 5/110\n",
      "176/176 [==============================] - 0s 2ms/step - loss: 0.4188 - accuracy: 0.7984\n",
      "Epoch 6/110\n",
      "176/176 [==============================] - 0s 2ms/step - loss: 0.4167 - accuracy: 0.7996\n",
      "Epoch 7/110\n",
      "176/176 [==============================] - 0s 2ms/step - loss: 0.4154 - accuracy: 0.8027\n",
      "Epoch 8/110\n",
      "176/176 [==============================] - 0s 2ms/step - loss: 0.4151 - accuracy: 0.8011\n",
      "Epoch 9/110\n",
      "176/176 [==============================] - 0s 2ms/step - loss: 0.4118 - accuracy: 0.8041\n",
      "Epoch 10/110\n",
      "176/176 [==============================] - 0s 2ms/step - loss: 0.4105 - accuracy: 0.8053\n",
      "Epoch 11/110\n",
      "176/176 [==============================] - ETA: 0s - loss: 0.4097 - accuracy: 0.80 - 0s 2ms/step - loss: 0.4094 - accuracy: 0.8062\n",
      "Epoch 12/110\n",
      "176/176 [==============================] - 0s 2ms/step - loss: 0.4077 - accuracy: 0.8068\n",
      "Epoch 13/110\n",
      "176/176 [==============================] - 0s 2ms/step - loss: 0.4065 - accuracy: 0.8096\n",
      "Epoch 14/110\n",
      "176/176 [==============================] - 0s 1ms/step - loss: 0.4051 - accuracy: 0.8075\n",
      "Epoch 15/110\n",
      "176/176 [==============================] - 0s 2ms/step - loss: 0.4041 - accuracy: 0.8087\n",
      "Epoch 16/110\n",
      "176/176 [==============================] - 0s 2ms/step - loss: 0.4048 - accuracy: 0.8066\n",
      "Epoch 17/110\n",
      "176/176 [==============================] - 0s 2ms/step - loss: 0.4025 - accuracy: 0.8121\n",
      "Epoch 18/110\n",
      "176/176 [==============================] - 0s 1ms/step - loss: 0.4021 - accuracy: 0.8068\n",
      "Epoch 19/110\n",
      "176/176 [==============================] - 0s 2ms/step - loss: 0.4017 - accuracy: 0.8096\n",
      "Epoch 20/110\n",
      "176/176 [==============================] - 0s 2ms/step - loss: 0.3991 - accuracy: 0.8089\n",
      "Epoch 21/110\n",
      "176/176 [==============================] - 0s 2ms/step - loss: 0.3974 - accuracy: 0.8098\n",
      "Epoch 22/110\n",
      "176/176 [==============================] - 0s 2ms/step - loss: 0.3960 - accuracy: 0.8091\n",
      "Epoch 23/110\n",
      "176/176 [==============================] - 0s 2ms/step - loss: 0.3951 - accuracy: 0.8144\n",
      "Epoch 24/110\n",
      "176/176 [==============================] - 0s 2ms/step - loss: 0.3935 - accuracy: 0.8130\n",
      "Epoch 25/110\n",
      "176/176 [==============================] - 0s 2ms/step - loss: 0.3940 - accuracy: 0.8142\n",
      "Epoch 26/110\n",
      "176/176 [==============================] - 0s 2ms/step - loss: 0.3924 - accuracy: 0.8108\n",
      "Epoch 27/110\n",
      "176/176 [==============================] - 0s 2ms/step - loss: 0.3919 - accuracy: 0.8144\n",
      "Epoch 28/110\n",
      "176/176 [==============================] - 0s 2ms/step - loss: 0.3899 - accuracy: 0.8139\n",
      "Epoch 29/110\n",
      "176/176 [==============================] - 0s 2ms/step - loss: 0.3890 - accuracy: 0.8128\n",
      "Epoch 30/110\n",
      "176/176 [==============================] - 0s 2ms/step - loss: 0.3885 - accuracy: 0.8156\n",
      "Epoch 31/110\n",
      "176/176 [==============================] - 0s 2ms/step - loss: 0.3869 - accuracy: 0.8153\n",
      "Epoch 32/110\n",
      "176/176 [==============================] - 0s 2ms/step - loss: 0.3856 - accuracy: 0.8151\n",
      "Epoch 33/110\n",
      "176/176 [==============================] - 0s 2ms/step - loss: 0.3863 - accuracy: 0.8174\n",
      "Epoch 34/110\n",
      "176/176 [==============================] - 0s 2ms/step - loss: 0.3840 - accuracy: 0.8156\n",
      "Epoch 35/110\n",
      "176/176 [==============================] - 0s 2ms/step - loss: 0.3843 - accuracy: 0.8183\n",
      "Epoch 36/110\n",
      "176/176 [==============================] - 0s 1ms/step - loss: 0.3831 - accuracy: 0.8155\n",
      "Epoch 37/110\n",
      "176/176 [==============================] - 0s 2ms/step - loss: 0.3817 - accuracy: 0.8165\n",
      "Epoch 38/110\n",
      "176/176 [==============================] - 0s 2ms/step - loss: 0.3811 - accuracy: 0.8164\n",
      "Epoch 39/110\n",
      "176/176 [==============================] - 0s 2ms/step - loss: 0.3806 - accuracy: 0.8172\n",
      "Epoch 40/110\n",
      "176/176 [==============================] - 0s 2ms/step - loss: 0.3791 - accuracy: 0.8164\n",
      "Epoch 41/110\n",
      "176/176 [==============================] - 0s 2ms/step - loss: 0.3787 - accuracy: 0.8153\n",
      "Epoch 42/110\n",
      "176/176 [==============================] - 0s 2ms/step - loss: 0.3773 - accuracy: 0.8203\n",
      "Epoch 43/110\n",
      "176/176 [==============================] - 0s 2ms/step - loss: 0.3770 - accuracy: 0.8194\n",
      "Epoch 44/110\n",
      "176/176 [==============================] - 0s 2ms/step - loss: 0.3779 - accuracy: 0.8197\n",
      "Epoch 45/110\n",
      "176/176 [==============================] - 0s 2ms/step - loss: 0.3764 - accuracy: 0.8181\n",
      "Epoch 46/110\n",
      "176/176 [==============================] - 0s 2ms/step - loss: 0.3758 - accuracy: 0.8204\n",
      "Epoch 47/110\n",
      "176/176 [==============================] - 0s 2ms/step - loss: 0.3746 - accuracy: 0.8224\n",
      "Epoch 48/110\n",
      "176/176 [==============================] - 0s 2ms/step - loss: 0.3732 - accuracy: 0.8199\n",
      "Epoch 49/110\n",
      "176/176 [==============================] - 0s 2ms/step - loss: 0.3736 - accuracy: 0.8208\n",
      "Epoch 50/110\n",
      "176/176 [==============================] - 0s 2ms/step - loss: 0.3730 - accuracy: 0.8203\n",
      "Epoch 51/110\n",
      "176/176 [==============================] - 0s 2ms/step - loss: 0.3719 - accuracy: 0.8201\n",
      "Epoch 52/110\n",
      "176/176 [==============================] - 0s 2ms/step - loss: 0.3725 - accuracy: 0.8196\n",
      "Epoch 53/110\n",
      "176/176 [==============================] - 0s 2ms/step - loss: 0.3713 - accuracy: 0.8220\n",
      "Epoch 54/110\n",
      "176/176 [==============================] - 0s 2ms/step - loss: 0.3713 - accuracy: 0.8235\n",
      "Epoch 55/110\n",
      "176/176 [==============================] - 0s 2ms/step - loss: 0.3699 - accuracy: 0.8208\n",
      "Epoch 56/110\n",
      "176/176 [==============================] - 0s 2ms/step - loss: 0.3697 - accuracy: 0.8236\n",
      "Epoch 57/110\n",
      "176/176 [==============================] - 0s 2ms/step - loss: 0.3668 - accuracy: 0.8229\n",
      "Epoch 58/110\n",
      "176/176 [==============================] - 0s 2ms/step - loss: 0.3681 - accuracy: 0.8219: 0s - loss: 0.3717 - ac\n",
      "Epoch 59/110\n",
      "176/176 [==============================] - 0s 2ms/step - loss: 0.3679 - accuracy: 0.8226\n",
      "Epoch 60/110\n",
      "176/176 [==============================] - 0s 2ms/step - loss: 0.3681 - accuracy: 0.8201\n",
      "Epoch 61/110\n",
      "176/176 [==============================] - 0s 2ms/step - loss: 0.3660 - accuracy: 0.8242\n",
      "Epoch 62/110\n",
      "176/176 [==============================] - 0s 2ms/step - loss: 0.3652 - accuracy: 0.8249\n",
      "Epoch 63/110\n",
      "176/176 [==============================] - 0s 2ms/step - loss: 0.3661 - accuracy: 0.8228\n",
      "Epoch 64/110\n",
      "176/176 [==============================] - 0s 2ms/step - loss: 0.3650 - accuracy: 0.8229\n",
      "Epoch 65/110\n",
      "176/176 [==============================] - 0s 2ms/step - loss: 0.3649 - accuracy: 0.8212\n",
      "Epoch 66/110\n",
      "176/176 [==============================] - 0s 2ms/step - loss: 0.3635 - accuracy: 0.8245\n",
      "Epoch 67/110\n",
      "176/176 [==============================] - 0s 2ms/step - loss: 0.3625 - accuracy: 0.8267\n",
      "Epoch 68/110\n",
      "176/176 [==============================] - 0s 2ms/step - loss: 0.3617 - accuracy: 0.8277\n",
      "Epoch 69/110\n",
      "176/176 [==============================] - 0s 2ms/step - loss: 0.3614 - accuracy: 0.8256\n",
      "Epoch 70/110\n",
      "176/176 [==============================] - 0s 2ms/step - loss: 0.3611 - accuracy: 0.8217\n",
      "Epoch 71/110\n",
      "176/176 [==============================] - 0s 2ms/step - loss: 0.3611 - accuracy: 0.8245\n",
      "Epoch 72/110\n",
      "176/176 [==============================] - 0s 2ms/step - loss: 0.3601 - accuracy: 0.8277\n",
      "Epoch 73/110\n",
      "176/176 [==============================] - 0s 2ms/step - loss: 0.3597 - accuracy: 0.8260\n",
      "Epoch 74/110\n",
      "176/176 [==============================] - 0s 2ms/step - loss: 0.3585 - accuracy: 0.8238\n",
      "Epoch 75/110\n",
      "176/176 [==============================] - 0s 2ms/step - loss: 0.3576 - accuracy: 0.8302\n",
      "Epoch 76/110\n",
      "176/176 [==============================] - 0s 1ms/step - loss: 0.3581 - accuracy: 0.8263\n",
      "Epoch 77/110\n",
      "176/176 [==============================] - 0s 2ms/step - loss: 0.3568 - accuracy: 0.8300\n",
      "Epoch 78/110\n",
      "176/176 [==============================] - 0s 2ms/step - loss: 0.3568 - accuracy: 0.8299\n",
      "Epoch 79/110\n",
      "176/176 [==============================] - 0s 2ms/step - loss: 0.3565 - accuracy: 0.8283\n",
      "Epoch 80/110\n"
     ]
    },
    {
     "name": "stdout",
     "output_type": "stream",
     "text": [
      "176/176 [==============================] - 0s 2ms/step - loss: 0.3555 - accuracy: 0.8276\n",
      "Epoch 81/110\n",
      "176/176 [==============================] - 0s 1ms/step - loss: 0.3560 - accuracy: 0.8288\n",
      "Epoch 82/110\n",
      "176/176 [==============================] - 0s 2ms/step - loss: 0.3567 - accuracy: 0.8272\n",
      "Epoch 83/110\n",
      "176/176 [==============================] - 0s 2ms/step - loss: 0.3555 - accuracy: 0.8265\n",
      "Epoch 84/110\n",
      "176/176 [==============================] - 0s 1ms/step - loss: 0.3531 - accuracy: 0.8341\n",
      "Epoch 85/110\n",
      "176/176 [==============================] - 0s 2ms/step - loss: 0.3550 - accuracy: 0.8247\n",
      "Epoch 86/110\n",
      "176/176 [==============================] - 0s 2ms/step - loss: 0.3531 - accuracy: 0.8297\n",
      "Epoch 87/110\n",
      "176/176 [==============================] - 0s 1ms/step - loss: 0.3512 - accuracy: 0.8322\n",
      "Epoch 88/110\n",
      "176/176 [==============================] - 0s 2ms/step - loss: 0.3522 - accuracy: 0.8290\n",
      "Epoch 89/110\n",
      "176/176 [==============================] - 0s 2ms/step - loss: 0.3501 - accuracy: 0.8338\n",
      "Epoch 90/110\n",
      "176/176 [==============================] - 0s 2ms/step - loss: 0.3504 - accuracy: 0.8277\n",
      "Epoch 91/110\n",
      "176/176 [==============================] - 0s 2ms/step - loss: 0.3507 - accuracy: 0.8299\n",
      "Epoch 92/110\n",
      "176/176 [==============================] - 0s 2ms/step - loss: 0.3504 - accuracy: 0.8283\n",
      "Epoch 93/110\n",
      "176/176 [==============================] - 0s 1ms/step - loss: 0.3512 - accuracy: 0.8297\n",
      "Epoch 94/110\n",
      "176/176 [==============================] - 0s 1ms/step - loss: 0.3482 - accuracy: 0.8283\n",
      "Epoch 95/110\n",
      "176/176 [==============================] - 0s 2ms/step - loss: 0.3493 - accuracy: 0.8295\n",
      "Epoch 96/110\n",
      "176/176 [==============================] - 0s 2ms/step - loss: 0.3464 - accuracy: 0.8297\n",
      "Epoch 97/110\n",
      "176/176 [==============================] - 0s 1ms/step - loss: 0.3478 - accuracy: 0.8347\n",
      "Epoch 98/110\n",
      "176/176 [==============================] - 0s 2ms/step - loss: 0.3463 - accuracy: 0.8329\n",
      "Epoch 99/110\n",
      "176/176 [==============================] - 0s 2ms/step - loss: 0.3466 - accuracy: 0.8341\n",
      "Epoch 100/110\n",
      "176/176 [==============================] - 0s 1ms/step - loss: 0.3453 - accuracy: 0.8327\n",
      "Epoch 101/110\n",
      "176/176 [==============================] - 0s 2ms/step - loss: 0.3450 - accuracy: 0.8332\n",
      "Epoch 102/110\n",
      "176/176 [==============================] - 0s 2ms/step - loss: 0.3445 - accuracy: 0.8332\n",
      "Epoch 103/110\n",
      "176/176 [==============================] - 0s 2ms/step - loss: 0.3438 - accuracy: 0.8316\n",
      "Epoch 104/110\n",
      "176/176 [==============================] - 0s 2ms/step - loss: 0.3441 - accuracy: 0.8350\n",
      "Epoch 105/110\n",
      "176/176 [==============================] - 0s 2ms/step - loss: 0.3429 - accuracy: 0.8324\n",
      "Epoch 106/110\n",
      "176/176 [==============================] - 0s 2ms/step - loss: 0.3440 - accuracy: 0.8327\n",
      "Epoch 107/110\n",
      "176/176 [==============================] - 0s 2ms/step - loss: 0.3430 - accuracy: 0.8324\n",
      "Epoch 108/110\n",
      "176/176 [==============================] - 0s 2ms/step - loss: 0.3424 - accuracy: 0.8347\n",
      "Epoch 109/110\n",
      "176/176 [==============================] - 0s 2ms/step - loss: 0.3423 - accuracy: 0.8334\n",
      "Epoch 110/110\n",
      "176/176 [==============================] - 0s 2ms/step - loss: 0.3403 - accuracy: 0.8364\n"
     ]
    },
    {
     "data": {
      "text/plain": [
       "<tensorflow.python.keras.callbacks.History at 0x1f3754af860>"
      ]
     },
     "execution_count": 45,
     "metadata": {},
     "output_type": "execute_result"
    }
   ],
   "source": [
    "model = keras.Sequential([\n",
    "    keras.layers.Dense(26,input_shape=(26,),activation='relu'), #Input layer\n",
    "    keras.layers.Dense(26,activation='relu'), #hidden layer\n",
    "    keras.layers.Dense(1,activation='sigmoid'), #Output layer\n",
    "])\n",
    "\n",
    "model.compile(optimizer = 'adam',loss = 'binary_crossentropy',metrics=['accuracy'])\n",
    "model.fit(x_train,y_train,epochs=110)"
   ]
  },
  {
   "cell_type": "code",
   "execution_count": 46,
   "metadata": {},
   "outputs": [
    {
     "name": "stdout",
     "output_type": "stream",
     "text": [
      "44/44 [==============================] - 0s 1ms/step - loss: 0.4636 - accuracy: 0.8003\n"
     ]
    },
    {
     "data": {
      "text/plain": [
       "[0.4636434018611908, 0.8002842664718628]"
      ]
     },
     "execution_count": 46,
     "metadata": {},
     "output_type": "execute_result"
    }
   ],
   "source": [
    "model.evaluate(x_test,y_test)"
   ]
  },
  {
   "cell_type": "code",
   "execution_count": 47,
   "metadata": {},
   "outputs": [
    {
     "data": {
      "text/plain": [
       "array([[0.97052306],\n",
       "       [0.80628717],\n",
       "       [0.0012511 ],\n",
       "       [0.05790284],\n",
       "       [0.05662441]], dtype=float32)"
      ]
     },
     "execution_count": 47,
     "metadata": {},
     "output_type": "execute_result"
    }
   ],
   "source": [
    "yp = model.predict(x_test)\n",
    "yp[:5]"
   ]
  },
  {
   "cell_type": "code",
   "execution_count": 48,
   "metadata": {},
   "outputs": [
    {
     "data": {
      "text/plain": [
       "133     1\n",
       "6064    1\n",
       "5142    0\n",
       "6907    1\n",
       "4324    0\n",
       "2305    0\n",
       "9       0\n",
       "2144    0\n",
       "3979    0\n",
       "1149    1\n",
       "Name: Churn, dtype: int64"
      ]
     },
     "execution_count": 48,
     "metadata": {},
     "output_type": "execute_result"
    }
   ],
   "source": [
    "y_test[:10]"
   ]
  },
  {
   "cell_type": "code",
   "execution_count": 49,
   "metadata": {},
   "outputs": [],
   "source": [
    "y_pred = []\n",
    "for element in yp:\n",
    "    if element > 0.5:\n",
    "        y_pred.append(1)\n",
    "    else:\n",
    "        y_pred.append(0)"
   ]
  },
  {
   "cell_type": "code",
   "execution_count": 50,
   "metadata": {},
   "outputs": [
    {
     "data": {
      "text/plain": [
       "[1, 1, 0, 0, 0, 0, 0, 0, 0, 1]"
      ]
     },
     "execution_count": 50,
     "metadata": {},
     "output_type": "execute_result"
    }
   ],
   "source": [
    "y_pred[:10]"
   ]
  },
  {
   "cell_type": "code",
   "execution_count": 51,
   "metadata": {},
   "outputs": [
    {
     "name": "stdout",
     "output_type": "stream",
     "text": [
      "              precision    recall  f1-score   support\n",
      "\n",
      "           0       0.86      0.87      0.87      1043\n",
      "           1       0.62      0.60      0.61       364\n",
      "\n",
      "    accuracy                           0.80      1407\n",
      "   macro avg       0.74      0.73      0.74      1407\n",
      "weighted avg       0.80      0.80      0.80      1407\n",
      "\n"
     ]
    }
   ],
   "source": [
    "from sklearn.metrics import confusion_matrix , classification_report\n",
    "\n",
    "print(classification_report(y_test,y_pred))"
   ]
  },
  {
   "cell_type": "code",
   "execution_count": 52,
   "metadata": {},
   "outputs": [
    {
     "data": {
      "text/plain": [
       "Text(69.0, 0.5, 'Truth')"
      ]
     },
     "execution_count": 52,
     "metadata": {},
     "output_type": "execute_result"
    },
    {
     "data": {
      "image/png": "[encoded data removed]",
      "text/plain": [
       "<Figure size 720x504 with 2 Axes>"
      ]
     },
     "metadata": {
      "needs_background": "light"
     },
     "output_type": "display_data"
    }
   ],
   "source": [
    "import seaborn as sn\n",
    "cn = tf.math.confusion_matrix(labels = y_test,predictions = y_pred)\n",
    "\n",
    "plt.figure(figsize = (10,7))\n",
    "sn.heatmap(cn,annot=True,fmt='d')\n",
    "plt.xlabel(\"Predicted\")\n",
    "plt.ylabel(\"Truth\")"
   ]
  },
  {
   "cell_type": "markdown",
   "metadata": {},
   "source": [
    "### Accuracy"
   ]
  },
  {
   "cell_type": "code",
   "execution_count": 53,
   "metadata": {},
   "outputs": [
    {
     "data": {
      "text/plain": [
       "0.8"
      ]
     },
     "execution_count": 53,
     "metadata": {},
     "output_type": "execute_result"
    }
   ],
   "source": [
    "round((914+215)/(914+128+215+150),2)"
   ]
  },
  {
   "cell_type": "markdown",
   "metadata": {},
   "source": [
    "### Precision for 0 Class i.e Precision for customers who did not churn"
   ]
  },
  {
   "cell_type": "code",
   "execution_count": 54,
   "metadata": {},
   "outputs": [
    {
     "data": {
      "text/plain": [
       "0.86"
      ]
     },
     "execution_count": 54,
     "metadata": {},
     "output_type": "execute_result"
    }
   ],
   "source": [
    "round(914/(914+150),2)"
   ]
  },
  {
   "cell_type": "markdown",
   "metadata": {},
   "source": [
    "### Precision for 1 Class i.e Precision for customers who did churn"
   ]
  },
  {
   "cell_type": "code",
   "execution_count": 55,
   "metadata": {},
   "outputs": [
    {
     "data": {
      "text/plain": [
       "0.63"
      ]
     },
     "execution_count": 55,
     "metadata": {},
     "output_type": "execute_result"
    }
   ],
   "source": [
    "round(215/(215+128),2)"
   ]
  },
  {
   "cell_type": "markdown",
   "metadata": {},
   "source": [
    "### Recall for 0 class"
   ]
  },
  {
   "cell_type": "code",
   "execution_count": 56,
   "metadata": {},
   "outputs": [
    {
     "data": {
      "text/plain": [
       "0.88"
      ]
     },
     "execution_count": 56,
     "metadata": {},
     "output_type": "execute_result"
    }
   ],
   "source": [
    "round(914/(914+128),2)"
   ]
  },
  {
   "cell_type": "markdown",
   "metadata": {},
   "source": [
    "### Recall for 1 class"
   ]
  },
  {
   "cell_type": "code",
   "execution_count": 57,
   "metadata": {},
   "outputs": [
    {
     "data": {
      "text/plain": [
       "0.59"
      ]
     },
     "execution_count": 57,
     "metadata": {},
     "output_type": "execute_result"
    }
   ],
   "source": [
    "round(215/(215+150),2)"
   ]
  },
  {
   "cell_type": "markdown",
   "metadata": {},
   "source": [
    "### Handling Unbalances Datasets"
   ]
  },
  {
   "cell_type": "code",
   "execution_count": 64,
   "metadata": {},
   "outputs": [],
   "source": [
    "# Class Count \n",
    "count_class_0,count_class_1 = df2.Churn.value_counts()\n",
    "# Divide the class\n",
    "\n",
    "df_class_0 = df2[df2['Churn'] == 0]\n",
    "df_class_1 = df2[df2['Churn'] == 1]"
   ]
  },
  {
   "cell_type": "code",
   "execution_count": 65,
   "metadata": {},
   "outputs": [
    {
     "data": {
      "text/plain": [
       "(5163, 1869)"
      ]
     },
     "execution_count": 65,
     "metadata": {},
     "output_type": "execute_result"
    }
   ],
   "source": [
    "count_class_0,count_class_1"
   ]
  },
  {
   "cell_type": "code",
   "execution_count": 66,
   "metadata": {},
   "outputs": [
    {
     "data": {
      "text/plain": [
       "(5163, 27)"
      ]
     },
     "execution_count": 66,
     "metadata": {},
     "output_type": "execute_result"
    }
   ],
   "source": [
    "df_class_0.shape"
   ]
  },
  {
   "cell_type": "code",
   "execution_count": 67,
   "metadata": {},
   "outputs": [
    {
     "data": {
      "text/plain": [
       "(1869, 27)"
      ]
     },
     "execution_count": 67,
     "metadata": {},
     "output_type": "execute_result"
    }
   ],
   "source": [
    "df_class_1.shape"
   ]
  },
  {
   "cell_type": "code",
   "execution_count": 70,
   "metadata": {},
   "outputs": [],
   "source": [
    "# Convert 5163 => 1869\n",
    "df_under_class_0 = df_class_0.sample(count_class_1)"
   ]
  },
  {
   "cell_type": "code",
   "execution_count": 72,
   "metadata": {},
   "outputs": [
    {
     "data": {
      "text/plain": [
       "(1869, 27)"
      ]
     },
     "execution_count": 72,
     "metadata": {},
     "output_type": "execute_result"
    }
   ],
   "source": [
    "df_under_class_0.shape"
   ]
  },
  {
   "cell_type": "code",
   "execution_count": 74,
   "metadata": {},
   "outputs": [],
   "source": [
    "df3 = pd.concat([df_under_class_0,df_class_1],axis=0)"
   ]
  },
  {
   "cell_type": "code",
   "execution_count": 75,
   "metadata": {},
   "outputs": [
    {
     "data": {
      "text/plain": [
       "(3738, 27)"
      ]
     },
     "execution_count": 75,
     "metadata": {},
     "output_type": "execute_result"
    }
   ],
   "source": [
    "df3.shape"
   ]
  },
  {
   "cell_type": "code",
   "execution_count": 78,
   "metadata": {},
   "outputs": [
    {
     "name": "stdout",
     "output_type": "stream",
     "text": [
      "Random Under-Sampling:\n",
      "1    1869\n",
      "0    1869\n",
      "Name: Churn, dtype: int64\n"
     ]
    }
   ],
   "source": [
    "print(\"Random Under-Sampling:\")\n",
    "print(df3.Churn.value_counts())"
   ]
  },
  {
   "cell_type": "code",
   "execution_count": 79,
   "metadata": {},
   "outputs": [],
   "source": [
    "X = df3.drop(\"Churn\",axis='columns')\n",
    "Y = df3.Churn"
   ]
  },
  {
   "cell_type": "code",
   "execution_count": 82,
   "metadata": {},
   "outputs": [
    {
     "data": {
      "text/html": [
       "<div>\n",
       "<style scoped>\n",
       "    .dataframe tbody tr th:only-of-type {\n",
       "        vertical-align: middle;\n",
       "    }\n",
       "\n",
       "    .dataframe tbody tr th {\n",
       "        vertical-align: top;\n",
       "    }\n",
       "\n",
       "    .dataframe thead th {\n",
       "        text-align: right;\n",
       "    }\n",
       "</style>\n",
       "<table border=\"1\" class=\"dataframe\">\n",
       "  <thead>\n",
       "    <tr style=\"text-align: right;\">\n",
       "      <th></th>\n",
       "      <th>gender</th>\n",
       "      <th>SeniorCitizen</th>\n",
       "      <th>Partner</th>\n",
       "      <th>Dependents</th>\n",
       "      <th>tenure</th>\n",
       "      <th>PhoneService</th>\n",
       "      <th>MultipleLines</th>\n",
       "      <th>OnlineSecurity</th>\n",
       "      <th>OnlineBackup</th>\n",
       "      <th>DeviceProtection</th>\n",
       "      <th>...</th>\n",
       "      <th>InternetService_DSL</th>\n",
       "      <th>InternetService_Fiber optic</th>\n",
       "      <th>InternetService_No</th>\n",
       "      <th>Contract_Month-to-month</th>\n",
       "      <th>Contract_One year</th>\n",
       "      <th>Contract_Two year</th>\n",
       "      <th>PaymentMethod_Bank transfer (automatic)</th>\n",
       "      <th>PaymentMethod_Credit card (automatic)</th>\n",
       "      <th>PaymentMethod_Electronic check</th>\n",
       "      <th>PaymentMethod_Mailed check</th>\n",
       "    </tr>\n",
       "  </thead>\n",
       "  <tbody>\n",
       "    <tr>\n",
       "      <th>2738</th>\n",
       "      <td>0</td>\n",
       "      <td>0</td>\n",
       "      <td>1</td>\n",
       "      <td>1</td>\n",
       "      <td>0.591549</td>\n",
       "      <td>1</td>\n",
       "      <td>0</td>\n",
       "      <td>1</td>\n",
       "      <td>0</td>\n",
       "      <td>1</td>\n",
       "      <td>...</td>\n",
       "      <td>1</td>\n",
       "      <td>0</td>\n",
       "      <td>0</td>\n",
       "      <td>0</td>\n",
       "      <td>0</td>\n",
       "      <td>1</td>\n",
       "      <td>1</td>\n",
       "      <td>0</td>\n",
       "      <td>0</td>\n",
       "      <td>0</td>\n",
       "    </tr>\n",
       "    <tr>\n",
       "      <th>2931</th>\n",
       "      <td>0</td>\n",
       "      <td>1</td>\n",
       "      <td>0</td>\n",
       "      <td>1</td>\n",
       "      <td>0.450704</td>\n",
       "      <td>1</td>\n",
       "      <td>1</td>\n",
       "      <td>0</td>\n",
       "      <td>1</td>\n",
       "      <td>1</td>\n",
       "      <td>...</td>\n",
       "      <td>0</td>\n",
       "      <td>1</td>\n",
       "      <td>0</td>\n",
       "      <td>1</td>\n",
       "      <td>0</td>\n",
       "      <td>0</td>\n",
       "      <td>1</td>\n",
       "      <td>0</td>\n",
       "      <td>0</td>\n",
       "      <td>0</td>\n",
       "    </tr>\n",
       "    <tr>\n",
       "      <th>6629</th>\n",
       "      <td>0</td>\n",
       "      <td>1</td>\n",
       "      <td>1</td>\n",
       "      <td>0</td>\n",
       "      <td>1.000000</td>\n",
       "      <td>1</td>\n",
       "      <td>1</td>\n",
       "      <td>1</td>\n",
       "      <td>1</td>\n",
       "      <td>1</td>\n",
       "      <td>...</td>\n",
       "      <td>1</td>\n",
       "      <td>0</td>\n",
       "      <td>0</td>\n",
       "      <td>0</td>\n",
       "      <td>0</td>\n",
       "      <td>1</td>\n",
       "      <td>0</td>\n",
       "      <td>1</td>\n",
       "      <td>0</td>\n",
       "      <td>0</td>\n",
       "    </tr>\n",
       "    <tr>\n",
       "      <th>6735</th>\n",
       "      <td>0</td>\n",
       "      <td>0</td>\n",
       "      <td>1</td>\n",
       "      <td>1</td>\n",
       "      <td>0.985915</td>\n",
       "      <td>1</td>\n",
       "      <td>0</td>\n",
       "      <td>1</td>\n",
       "      <td>1</td>\n",
       "      <td>1</td>\n",
       "      <td>...</td>\n",
       "      <td>1</td>\n",
       "      <td>0</td>\n",
       "      <td>0</td>\n",
       "      <td>0</td>\n",
       "      <td>0</td>\n",
       "      <td>1</td>\n",
       "      <td>0</td>\n",
       "      <td>1</td>\n",
       "      <td>0</td>\n",
       "      <td>0</td>\n",
       "    </tr>\n",
       "    <tr>\n",
       "      <th>5378</th>\n",
       "      <td>0</td>\n",
       "      <td>0</td>\n",
       "      <td>1</td>\n",
       "      <td>1</td>\n",
       "      <td>0.802817</td>\n",
       "      <td>1</td>\n",
       "      <td>1</td>\n",
       "      <td>1</td>\n",
       "      <td>0</td>\n",
       "      <td>1</td>\n",
       "      <td>...</td>\n",
       "      <td>1</td>\n",
       "      <td>0</td>\n",
       "      <td>0</td>\n",
       "      <td>0</td>\n",
       "      <td>0</td>\n",
       "      <td>1</td>\n",
       "      <td>0</td>\n",
       "      <td>0</td>\n",
       "      <td>0</td>\n",
       "      <td>1</td>\n",
       "    </tr>\n",
       "  </tbody>\n",
       "</table>\n",
       "<p>5 rows × 26 columns</p>\n",
       "</div>"
      ],
      "text/plain": [
       "      gender  SeniorCitizen  Partner  Dependents    tenure  PhoneService  \\\n",
       "2738       0              0        1           1  0.591549             1   \n",
       "2931       0              1        0           1  0.450704             1   \n",
       "6629       0              1        1           0  1.000000             1   \n",
       "6735       0              0        1           1  0.985915             1   \n",
       "5378       0              0        1           1  0.802817             1   \n",
       "\n",
       "      MultipleLines  OnlineSecurity  OnlineBackup  DeviceProtection  ...  \\\n",
       "2738              0               1             0                 1  ...   \n",
       "2931              1               0             1                 1  ...   \n",
       "6629              1               1             1                 1  ...   \n",
       "6735              0               1             1                 1  ...   \n",
       "5378              1               1             0                 1  ...   \n",
       "\n",
       "      InternetService_DSL  InternetService_Fiber optic  InternetService_No  \\\n",
       "2738                    1                            0                   0   \n",
       "2931                    0                            1                   0   \n",
       "6629                    1                            0                   0   \n",
       "6735                    1                            0                   0   \n",
       "5378                    1                            0                   0   \n",
       "\n",
       "      Contract_Month-to-month  Contract_One year  Contract_Two year  \\\n",
       "2738                        0                  0                  1   \n",
       "2931                        1                  0                  0   \n",
       "6629                        0                  0                  1   \n",
       "6735                        0                  0                  1   \n",
       "5378                        0                  0                  1   \n",
       "\n",
       "      PaymentMethod_Bank transfer (automatic)  \\\n",
       "2738                                        1   \n",
       "2931                                        1   \n",
       "6629                                        0   \n",
       "6735                                        0   \n",
       "5378                                        0   \n",
       "\n",
       "      PaymentMethod_Credit card (automatic)  PaymentMethod_Electronic check  \\\n",
       "2738                                      0                               0   \n",
       "2931                                      0                               0   \n",
       "6629                                      1                               0   \n",
       "6735                                      1                               0   \n",
       "5378                                      0                               0   \n",
       "\n",
       "      PaymentMethod_Mailed check  \n",
       "2738                           0  \n",
       "2931                           0  \n",
       "6629                           0  \n",
       "6735                           0  \n",
       "5378                           1  \n",
       "\n",
       "[5 rows x 26 columns]"
      ]
     },
     "execution_count": 82,
     "metadata": {},
     "output_type": "execute_result"
    }
   ],
   "source": [
    "X.head()"
   ]
  },
  {
   "cell_type": "code",
   "execution_count": 83,
   "metadata": {},
   "outputs": [
    {
     "data": {
      "text/plain": [
       "2738    0\n",
       "2931    0\n",
       "6629    0\n",
       "6735    0\n",
       "5378    0\n",
       "Name: Churn, dtype: int64"
      ]
     },
     "execution_count": 83,
     "metadata": {},
     "output_type": "execute_result"
    }
   ],
   "source": [
    "Y.head()"
   ]
  },
  {
   "cell_type": "code",
   "execution_count": 89,
   "metadata": {},
   "outputs": [],
   "source": [
    "x_train,x_test,y_train,y_test = train_test_split(X,Y,test_size=0.2,stratify=Y,random_state=15)"
   ]
  },
  {
   "cell_type": "code",
   "execution_count": 90,
   "metadata": {},
   "outputs": [
    {
     "name": "stdout",
     "output_type": "stream",
     "text": [
      "Length of X-train is 2990 X-test is 748\n",
      "Length of Y-train is 2990 Y-test is 748\n"
     ]
    }
   ],
   "source": [
    "print(\"Length of X-train is {} X-test is {}\".format(len(x_train),len(x_test)))\n",
    "print(\"Length of Y-train is {} Y-test is {}\".format(len(y_train),len(y_test)))"
   ]
  },
  {
   "cell_type": "code",
   "execution_count": 103,
   "metadata": {},
   "outputs": [],
   "source": [
    "def ANN(x_train,x_test,y_train,y_test,loss,weight):\n",
    "    model=keras.Sequential([\n",
    "        keras.layers.Dense(26,input_dim=26,activation='relu'),\n",
    "        keras.layers.Dense(15,activation='relu'),\n",
    "        keras.layers.Dense(1,activation='sigmoid'),\n",
    "    ])\n",
    "    \n",
    "    model.compile(optimizer='adam',loss=loss,metrics=['accuracy'])\n",
    "    \n",
    "    if weight == -1:\n",
    "        model.fit(x_train,y_train,epochs=100)\n",
    "    else:\n",
    "        model.fit(x_train,y_train,epochs=100,class_weight = weight)\n",
    "        \n",
    "    y_preds = model.predict(x_test)\n",
    "    y_preds = np.round(y_preds)\n",
    "    \n",
    "    print(\"Classification Report is :\",classification_report(y_test,y_preds))\n",
    "\n",
    "    return y_preds"
   ]
  },
  {
   "cell_type": "code",
   "execution_count": 104,
   "metadata": {},
   "outputs": [
    {
     "name": "stdout",
     "output_type": "stream",
     "text": [
      "Epoch 1/100\n",
      "94/94 [==============================] - 0s 2ms/step - loss: 0.6209 - accuracy: 0.6799\n",
      "Epoch 2/100\n",
      "94/94 [==============================] - 0s 2ms/step - loss: 0.5224 - accuracy: 0.7518\n",
      "Epoch 3/100\n",
      "94/94 [==============================] - 0s 2ms/step - loss: 0.5026 - accuracy: 0.7592\n",
      "Epoch 4/100\n",
      "94/94 [==============================] - 0s 2ms/step - loss: 0.4961 - accuracy: 0.7642\n",
      "Epoch 5/100\n",
      "94/94 [==============================] - 0s 2ms/step - loss: 0.4905 - accuracy: 0.7642\n",
      "Epoch 6/100\n",
      "94/94 [==============================] - 0s 2ms/step - loss: 0.4871 - accuracy: 0.7672\n",
      "Epoch 7/100\n",
      "94/94 [==============================] - 0s 2ms/step - loss: 0.4838 - accuracy: 0.7696\n",
      "Epoch 8/100\n",
      "94/94 [==============================] - 0s 2ms/step - loss: 0.4824 - accuracy: 0.7659\n",
      "Epoch 9/100\n",
      "94/94 [==============================] - 0s 2ms/step - loss: 0.4791 - accuracy: 0.7699\n",
      "Epoch 10/100\n",
      "94/94 [==============================] - 0s 2ms/step - loss: 0.4772 - accuracy: 0.7686\n",
      "Epoch 11/100\n",
      "94/94 [==============================] - 0s 2ms/step - loss: 0.4767 - accuracy: 0.7659\n",
      "Epoch 12/100\n",
      "94/94 [==============================] - 0s 2ms/step - loss: 0.4744 - accuracy: 0.7732\n",
      "Epoch 13/100\n",
      "94/94 [==============================] - 0s 3ms/step - loss: 0.4736 - accuracy: 0.7699\n",
      "Epoch 14/100\n",
      "94/94 [==============================] - 0s 2ms/step - loss: 0.4700 - accuracy: 0.7719\n",
      "Epoch 15/100\n",
      "94/94 [==============================] - 0s 2ms/step - loss: 0.4688 - accuracy: 0.7722\n",
      "Epoch 16/100\n",
      "94/94 [==============================] - 0s 2ms/step - loss: 0.4677 - accuracy: 0.7749\n",
      "Epoch 17/100\n",
      "94/94 [==============================] - 0s 2ms/step - loss: 0.4655 - accuracy: 0.7709\n",
      "Epoch 18/100\n",
      "94/94 [==============================] - 0s 2ms/step - loss: 0.4642 - accuracy: 0.7726\n",
      "Epoch 19/100\n",
      "94/94 [==============================] - 0s 2ms/step - loss: 0.4627 - accuracy: 0.7729\n",
      "Epoch 20/100\n",
      "94/94 [==============================] - 0s 2ms/step - loss: 0.4614 - accuracy: 0.7749\n",
      "Epoch 21/100\n",
      "94/94 [==============================] - 0s 2ms/step - loss: 0.4626 - accuracy: 0.7789\n",
      "Epoch 22/100\n",
      "94/94 [==============================] - 0s 2ms/step - loss: 0.4599 - accuracy: 0.7793\n",
      "Epoch 23/100\n",
      "94/94 [==============================] - 0s 2ms/step - loss: 0.4581 - accuracy: 0.7769\n",
      "Epoch 24/100\n",
      "94/94 [==============================] - ETA: 0s - loss: 0.4525 - accuracy: 0.78 - 0s 2ms/step - loss: 0.4574 - accuracy: 0.7769\n",
      "Epoch 25/100\n",
      "94/94 [==============================] - 0s 2ms/step - loss: 0.4562 - accuracy: 0.7763\n",
      "Epoch 26/100\n",
      "94/94 [==============================] - 0s 2ms/step - loss: 0.4547 - accuracy: 0.7806\n",
      "Epoch 27/100\n",
      "94/94 [==============================] - 0s 2ms/step - loss: 0.4543 - accuracy: 0.7816\n",
      "Epoch 28/100\n",
      "94/94 [==============================] - 0s 2ms/step - loss: 0.4534 - accuracy: 0.7799\n",
      "Epoch 29/100\n",
      "94/94 [==============================] - 0s 2ms/step - loss: 0.4515 - accuracy: 0.7796\n",
      "Epoch 30/100\n",
      "94/94 [==============================] - 0s 2ms/step - loss: 0.4513 - accuracy: 0.7846\n",
      "Epoch 31/100\n",
      "94/94 [==============================] - 0s 2ms/step - loss: 0.4499 - accuracy: 0.7836\n",
      "Epoch 32/100\n",
      "94/94 [==============================] - 0s 2ms/step - loss: 0.4503 - accuracy: 0.7803\n",
      "Epoch 33/100\n",
      "94/94 [==============================] - 0s 2ms/step - loss: 0.4464 - accuracy: 0.7846\n",
      "Epoch 34/100\n",
      "94/94 [==============================] - 0s 2ms/step - loss: 0.4497 - accuracy: 0.7809\n",
      "Epoch 35/100\n",
      "94/94 [==============================] - 0s 2ms/step - loss: 0.4460 - accuracy: 0.7870\n",
      "Epoch 36/100\n",
      "94/94 [==============================] - 0s 3ms/step - loss: 0.4454 - accuracy: 0.7873: 0s - loss: 0.4485 - accuracy: 0.\n",
      "Epoch 37/100\n",
      "94/94 [==============================] - 0s 2ms/step - loss: 0.4438 - accuracy: 0.7860\n",
      "Epoch 38/100\n",
      "94/94 [==============================] - 0s 2ms/step - loss: 0.4424 - accuracy: 0.7880\n",
      "Epoch 39/100\n",
      "94/94 [==============================] - 0s 2ms/step - loss: 0.4414 - accuracy: 0.7846\n",
      "Epoch 40/100\n",
      "94/94 [==============================] - 0s 2ms/step - loss: 0.4419 - accuracy: 0.7863\n",
      "Epoch 41/100\n",
      "94/94 [==============================] - 0s 2ms/step - loss: 0.4405 - accuracy: 0.7880\n",
      "Epoch 42/100\n",
      "94/94 [==============================] - 0s 2ms/step - loss: 0.4398 - accuracy: 0.7870\n",
      "Epoch 43/100\n",
      "94/94 [==============================] - 0s 2ms/step - loss: 0.4384 - accuracy: 0.7880\n",
      "Epoch 44/100\n",
      "94/94 [==============================] - 0s 2ms/step - loss: 0.4356 - accuracy: 0.7906\n",
      "Epoch 45/100\n",
      "94/94 [==============================] - 0s 2ms/step - loss: 0.4362 - accuracy: 0.7916\n",
      "Epoch 46/100\n",
      "94/94 [==============================] - 0s 2ms/step - loss: 0.4336 - accuracy: 0.7903\n",
      "Epoch 47/100\n",
      "94/94 [==============================] - 0s 2ms/step - loss: 0.4333 - accuracy: 0.7963\n",
      "Epoch 48/100\n",
      "94/94 [==============================] - 0s 2ms/step - loss: 0.4325 - accuracy: 0.7923\n",
      "Epoch 49/100\n",
      "94/94 [==============================] - 0s 2ms/step - loss: 0.4316 - accuracy: 0.7950\n",
      "Epoch 50/100\n",
      "94/94 [==============================] - 0s 2ms/step - loss: 0.4302 - accuracy: 0.7890\n",
      "Epoch 51/100\n",
      "94/94 [==============================] - 0s 2ms/step - loss: 0.4282 - accuracy: 0.7970\n",
      "Epoch 52/100\n",
      "94/94 [==============================] - 0s 2ms/step - loss: 0.4311 - accuracy: 0.7943\n",
      "Epoch 53/100\n",
      "94/94 [==============================] - 0s 2ms/step - loss: 0.4297 - accuracy: 0.7933\n",
      "Epoch 54/100\n",
      "94/94 [==============================] - 0s 2ms/step - loss: 0.4263 - accuracy: 0.8010\n",
      "Epoch 55/100\n",
      "94/94 [==============================] - 0s 3ms/step - loss: 0.4248 - accuracy: 0.7973\n",
      "Epoch 56/100\n",
      "94/94 [==============================] - 0s 2ms/step - loss: 0.4245 - accuracy: 0.7983\n",
      "Epoch 57/100\n",
      "94/94 [==============================] - 0s 3ms/step - loss: 0.4241 - accuracy: 0.8020\n",
      "Epoch 58/100\n",
      "94/94 [==============================] - 0s 3ms/step - loss: 0.4226 - accuracy: 0.8013\n",
      "Epoch 59/100\n",
      "94/94 [==============================] - 0s 2ms/step - loss: 0.4209 - accuracy: 0.8023\n",
      "Epoch 60/100\n",
      "94/94 [==============================] - 0s 2ms/step - loss: 0.4206 - accuracy: 0.7983\n",
      "Epoch 61/100\n",
      "94/94 [==============================] - 0s 2ms/step - loss: 0.4207 - accuracy: 0.7973\n",
      "Epoch 62/100\n",
      "94/94 [==============================] - 0s 2ms/step - loss: 0.4194 - accuracy: 0.8000\n",
      "Epoch 63/100\n",
      "94/94 [==============================] - 0s 2ms/step - loss: 0.4204 - accuracy: 0.8027\n",
      "Epoch 64/100\n",
      "94/94 [==============================] - 0s 2ms/step - loss: 0.4184 - accuracy: 0.8043\n",
      "Epoch 65/100\n",
      "94/94 [==============================] - 0s 2ms/step - loss: 0.4163 - accuracy: 0.8040\n",
      "Epoch 66/100\n",
      "94/94 [==============================] - 0s 1ms/step - loss: 0.4161 - accuracy: 0.8023\n",
      "Epoch 67/100\n",
      "94/94 [==============================] - 0s 2ms/step - loss: 0.4157 - accuracy: 0.8064\n",
      "Epoch 68/100\n",
      "94/94 [==============================] - 0s 2ms/step - loss: 0.4149 - accuracy: 0.8043\n",
      "Epoch 69/100\n",
      "94/94 [==============================] - 0s 2ms/step - loss: 0.4138 - accuracy: 0.8090\n",
      "Epoch 70/100\n",
      "94/94 [==============================] - 0s 2ms/step - loss: 0.4146 - accuracy: 0.8043\n",
      "Epoch 71/100\n",
      "94/94 [==============================] - 0s 2ms/step - loss: 0.4133 - accuracy: 0.8027\n",
      "Epoch 72/100\n",
      "94/94 [==============================] - 0s 2ms/step - loss: 0.4122 - accuracy: 0.8080\n",
      "Epoch 73/100\n",
      "94/94 [==============================] - 0s 3ms/step - loss: 0.4112 - accuracy: 0.8084\n",
      "Epoch 74/100\n",
      "94/94 [==============================] - 0s 2ms/step - loss: 0.4092 - accuracy: 0.8104\n",
      "Epoch 75/100\n",
      "94/94 [==============================] - 0s 2ms/step - loss: 0.4101 - accuracy: 0.8067\n",
      "Epoch 76/100\n",
      "94/94 [==============================] - 0s 2ms/step - loss: 0.4108 - accuracy: 0.8104\n",
      "Epoch 77/100\n",
      "94/94 [==============================] - 0s 3ms/step - loss: 0.4104 - accuracy: 0.8084\n",
      "Epoch 78/100\n",
      "94/94 [==============================] - 0s 2ms/step - loss: 0.4065 - accuracy: 0.8110\n",
      "Epoch 79/100\n",
      "94/94 [==============================] - 0s 2ms/step - loss: 0.4053 - accuracy: 0.8100\n",
      "Epoch 80/100\n",
      "94/94 [==============================] - 0s 2ms/step - loss: 0.4070 - accuracy: 0.8114\n",
      "Epoch 81/100\n",
      "94/94 [==============================] - 0s 2ms/step - loss: 0.4054 - accuracy: 0.8114\n",
      "Epoch 82/100\n"
     ]
    },
    {
     "name": "stdout",
     "output_type": "stream",
     "text": [
      "94/94 [==============================] - 0s 3ms/step - loss: 0.4037 - accuracy: 0.8097\n",
      "Epoch 83/100\n",
      "94/94 [==============================] - 0s 2ms/step - loss: 0.4023 - accuracy: 0.8144\n",
      "Epoch 84/100\n",
      "94/94 [==============================] - 0s 2ms/step - loss: 0.4022 - accuracy: 0.8117\n",
      "Epoch 85/100\n",
      "94/94 [==============================] - 0s 2ms/step - loss: 0.4020 - accuracy: 0.8120\n",
      "Epoch 86/100\n",
      "94/94 [==============================] - 0s 2ms/step - loss: 0.4016 - accuracy: 0.8144\n",
      "Epoch 87/100\n",
      "94/94 [==============================] - 0s 3ms/step - loss: 0.4007 - accuracy: 0.8094\n",
      "Epoch 88/100\n",
      "94/94 [==============================] - 0s 2ms/step - loss: 0.4016 - accuracy: 0.8094\n",
      "Epoch 89/100\n",
      "94/94 [==============================] - 0s 2ms/step - loss: 0.3992 - accuracy: 0.8174\n",
      "Epoch 90/100\n",
      "94/94 [==============================] - 0s 2ms/step - loss: 0.3991 - accuracy: 0.8147\n",
      "Epoch 91/100\n",
      "94/94 [==============================] - 0s 2ms/step - loss: 0.3984 - accuracy: 0.8157\n",
      "Epoch 92/100\n",
      "94/94 [==============================] - 0s 2ms/step - loss: 0.3962 - accuracy: 0.8151\n",
      "Epoch 93/100\n",
      "94/94 [==============================] - 0s 2ms/step - loss: 0.3957 - accuracy: 0.8174\n",
      "Epoch 94/100\n",
      "94/94 [==============================] - 0s 2ms/step - loss: 0.3962 - accuracy: 0.8167\n",
      "Epoch 95/100\n",
      "94/94 [==============================] - 0s 2ms/step - loss: 0.3946 - accuracy: 0.8157\n",
      "Epoch 96/100\n",
      "94/94 [==============================] - 0s 2ms/step - loss: 0.3955 - accuracy: 0.8161\n",
      "Epoch 97/100\n",
      "94/94 [==============================] - 0s 2ms/step - loss: 0.3932 - accuracy: 0.8217\n",
      "Epoch 98/100\n",
      "94/94 [==============================] - 0s 3ms/step - loss: 0.3934 - accuracy: 0.8171\n",
      "Epoch 99/100\n",
      "94/94 [==============================] - 0s 2ms/step - loss: 0.3929 - accuracy: 0.8217\n",
      "Epoch 100/100\n",
      "94/94 [==============================] - 0s 2ms/step - loss: 0.3926 - accuracy: 0.8177\n",
      "Classification Report is :               precision    recall  f1-score   support\n",
      "\n",
      "           0       0.75      0.73      0.74       374\n",
      "           1       0.73      0.75      0.74       374\n",
      "\n",
      "    accuracy                           0.74       748\n",
      "   macro avg       0.74      0.74      0.74       748\n",
      "weighted avg       0.74      0.74      0.74       748\n",
      "\n"
     ]
    }
   ],
   "source": [
    "y_preds =ANN(x_train,x_test,y_train,y_test,'binary_crossentropy',weight=-1)"
   ]
  },
  {
   "cell_type": "markdown",
   "metadata": {},
   "source": [
    "### Method 2: Oversampling"
   ]
  },
  {
   "cell_type": "code",
   "execution_count": 105,
   "metadata": {},
   "outputs": [
    {
     "data": {
      "text/plain": [
       "(5163, 1869)"
      ]
     },
     "execution_count": 105,
     "metadata": {},
     "output_type": "execute_result"
    }
   ],
   "source": [
    "count_class_0,count_class_1"
   ]
  },
  {
   "cell_type": "code",
   "execution_count": 108,
   "metadata": {},
   "outputs": [
    {
     "data": {
      "text/plain": [
       "(1869, 27)"
      ]
     },
     "execution_count": 108,
     "metadata": {},
     "output_type": "execute_result"
    }
   ],
   "source": [
    "df_class_1.shape"
   ]
  },
  {
   "cell_type": "code",
   "execution_count": 117,
   "metadata": {},
   "outputs": [],
   "source": [
    "df_1_Over = df_class_1.sample(count_class_0,replace=True)"
   ]
  },
  {
   "cell_type": "code",
   "execution_count": 119,
   "metadata": {},
   "outputs": [
    {
     "data": {
      "text/plain": [
       "(5163, 27)"
      ]
     },
     "execution_count": 119,
     "metadata": {},
     "output_type": "execute_result"
    }
   ],
   "source": [
    "df_1_Over.shape"
   ]
  },
  {
   "cell_type": "code",
   "execution_count": 121,
   "metadata": {},
   "outputs": [
    {
     "data": {
      "text/plain": [
       "(5163, 27)"
      ]
     },
     "execution_count": 121,
     "metadata": {},
     "output_type": "execute_result"
    }
   ],
   "source": [
    "df_class_0.shape"
   ]
  },
  {
   "cell_type": "code",
   "execution_count": 126,
   "metadata": {},
   "outputs": [
    {
     "data": {
      "text/plain": [
       "(10326, 27)"
      ]
     },
     "execution_count": 126,
     "metadata": {},
     "output_type": "execute_result"
    }
   ],
   "source": [
    "df4 = pd.concat([df_class_0,df_1_Over],axis=0)\n",
    "df4.shape"
   ]
  },
  {
   "cell_type": "code",
   "execution_count": 129,
   "metadata": {},
   "outputs": [
    {
     "data": {
      "text/plain": [
       "1    5163\n",
       "0    5163\n",
       "Name: Churn, dtype: int64"
      ]
     },
     "execution_count": 129,
     "metadata": {},
     "output_type": "execute_result"
    }
   ],
   "source": [
    "df4.Churn.value_counts()"
   ]
  },
  {
   "cell_type": "code",
   "execution_count": 133,
   "metadata": {},
   "outputs": [],
   "source": [
    "X1= df4.drop(\"Churn\",axis='columns')\n",
    "Y1= df4.Churn"
   ]
  },
  {
   "cell_type": "code",
   "execution_count": 134,
   "metadata": {},
   "outputs": [],
   "source": [
    "x_train,x_test,y_train,y_test = train_test_split(X1,Y1,test_size=0.2,random_state=15,stratify=Y1)"
   ]
  },
  {
   "cell_type": "code",
   "execution_count": 136,
   "metadata": {},
   "outputs": [
    {
     "data": {
      "text/plain": [
       "1    4130\n",
       "0    4130\n",
       "Name: Churn, dtype: int64"
      ]
     },
     "execution_count": 136,
     "metadata": {},
     "output_type": "execute_result"
    }
   ],
   "source": [
    "y_train.value_counts()"
   ]
  },
  {
   "cell_type": "code",
   "execution_count": 135,
   "metadata": {},
   "outputs": [
    {
     "name": "stdout",
     "output_type": "stream",
     "text": [
      "Epoch 1/100\n",
      "259/259 [==============================] - 0s 2ms/step - loss: 0.5744 - accuracy: 0.6942\n",
      "Epoch 2/100\n",
      "259/259 [==============================] - 0s 2ms/step - loss: 0.4969 - accuracy: 0.7536\n",
      "Epoch 3/100\n",
      "259/259 [==============================] - 0s 2ms/step - loss: 0.4888 - accuracy: 0.7563\n",
      "Epoch 4/100\n",
      "259/259 [==============================] - 1s 2ms/step - loss: 0.4838 - accuracy: 0.7605\n",
      "Epoch 5/100\n",
      "259/259 [==============================] - 0s 2ms/step - loss: 0.4798 - accuracy: 0.7622\n",
      "Epoch 6/100\n",
      "259/259 [==============================] - 0s 2ms/step - loss: 0.4770 - accuracy: 0.7621\n",
      "Epoch 7/100\n",
      "259/259 [==============================] - 0s 2ms/step - loss: 0.4740 - accuracy: 0.7640\n",
      "Epoch 8/100\n",
      "259/259 [==============================] - 1s 2ms/step - loss: 0.4707 - accuracy: 0.7677\n",
      "Epoch 9/100\n",
      "259/259 [==============================] - 0s 2ms/step - loss: 0.4685 - accuracy: 0.7688\n",
      "Epoch 10/100\n",
      "259/259 [==============================] - 1s 2ms/step - loss: 0.4668 - accuracy: 0.7700\n",
      "Epoch 11/100\n",
      "259/259 [==============================] - 0s 2ms/step - loss: 0.4639 - accuracy: 0.7720\n",
      "Epoch 12/100\n",
      "259/259 [==============================] - 1s 2ms/step - loss: 0.4620 - accuracy: 0.7764\n",
      "Epoch 13/100\n",
      "259/259 [==============================] - 0s 2ms/step - loss: 0.4592 - accuracy: 0.7758\n",
      "Epoch 14/100\n",
      "259/259 [==============================] - 0s 2ms/step - loss: 0.4561 - accuracy: 0.7788\n",
      "Epoch 15/100\n",
      "259/259 [==============================] - 0s 2ms/step - loss: 0.4547 - accuracy: 0.7795\n",
      "Epoch 16/100\n",
      "259/259 [==============================] - 1s 2ms/step - loss: 0.4528 - accuracy: 0.7824\n",
      "Epoch 17/100\n",
      "259/259 [==============================] - 0s 2ms/step - loss: 0.4492 - accuracy: 0.7834\n",
      "Epoch 18/100\n",
      "259/259 [==============================] - 1s 2ms/step - loss: 0.4477 - accuracy: 0.7847\n",
      "Epoch 19/100\n",
      "259/259 [==============================] - 0s 2ms/step - loss: 0.4439 - accuracy: 0.7841\n",
      "Epoch 20/100\n",
      "259/259 [==============================] - 1s 2ms/step - loss: 0.4430 - accuracy: 0.7874\n",
      "Epoch 21/100\n",
      "259/259 [==============================] - 0s 2ms/step - loss: 0.4402 - accuracy: 0.7881\n",
      "Epoch 22/100\n",
      "259/259 [==============================] - 0s 2ms/step - loss: 0.4383 - accuracy: 0.7883\n",
      "Epoch 23/100\n",
      "259/259 [==============================] - 1s 2ms/step - loss: 0.4372 - accuracy: 0.7898\n",
      "Epoch 24/100\n",
      "259/259 [==============================] - 1s 2ms/step - loss: 0.4343 - accuracy: 0.7908\n",
      "Epoch 25/100\n",
      "259/259 [==============================] - 1s 2ms/step - loss: 0.4330 - accuracy: 0.7939\n",
      "Epoch 26/100\n",
      "259/259 [==============================] - 0s 2ms/step - loss: 0.4313 - accuracy: 0.7938\n",
      "Epoch 27/100\n",
      "259/259 [==============================] - 1s 2ms/step - loss: 0.4290 - accuracy: 0.7954\n",
      "Epoch 28/100\n",
      "259/259 [==============================] - 0s 2ms/step - loss: 0.4269 - accuracy: 0.7909\n",
      "Epoch 29/100\n",
      "259/259 [==============================] - 1s 2ms/step - loss: 0.4240 - accuracy: 0.7971\n",
      "Epoch 30/100\n",
      "259/259 [==============================] - 0s 2ms/step - loss: 0.4213 - accuracy: 0.8011\n",
      "Epoch 31/100\n",
      "259/259 [==============================] - 1s 2ms/step - loss: 0.4200 - accuracy: 0.8000\n",
      "Epoch 32/100\n",
      "259/259 [==============================] - 1s 2ms/step - loss: 0.4182 - accuracy: 0.7993: 0s - loss: 0.4199 - \n",
      "Epoch 33/100\n",
      "259/259 [==============================] - 1s 2ms/step - loss: 0.4154 - accuracy: 0.8019\n",
      "Epoch 34/100\n",
      "259/259 [==============================] - 1s 2ms/step - loss: 0.4139 - accuracy: 0.7999\n",
      "Epoch 35/100\n",
      "259/259 [==============================] - 1s 2ms/step - loss: 0.4124 - accuracy: 0.8030\n",
      "Epoch 36/100\n",
      "259/259 [==============================] - 0s 2ms/step - loss: 0.4118 - accuracy: 0.8028\n",
      "Epoch 37/100\n",
      "259/259 [==============================] - 0s 2ms/step - loss: 0.4086 - accuracy: 0.8044\n",
      "Epoch 38/100\n",
      "259/259 [==============================] - 1s 2ms/step - loss: 0.4071 - accuracy: 0.8082\n",
      "Epoch 39/100\n",
      "259/259 [==============================] - 1s 2ms/step - loss: 0.4055 - accuracy: 0.8102\n",
      "Epoch 40/100\n",
      "259/259 [==============================] - 1s 2ms/step - loss: 0.4046 - accuracy: 0.8087\n",
      "Epoch 41/100\n",
      "259/259 [==============================] - 0s 2ms/step - loss: 0.4019 - accuracy: 0.8122\n",
      "Epoch 42/100\n",
      "259/259 [==============================] - 1s 2ms/step - loss: 0.4000 - accuracy: 0.8137\n",
      "Epoch 43/100\n",
      "259/259 [==============================] - 0s 2ms/step - loss: 0.4006 - accuracy: 0.8104\n",
      "Epoch 44/100\n",
      "259/259 [==============================] - 1s 2ms/step - loss: 0.3990 - accuracy: 0.8111\n",
      "Epoch 45/100\n",
      "259/259 [==============================] - 0s 2ms/step - loss: 0.3965 - accuracy: 0.8155\n",
      "Epoch 46/100\n",
      "259/259 [==============================] - 1s 2ms/step - loss: 0.3962 - accuracy: 0.8123\n",
      "Epoch 47/100\n",
      "259/259 [==============================] - 0s 2ms/step - loss: 0.3945 - accuracy: 0.8185\n",
      "Epoch 48/100\n",
      "259/259 [==============================] - 1s 3ms/step - loss: 0.3928 - accuracy: 0.8176\n",
      "Epoch 49/100\n",
      "259/259 [==============================] - 0s 2ms/step - loss: 0.3917 - accuracy: 0.8176\n",
      "Epoch 50/100\n",
      "259/259 [==============================] - 1s 2ms/step - loss: 0.3910 - accuracy: 0.8180\n",
      "Epoch 51/100\n",
      "259/259 [==============================] - 1s 2ms/step - loss: 0.3896 - accuracy: 0.8167\n",
      "Epoch 52/100\n",
      "259/259 [==============================] - 1s 2ms/step - loss: 0.3892 - accuracy: 0.8168\n",
      "Epoch 53/100\n",
      "259/259 [==============================] - 1s 2ms/step - loss: 0.3872 - accuracy: 0.8203\n",
      "Epoch 54/100\n",
      "259/259 [==============================] - 0s 2ms/step - loss: 0.3861 - accuracy: 0.8199\n",
      "Epoch 55/100\n",
      "259/259 [==============================] - 1s 3ms/step - loss: 0.3860 - accuracy: 0.8201\n",
      "Epoch 56/100\n",
      "259/259 [==============================] - 1s 2ms/step - loss: 0.3848 - accuracy: 0.8230\n",
      "Epoch 57/100\n",
      "259/259 [==============================] - 1s 2ms/step - loss: 0.3838 - accuracy: 0.8195\n",
      "Epoch 58/100\n",
      "259/259 [==============================] - 1s 2ms/step - loss: 0.3819 - accuracy: 0.8213\n",
      "Epoch 59/100\n",
      "259/259 [==============================] - 1s 2ms/step - loss: 0.3827 - accuracy: 0.8223\n",
      "Epoch 60/100\n",
      "259/259 [==============================] - 1s 2ms/step - loss: 0.3810 - accuracy: 0.8218\n",
      "Epoch 61/100\n",
      "259/259 [==============================] - 1s 2ms/step - loss: 0.3800 - accuracy: 0.8232\n",
      "Epoch 62/100\n",
      "259/259 [==============================] - 1s 2ms/step - loss: 0.3799 - accuracy: 0.8232\n",
      "Epoch 63/100\n",
      "259/259 [==============================] - 1s 2ms/step - loss: 0.3787 - accuracy: 0.8270\n",
      "Epoch 64/100\n",
      "259/259 [==============================] - 1s 2ms/step - loss: 0.3785 - accuracy: 0.8271\n",
      "Epoch 65/100\n",
      "259/259 [==============================] - 1s 2ms/step - loss: 0.3752 - accuracy: 0.8300\n",
      "Epoch 66/100\n",
      "259/259 [==============================] - 1s 2ms/step - loss: 0.3756 - accuracy: 0.8253\n",
      "Epoch 67/100\n",
      "259/259 [==============================] - 1s 2ms/step - loss: 0.3745 - accuracy: 0.8271\n",
      "Epoch 68/100\n",
      "259/259 [==============================] - 1s 2ms/step - loss: 0.3739 - accuracy: 0.8295\n",
      "Epoch 69/100\n",
      "259/259 [==============================] - 1s 2ms/step - loss: 0.3746 - accuracy: 0.8289\n",
      "Epoch 70/100\n",
      "259/259 [==============================] - 1s 2ms/step - loss: 0.3708 - accuracy: 0.8314\n",
      "Epoch 71/100\n",
      "259/259 [==============================] - 1s 2ms/step - loss: 0.3718 - accuracy: 0.8326: 0s - loss: 0.354\n",
      "Epoch 72/100\n",
      "259/259 [==============================] - 1s 2ms/step - loss: 0.3712 - accuracy: 0.8309\n",
      "Epoch 73/100\n",
      "259/259 [==============================] - 1s 2ms/step - loss: 0.3697 - accuracy: 0.8303\n",
      "Epoch 74/100\n",
      "259/259 [==============================] - 1s 2ms/step - loss: 0.3683 - accuracy: 0.8315\n",
      "Epoch 75/100\n",
      "259/259 [==============================] - 1s 2ms/step - loss: 0.3683 - accuracy: 0.8298\n",
      "Epoch 76/100\n",
      "259/259 [==============================] - 0s 2ms/step - loss: 0.3668 - accuracy: 0.8350\n",
      "Epoch 77/100\n",
      "259/259 [==============================] - 0s 2ms/step - loss: 0.3661 - accuracy: 0.8357\n",
      "Epoch 78/100\n",
      "259/259 [==============================] - 1s 2ms/step - loss: 0.3666 - accuracy: 0.8340\n",
      "Epoch 79/100\n",
      "259/259 [==============================] - 1s 2ms/step - loss: 0.3649 - accuracy: 0.8364: 0s - loss: 0.3632 \n",
      "Epoch 80/100\n"
     ]
    },
    {
     "name": "stdout",
     "output_type": "stream",
     "text": [
      "259/259 [==============================] - 1s 2ms/step - loss: 0.3650 - accuracy: 0.8344\n",
      "Epoch 81/100\n",
      "259/259 [==============================] - 0s 2ms/step - loss: 0.3636 - accuracy: 0.8385\n",
      "Epoch 82/100\n",
      "259/259 [==============================] - 1s 2ms/step - loss: 0.3639 - accuracy: 0.8338\n",
      "Epoch 83/100\n",
      "259/259 [==============================] - 0s 2ms/step - loss: 0.3635 - accuracy: 0.8370\n",
      "Epoch 84/100\n",
      "259/259 [==============================] - 0s 2ms/step - loss: 0.3617 - accuracy: 0.8347\n",
      "Epoch 85/100\n",
      "259/259 [==============================] - 0s 2ms/step - loss: 0.3597 - accuracy: 0.8396\n",
      "Epoch 86/100\n",
      "259/259 [==============================] - 1s 2ms/step - loss: 0.3603 - accuracy: 0.8397\n",
      "Epoch 87/100\n",
      "259/259 [==============================] - 0s 2ms/step - loss: 0.3600 - accuracy: 0.8384\n",
      "Epoch 88/100\n",
      "259/259 [==============================] - 0s 2ms/step - loss: 0.3578 - accuracy: 0.8406\n",
      "Epoch 89/100\n",
      "259/259 [==============================] - 0s 2ms/step - loss: 0.3582 - accuracy: 0.8414\n",
      "Epoch 90/100\n",
      "259/259 [==============================] - 0s 2ms/step - loss: 0.3570 - accuracy: 0.8415\n",
      "Epoch 91/100\n",
      "259/259 [==============================] - 1s 2ms/step - loss: 0.3578 - accuracy: 0.8377\n",
      "Epoch 92/100\n",
      "259/259 [==============================] - 0s 2ms/step - loss: 0.3558 - accuracy: 0.8438\n",
      "Epoch 93/100\n",
      "259/259 [==============================] - 0s 2ms/step - loss: 0.3551 - accuracy: 0.8444\n",
      "Epoch 94/100\n",
      "259/259 [==============================] - 1s 2ms/step - loss: 0.3559 - accuracy: 0.8427\n",
      "Epoch 95/100\n",
      "259/259 [==============================] - 1s 2ms/step - loss: 0.3559 - accuracy: 0.8403\n",
      "Epoch 96/100\n",
      "259/259 [==============================] - 1s 3ms/step - loss: 0.3533 - accuracy: 0.8426\n",
      "Epoch 97/100\n",
      "259/259 [==============================] - 1s 3ms/step - loss: 0.3513 - accuracy: 0.8448\n",
      "Epoch 98/100\n",
      "259/259 [==============================] - 1s 2ms/step - loss: 0.3529 - accuracy: 0.8458\n",
      "Epoch 99/100\n",
      "259/259 [==============================] - 1s 2ms/step - loss: 0.3518 - accuracy: 0.8442\n",
      "Epoch 100/100\n",
      "259/259 [==============================] - 1s 2ms/step - loss: 0.3517 - accuracy: 0.8443\n",
      "Classification Report is :               precision    recall  f1-score   support\n",
      "\n",
      "           0       0.86      0.72      0.78      1033\n",
      "           1       0.76      0.89      0.82      1033\n",
      "\n",
      "    accuracy                           0.80      2066\n",
      "   macro avg       0.81      0.80      0.80      2066\n",
      "weighted avg       0.81      0.80      0.80      2066\n",
      "\n"
     ]
    }
   ],
   "source": [
    "y_preds =ANN(x_train,x_test,y_train,y_test,'binary_crossentropy',weight=-1)"
   ]
  },
  {
   "cell_type": "markdown",
   "metadata": {},
   "source": [
    "### METHOD 3: SMOTE"
   ]
  },
  {
   "cell_type": "code",
   "execution_count": 137,
   "metadata": {},
   "outputs": [],
   "source": [
    "X = df2.drop('Churn',axis='columns')\n",
    "Y = df2.Churn"
   ]
  },
  {
   "cell_type": "code",
   "execution_count": 146,
   "metadata": {},
   "outputs": [
    {
     "data": {
      "text/plain": [
       "0    5163\n",
       "1    1869\n",
       "Name: Churn, dtype: int64"
      ]
     },
     "execution_count": 146,
     "metadata": {},
     "output_type": "execute_result"
    }
   ],
   "source": [
    "Y.value_counts()"
   ]
  },
  {
   "cell_type": "code",
   "execution_count": 140,
   "metadata": {},
   "outputs": [],
   "source": [
    "from imblearn.over_sampling import SMOTE"
   ]
  },
  {
   "cell_type": "code",
   "execution_count": 141,
   "metadata": {},
   "outputs": [],
   "source": [
    "smote = SMOTE(sampling_strategy = 'minority')"
   ]
  },
  {
   "cell_type": "code",
   "execution_count": 142,
   "metadata": {},
   "outputs": [],
   "source": [
    "X_sm,Y_sm=smote.fit_sample(X,Y)"
   ]
  },
  {
   "cell_type": "code",
   "execution_count": 147,
   "metadata": {},
   "outputs": [
    {
     "data": {
      "text/plain": [
       "1    5163\n",
       "0    5163\n",
       "Name: Churn, dtype: int64"
      ]
     },
     "execution_count": 147,
     "metadata": {},
     "output_type": "execute_result"
    }
   ],
   "source": [
    "Y_sm.value_counts()"
   ]
  },
  {
   "cell_type": "code",
   "execution_count": 150,
   "metadata": {},
   "outputs": [],
   "source": [
    "X_train,X_test,Y_train,Y_test = train_test_split(X_sm,Y_sm,test_size=0.2,stratify=Y_sm,random_state=15)"
   ]
  },
  {
   "cell_type": "code",
   "execution_count": 152,
   "metadata": {},
   "outputs": [
    {
     "data": {
      "text/plain": [
       "1    4130\n",
       "0    4130\n",
       "Name: Churn, dtype: int64"
      ]
     },
     "execution_count": 152,
     "metadata": {},
     "output_type": "execute_result"
    }
   ],
   "source": [
    "Y_train.value_counts()"
   ]
  },
  {
   "cell_type": "code",
   "execution_count": 155,
   "metadata": {},
   "outputs": [
    {
     "data": {
      "text/plain": [
       "1    1033\n",
       "0    1033\n",
       "Name: Churn, dtype: int64"
      ]
     },
     "execution_count": 155,
     "metadata": {},
     "output_type": "execute_result"
    }
   ],
   "source": [
    "Y_test.value_counts()"
   ]
  },
  {
   "cell_type": "code",
   "execution_count": 153,
   "metadata": {},
   "outputs": [
    {
     "name": "stdout",
     "output_type": "stream",
     "text": [
      "Epoch 1/100\n",
      "259/259 [==============================] - 0s 2ms/step - loss: 0.5434 - accuracy: 0.7372\n",
      "Epoch 2/100\n",
      "259/259 [==============================] - 1s 2ms/step - loss: 0.4694 - accuracy: 0.7777\n",
      "Epoch 3/100\n",
      "259/259 [==============================] - 1s 2ms/step - loss: 0.4604 - accuracy: 0.7812\n",
      "Epoch 4/100\n",
      "259/259 [==============================] - 1s 3ms/step - loss: 0.4555 - accuracy: 0.7844\n",
      "Epoch 5/100\n",
      "259/259 [==============================] - 1s 3ms/step - loss: 0.4509 - accuracy: 0.7861\n",
      "Epoch 6/100\n",
      "259/259 [==============================] - 1s 3ms/step - loss: 0.4466 - accuracy: 0.7906\n",
      "Epoch 7/100\n",
      "259/259 [==============================] - 1s 4ms/step - loss: 0.4421 - accuracy: 0.7948\n",
      "Epoch 8/100\n",
      "259/259 [==============================] - 1s 3ms/step - loss: 0.4387 - accuracy: 0.7965\n",
      "Epoch 9/100\n",
      "259/259 [==============================] - 1s 3ms/step - loss: 0.4340 - accuracy: 0.7973\n",
      "Epoch 10/100\n",
      "259/259 [==============================] - 1s 3ms/step - loss: 0.4312 - accuracy: 0.8008\n",
      "Epoch 11/100\n",
      "259/259 [==============================] - 1s 2ms/step - loss: 0.4281 - accuracy: 0.8008\n",
      "Epoch 12/100\n",
      "259/259 [==============================] - 1s 3ms/step - loss: 0.4247 - accuracy: 0.8027\n",
      "Epoch 13/100\n",
      "259/259 [==============================] - 1s 4ms/step - loss: 0.4224 - accuracy: 0.8045\n",
      "Epoch 14/100\n",
      "259/259 [==============================] - 1s 4ms/step - loss: 0.4199 - accuracy: 0.8061\n",
      "Epoch 15/100\n",
      "259/259 [==============================] - 1s 3ms/step - loss: 0.4168 - accuracy: 0.8075\n",
      "Epoch 16/100\n",
      "259/259 [==============================] - 1s 4ms/step - loss: 0.4146 - accuracy: 0.8058\n",
      "Epoch 17/100\n",
      "259/259 [==============================] - 1s 4ms/step - loss: 0.4116 - accuracy: 0.8109\n",
      "Epoch 18/100\n",
      "259/259 [==============================] - 1s 4ms/step - loss: 0.4091 - accuracy: 0.8105\n",
      "Epoch 19/100\n",
      "259/259 [==============================] - 1s 3ms/step - loss: 0.4076 - accuracy: 0.8128\n",
      "Epoch 20/100\n",
      "259/259 [==============================] - 1s 3ms/step - loss: 0.4038 - accuracy: 0.8159\n",
      "Epoch 21/100\n",
      "259/259 [==============================] - 1s 3ms/step - loss: 0.4040 - accuracy: 0.8149\n",
      "Epoch 22/100\n",
      "259/259 [==============================] - 1s 2ms/step - loss: 0.4010 - accuracy: 0.8185\n",
      "Epoch 23/100\n",
      "259/259 [==============================] - 1s 3ms/step - loss: 0.3973 - accuracy: 0.8191\n",
      "Epoch 24/100\n",
      "259/259 [==============================] - 1s 3ms/step - loss: 0.3976 - accuracy: 0.8179\n",
      "Epoch 25/100\n",
      "259/259 [==============================] - 1s 3ms/step - loss: 0.3977 - accuracy: 0.8188\n",
      "Epoch 26/100\n",
      "259/259 [==============================] - 1s 3ms/step - loss: 0.3924 - accuracy: 0.8231\n",
      "Epoch 27/100\n",
      "259/259 [==============================] - 1s 4ms/step - loss: 0.3910 - accuracy: 0.8223\n",
      "Epoch 28/100\n",
      "259/259 [==============================] - 1s 4ms/step - loss: 0.3915 - accuracy: 0.8236: 0s - l\n",
      "Epoch 29/100\n",
      "259/259 [==============================] - 1s 3ms/step - loss: 0.3906 - accuracy: 0.8213\n",
      "Epoch 30/100\n",
      "259/259 [==============================] - 1s 4ms/step - loss: 0.3882 - accuracy: 0.8248\n",
      "Epoch 31/100\n",
      "259/259 [==============================] - 1s 3ms/step - loss: 0.3863 - accuracy: 0.8248\n",
      "Epoch 32/100\n",
      "259/259 [==============================] - 1s 3ms/step - loss: 0.3841 - accuracy: 0.8269\n",
      "Epoch 33/100\n",
      "259/259 [==============================] - 1s 3ms/step - loss: 0.3833 - accuracy: 0.8260\n",
      "Epoch 34/100\n",
      "259/259 [==============================] - 1s 3ms/step - loss: 0.3815 - accuracy: 0.8272\n",
      "Epoch 35/100\n",
      "259/259 [==============================] - 1s 3ms/step - loss: 0.3795 - accuracy: 0.8263\n",
      "Epoch 36/100\n",
      "259/259 [==============================] - 1s 3ms/step - loss: 0.3783 - accuracy: 0.8248: 0s - loss: 0.3\n",
      "Epoch 37/100\n",
      "259/259 [==============================] - 1s 3ms/step - loss: 0.3775 - accuracy: 0.8289\n",
      "Epoch 38/100\n",
      "259/259 [==============================] - 1s 3ms/step - loss: 0.3776 - accuracy: 0.8324\n",
      "Epoch 39/100\n",
      "259/259 [==============================] - 1s 2ms/step - loss: 0.3760 - accuracy: 0.8315\n",
      "Epoch 40/100\n",
      "259/259 [==============================] - 1s 3ms/step - loss: 0.3743 - accuracy: 0.8322\n",
      "Epoch 41/100\n",
      "259/259 [==============================] - 1s 3ms/step - loss: 0.3721 - accuracy: 0.8326\n",
      "Epoch 42/100\n",
      "259/259 [==============================] - 1s 3ms/step - loss: 0.3707 - accuracy: 0.8341\n",
      "Epoch 43/100\n",
      "259/259 [==============================] - 1s 3ms/step - loss: 0.3714 - accuracy: 0.8340\n",
      "Epoch 44/100\n",
      "259/259 [==============================] - 1s 3ms/step - loss: 0.3690 - accuracy: 0.8332\n",
      "Epoch 45/100\n",
      "259/259 [==============================] - 1s 3ms/step - loss: 0.3679 - accuracy: 0.8350\n",
      "Epoch 46/100\n",
      "259/259 [==============================] - 1s 3ms/step - loss: 0.3659 - accuracy: 0.8367\n",
      "Epoch 47/100\n",
      "259/259 [==============================] - 1s 3ms/step - loss: 0.3677 - accuracy: 0.8374\n",
      "Epoch 48/100\n",
      "259/259 [==============================] - 1s 3ms/step - loss: 0.3646 - accuracy: 0.8380\n",
      "Epoch 49/100\n",
      "259/259 [==============================] - 1s 4ms/step - loss: 0.3640 - accuracy: 0.8373: 0s - loss: 0\n",
      "Epoch 50/100\n",
      "259/259 [==============================] - 1s 3ms/step - loss: 0.3639 - accuracy: 0.8368: 0s - loss: 0.3775 - accuracy - ETA: 0s - loss: 0.362\n",
      "Epoch 51/100\n",
      "259/259 [==============================] - 1s 3ms/step - loss: 0.3625 - accuracy: 0.8390\n",
      "Epoch 52/100\n",
      "259/259 [==============================] - 1s 3ms/step - loss: 0.3625 - accuracy: 0.8389\n",
      "Epoch 53/100\n",
      "259/259 [==============================] - 1s 3ms/step - loss: 0.3612 - accuracy: 0.8375\n",
      "Epoch 54/100\n",
      "259/259 [==============================] - 1s 3ms/step - loss: 0.3599 - accuracy: 0.8429\n",
      "Epoch 55/100\n",
      "259/259 [==============================] - 1s 4ms/step - loss: 0.3595 - accuracy: 0.8433\n",
      "Epoch 56/100\n",
      "259/259 [==============================] - 1s 3ms/step - loss: 0.3595 - accuracy: 0.8421\n",
      "Epoch 57/100\n",
      "259/259 [==============================] - 1s 3ms/step - loss: 0.3566 - accuracy: 0.8425\n",
      "Epoch 58/100\n",
      "259/259 [==============================] - 1s 3ms/step - loss: 0.3542 - accuracy: 0.8413\n",
      "Epoch 59/100\n",
      "259/259 [==============================] - 1s 4ms/step - loss: 0.3559 - accuracy: 0.8420\n",
      "Epoch 60/100\n",
      "259/259 [==============================] - 1s 3ms/step - loss: 0.3562 - accuracy: 0.8401\n",
      "Epoch 61/100\n",
      "259/259 [==============================] - 1s 4ms/step - loss: 0.3525 - accuracy: 0.8433\n",
      "Epoch 62/100\n",
      "259/259 [==============================] - 1s 3ms/step - loss: 0.3540 - accuracy: 0.8427\n",
      "Epoch 63/100\n",
      "259/259 [==============================] - 1s 3ms/step - loss: 0.3514 - accuracy: 0.8449\n",
      "Epoch 64/100\n",
      "259/259 [==============================] - 1s 3ms/step - loss: 0.3497 - accuracy: 0.8462\n",
      "Epoch 65/100\n",
      "259/259 [==============================] - 1s 3ms/step - loss: 0.3491 - accuracy: 0.8450\n",
      "Epoch 66/100\n",
      "259/259 [==============================] - 1s 3ms/step - loss: 0.3496 - accuracy: 0.8452\n",
      "Epoch 67/100\n",
      "259/259 [==============================] - 1s 3ms/step - loss: 0.3491 - accuracy: 0.8441\n",
      "Epoch 68/100\n",
      "259/259 [==============================] - 1s 3ms/step - loss: 0.3491 - accuracy: 0.8449\n",
      "Epoch 69/100\n",
      "259/259 [==============================] - 1s 3ms/step - loss: 0.3455 - accuracy: 0.8483\n",
      "Epoch 70/100\n",
      "259/259 [==============================] - 1s 3ms/step - loss: 0.3448 - accuracy: 0.8452\n",
      "Epoch 71/100\n",
      "259/259 [==============================] - 1s 3ms/step - loss: 0.3469 - accuracy: 0.8495\n",
      "Epoch 72/100\n",
      "259/259 [==============================] - 1s 3ms/step - loss: 0.3460 - accuracy: 0.8454\n",
      "Epoch 73/100\n",
      "259/259 [==============================] - 1s 5ms/step - loss: 0.3478 - accuracy: 0.8476\n",
      "Epoch 74/100\n",
      "259/259 [==============================] - 1s 4ms/step - loss: 0.3454 - accuracy: 0.8493\n",
      "Epoch 75/100\n",
      "259/259 [==============================] - 1s 4ms/step - loss: 0.3435 - accuracy: 0.8505\n",
      "Epoch 76/100\n",
      "259/259 [==============================] - 1s 3ms/step - loss: 0.3472 - accuracy: 0.8461\n",
      "Epoch 77/100\n",
      "259/259 [==============================] - 1s 3ms/step - loss: 0.3436 - accuracy: 0.8489\n",
      "Epoch 78/100\n",
      "259/259 [==============================] - 1s 3ms/step - loss: 0.3414 - accuracy: 0.8510\n",
      "Epoch 79/100\n",
      "259/259 [==============================] - 1s 3ms/step - loss: 0.3408 - accuracy: 0.8510\n",
      "Epoch 80/100\n"
     ]
    },
    {
     "name": "stdout",
     "output_type": "stream",
     "text": [
      "259/259 [==============================] - 1s 2ms/step - loss: 0.3410 - accuracy: 0.8527\n",
      "Epoch 81/100\n",
      "259/259 [==============================] - 1s 2ms/step - loss: 0.3407 - accuracy: 0.8504\n",
      "Epoch 82/100\n",
      "259/259 [==============================] - 1s 3ms/step - loss: 0.3396 - accuracy: 0.8544\n",
      "Epoch 83/100\n",
      "259/259 [==============================] - 1s 2ms/step - loss: 0.3368 - accuracy: 0.8538\n",
      "Epoch 84/100\n",
      "259/259 [==============================] - 1s 2ms/step - loss: 0.3390 - accuracy: 0.8498\n",
      "Epoch 85/100\n",
      "259/259 [==============================] - 1s 3ms/step - loss: 0.3395 - accuracy: 0.8515\n",
      "Epoch 86/100\n",
      "259/259 [==============================] - 1s 3ms/step - loss: 0.3410 - accuracy: 0.8500\n",
      "Epoch 87/100\n",
      "259/259 [==============================] - 1s 2ms/step - loss: 0.3385 - accuracy: 0.8517\n",
      "Epoch 88/100\n",
      "259/259 [==============================] - 1s 3ms/step - loss: 0.3378 - accuracy: 0.8534\n",
      "Epoch 89/100\n",
      "259/259 [==============================] - 1s 2ms/step - loss: 0.3365 - accuracy: 0.8552\n",
      "Epoch 90/100\n",
      "259/259 [==============================] - 1s 2ms/step - loss: 0.3352 - accuracy: 0.8542\n",
      "Epoch 91/100\n",
      "259/259 [==============================] - 1s 2ms/step - loss: 0.3363 - accuracy: 0.8561\n",
      "Epoch 92/100\n",
      "259/259 [==============================] - 1s 2ms/step - loss: 0.3340 - accuracy: 0.8552\n",
      "Epoch 93/100\n",
      "259/259 [==============================] - 1s 3ms/step - loss: 0.3344 - accuracy: 0.8553\n",
      "Epoch 94/100\n",
      "259/259 [==============================] - 1s 3ms/step - loss: 0.3356 - accuracy: 0.8561\n",
      "Epoch 95/100\n",
      "259/259 [==============================] - 1s 3ms/step - loss: 0.3320 - accuracy: 0.8568\n",
      "Epoch 96/100\n",
      "259/259 [==============================] - 1s 2ms/step - loss: 0.3348 - accuracy: 0.8569\n",
      "Epoch 97/100\n",
      "259/259 [==============================] - 1s 3ms/step - loss: 0.3344 - accuracy: 0.8518\n",
      "Epoch 98/100\n",
      "259/259 [==============================] - 1s 3ms/step - loss: 0.3328 - accuracy: 0.8590\n",
      "Epoch 99/100\n",
      "259/259 [==============================] - 1s 2ms/step - loss: 0.3331 - accuracy: 0.8569\n",
      "Epoch 100/100\n",
      "259/259 [==============================] - 1s 2ms/step - loss: 0.3328 - accuracy: 0.8576\n",
      "Classification Report is :               precision    recall  f1-score   support\n",
      "\n",
      "           0       0.82      0.79      0.80      1033\n",
      "           1       0.79      0.83      0.81      1033\n",
      "\n",
      "    accuracy                           0.81      2066\n",
      "   macro avg       0.81      0.81      0.81      2066\n",
      "weighted avg       0.81      0.81      0.81      2066\n",
      "\n"
     ]
    }
   ],
   "source": [
    "y_preds = ANN(X_train,X_test,Y_train,Y_test,'binary_crossentropy',weight=-1)"
   ]
  },
  {
   "cell_type": "markdown",
   "metadata": {},
   "source": [
    "### Method 4: Use of Ensemble with undersampling"
   ]
  },
  {
   "cell_type": "code",
   "execution_count": 156,
   "metadata": {},
   "outputs": [],
   "source": [
    "X = df2.drop('Churn',axis='columns')\n",
    "Y = df2.Churn"
   ]
  },
  {
   "cell_type": "code",
   "execution_count": 157,
   "metadata": {},
   "outputs": [],
   "source": [
    "X_train,X_test,Y_train,Y_test = train_test_split(X,Y,test_size=0.2,stratify=Y,random_state=15)"
   ]
  },
  {
   "cell_type": "code",
   "execution_count": 158,
   "metadata": {},
   "outputs": [
    {
     "data": {
      "text/plain": [
       "0    4130\n",
       "1    1495\n",
       "Name: Churn, dtype: int64"
      ]
     },
     "execution_count": 158,
     "metadata": {},
     "output_type": "execute_result"
    }
   ],
   "source": [
    "Y_train.value_counts()"
   ]
  },
  {
   "cell_type": "code",
   "execution_count": 175,
   "metadata": {},
   "outputs": [],
   "source": [
    "df2 = X_train.copy()\n",
    "df2['Churn']= Y_train \n",
    "df3_class_0 = df2[df2.Churn == 0]\n",
    "df3_class_1 = df2[df2.Churn == 1]"
   ]
  },
  {
   "cell_type": "code",
   "execution_count": 176,
   "metadata": {},
   "outputs": [
    {
     "data": {
      "text/plain": [
       "((4130, 27), (1495, 27))"
      ]
     },
     "execution_count": 176,
     "metadata": {},
     "output_type": "execute_result"
    }
   ],
   "source": [
    "df3_class_0.shape,df3_class_1.shape"
   ]
  },
  {
   "cell_type": "code",
   "execution_count": 185,
   "metadata": {},
   "outputs": [],
   "source": [
    "def get_train_batch(df_majority,df_minority,start,end):\n",
    "    df_train= pd.concat([df_majority[start:end],df_minority],axis=0)\n",
    "    X_train = df_train.drop('Churn',axis='columns')\n",
    "    Y_train = df_train.Churn\n",
    "    return X_train,Y_train"
   ]
  },
  {
   "cell_type": "code",
   "execution_count": 187,
   "metadata": {},
   "outputs": [
    {
     "name": "stdout",
     "output_type": "stream",
     "text": [
      "Epoch 1/100\n",
      "94/94 [==============================] - 0s 2ms/step - loss: 0.6239 - accuracy: 0.6458\n",
      "Epoch 2/100\n",
      "94/94 [==============================] - 0s 2ms/step - loss: 0.5176 - accuracy: 0.7575\n",
      "Epoch 3/100\n",
      "94/94 [==============================] - 0s 2ms/step - loss: 0.4958 - accuracy: 0.7642\n",
      "Epoch 4/100\n",
      "94/94 [==============================] - 0s 2ms/step - loss: 0.4875 - accuracy: 0.7669\n",
      "Epoch 5/100\n",
      "94/94 [==============================] - 0s 2ms/step - loss: 0.4850 - accuracy: 0.7682\n",
      "Epoch 6/100\n",
      "94/94 [==============================] - 0s 2ms/step - loss: 0.4828 - accuracy: 0.7696\n",
      "Epoch 7/100\n",
      "94/94 [==============================] - 0s 2ms/step - loss: 0.4800 - accuracy: 0.7739\n",
      "Epoch 8/100\n",
      "94/94 [==============================] - 0s 2ms/step - loss: 0.4785 - accuracy: 0.7736\n",
      "Epoch 9/100\n",
      "94/94 [==============================] - 0s 2ms/step - loss: 0.4776 - accuracy: 0.7722\n",
      "Epoch 10/100\n",
      "94/94 [==============================] - 0s 2ms/step - loss: 0.4756 - accuracy: 0.7699\n",
      "Epoch 11/100\n",
      "94/94 [==============================] - 0s 2ms/step - loss: 0.4747 - accuracy: 0.7739\n",
      "Epoch 12/100\n",
      "94/94 [==============================] - 0s 2ms/step - loss: 0.4728 - accuracy: 0.7692\n",
      "Epoch 13/100\n",
      "94/94 [==============================] - 0s 2ms/step - loss: 0.4712 - accuracy: 0.7789\n",
      "Epoch 14/100\n",
      "94/94 [==============================] - 0s 2ms/step - loss: 0.4686 - accuracy: 0.7796\n",
      "Epoch 15/100\n",
      "94/94 [==============================] - 0s 2ms/step - loss: 0.4700 - accuracy: 0.7769\n",
      "Epoch 16/100\n",
      "94/94 [==============================] - 0s 2ms/step - loss: 0.4663 - accuracy: 0.7722\n",
      "Epoch 17/100\n",
      "94/94 [==============================] - 0s 2ms/step - loss: 0.4666 - accuracy: 0.7793\n",
      "Epoch 18/100\n",
      "94/94 [==============================] - 0s 2ms/step - loss: 0.4655 - accuracy: 0.7706\n",
      "Epoch 19/100\n",
      "94/94 [==============================] - 0s 2ms/step - loss: 0.4629 - accuracy: 0.7803\n",
      "Epoch 20/100\n",
      "94/94 [==============================] - 0s 2ms/step - loss: 0.4628 - accuracy: 0.7813\n",
      "Epoch 21/100\n",
      "94/94 [==============================] - 0s 2ms/step - loss: 0.4619 - accuracy: 0.7756\n",
      "Epoch 22/100\n",
      "94/94 [==============================] - 0s 2ms/step - loss: 0.4605 - accuracy: 0.7763\n",
      "Epoch 23/100\n",
      "94/94 [==============================] - 0s 2ms/step - loss: 0.4599 - accuracy: 0.7816\n",
      "Epoch 24/100\n",
      "94/94 [==============================] - 0s 2ms/step - loss: 0.4581 - accuracy: 0.7816\n",
      "Epoch 25/100\n",
      "94/94 [==============================] - 0s 2ms/step - loss: 0.4580 - accuracy: 0.7796\n",
      "Epoch 26/100\n",
      "94/94 [==============================] - 0s 3ms/step - loss: 0.4572 - accuracy: 0.7809\n",
      "Epoch 27/100\n",
      "94/94 [==============================] - 0s 3ms/step - loss: 0.4566 - accuracy: 0.7829\n",
      "Epoch 28/100\n",
      "94/94 [==============================] - 0s 2ms/step - loss: 0.4554 - accuracy: 0.7829\n",
      "Epoch 29/100\n",
      "94/94 [==============================] - 0s 2ms/step - loss: 0.4543 - accuracy: 0.7813\n",
      "Epoch 30/100\n",
      "94/94 [==============================] - 0s 1ms/step - loss: 0.4534 - accuracy: 0.7803\n",
      "Epoch 31/100\n",
      "94/94 [==============================] - 0s 2ms/step - loss: 0.4539 - accuracy: 0.7826\n",
      "Epoch 32/100\n",
      "94/94 [==============================] - 0s 2ms/step - loss: 0.4520 - accuracy: 0.7793\n",
      "Epoch 33/100\n",
      "94/94 [==============================] - 0s 2ms/step - loss: 0.4512 - accuracy: 0.7826\n",
      "Epoch 34/100\n",
      "94/94 [==============================] - 0s 2ms/step - loss: 0.4509 - accuracy: 0.7846\n",
      "Epoch 35/100\n",
      "94/94 [==============================] - 0s 2ms/step - loss: 0.4494 - accuracy: 0.7806\n",
      "Epoch 36/100\n",
      "94/94 [==============================] - 0s 2ms/step - loss: 0.4488 - accuracy: 0.7853\n",
      "Epoch 37/100\n",
      "94/94 [==============================] - 0s 3ms/step - loss: 0.4496 - accuracy: 0.7776\n",
      "Epoch 38/100\n",
      "94/94 [==============================] - 0s 2ms/step - loss: 0.4481 - accuracy: 0.7829\n",
      "Epoch 39/100\n",
      "94/94 [==============================] - 0s 2ms/step - loss: 0.4466 - accuracy: 0.7863\n",
      "Epoch 40/100\n",
      "94/94 [==============================] - 0s 2ms/step - loss: 0.4455 - accuracy: 0.7866\n",
      "Epoch 41/100\n",
      "94/94 [==============================] - 0s 2ms/step - loss: 0.4452 - accuracy: 0.7890\n",
      "Epoch 42/100\n",
      "94/94 [==============================] - 0s 2ms/step - loss: 0.4438 - accuracy: 0.7873\n",
      "Epoch 43/100\n",
      "94/94 [==============================] - 0s 2ms/step - loss: 0.4430 - accuracy: 0.7883\n",
      "Epoch 44/100\n",
      "94/94 [==============================] - 0s 2ms/step - loss: 0.4427 - accuracy: 0.7856\n",
      "Epoch 45/100\n",
      "94/94 [==============================] - 0s 2ms/step - loss: 0.4420 - accuracy: 0.7873\n",
      "Epoch 46/100\n",
      "94/94 [==============================] - 0s 2ms/step - loss: 0.4401 - accuracy: 0.7893\n",
      "Epoch 47/100\n",
      "94/94 [==============================] - 0s 3ms/step - loss: 0.4392 - accuracy: 0.7923\n",
      "Epoch 48/100\n",
      "94/94 [==============================] - 0s 2ms/step - loss: 0.4397 - accuracy: 0.7936\n",
      "Epoch 49/100\n",
      "94/94 [==============================] - 0s 2ms/step - loss: 0.4366 - accuracy: 0.7967\n",
      "Epoch 50/100\n",
      "94/94 [==============================] - 0s 2ms/step - loss: 0.4372 - accuracy: 0.7933\n",
      "Epoch 51/100\n",
      "94/94 [==============================] - 0s 3ms/step - loss: 0.4362 - accuracy: 0.7910\n",
      "Epoch 52/100\n",
      "94/94 [==============================] - 0s 2ms/step - loss: 0.4368 - accuracy: 0.7933\n",
      "Epoch 53/100\n",
      "94/94 [==============================] - 0s 2ms/step - loss: 0.4363 - accuracy: 0.7883\n",
      "Epoch 54/100\n",
      "94/94 [==============================] - 0s 2ms/step - loss: 0.4374 - accuracy: 0.7906\n",
      "Epoch 55/100\n",
      "94/94 [==============================] - 0s 3ms/step - loss: 0.4342 - accuracy: 0.7926\n",
      "Epoch 56/100\n",
      "94/94 [==============================] - 0s 3ms/step - loss: 0.4329 - accuracy: 0.7920\n",
      "Epoch 57/100\n",
      "94/94 [==============================] - 0s 2ms/step - loss: 0.4329 - accuracy: 0.7943\n",
      "Epoch 58/100\n",
      "94/94 [==============================] - 0s 2ms/step - loss: 0.4315 - accuracy: 0.7926\n",
      "Epoch 59/100\n",
      "94/94 [==============================] - 0s 3ms/step - loss: 0.4301 - accuracy: 0.7930\n",
      "Epoch 60/100\n",
      "94/94 [==============================] - 0s 3ms/step - loss: 0.4304 - accuracy: 0.7957\n",
      "Epoch 61/100\n",
      "94/94 [==============================] - 0s 3ms/step - loss: 0.4279 - accuracy: 0.7977\n",
      "Epoch 62/100\n",
      "94/94 [==============================] - 0s 3ms/step - loss: 0.4281 - accuracy: 0.7953\n",
      "Epoch 63/100\n",
      "94/94 [==============================] - 0s 3ms/step - loss: 0.4265 - accuracy: 0.7977\n",
      "Epoch 64/100\n",
      "94/94 [==============================] - 0s 3ms/step - loss: 0.4262 - accuracy: 0.7993\n",
      "Epoch 65/100\n",
      "94/94 [==============================] - 0s 3ms/step - loss: 0.4275 - accuracy: 0.7980\n",
      "Epoch 66/100\n",
      "94/94 [==============================] - 0s 2ms/step - loss: 0.4237 - accuracy: 0.7970\n",
      "Epoch 67/100\n",
      "94/94 [==============================] - 0s 2ms/step - loss: 0.4248 - accuracy: 0.8000\n",
      "Epoch 68/100\n",
      "94/94 [==============================] - 0s 2ms/step - loss: 0.4245 - accuracy: 0.7997\n",
      "Epoch 69/100\n",
      "94/94 [==============================] - 0s 2ms/step - loss: 0.4240 - accuracy: 0.8013\n",
      "Epoch 70/100\n",
      "94/94 [==============================] - 0s 2ms/step - loss: 0.4230 - accuracy: 0.8000\n",
      "Epoch 71/100\n",
      "94/94 [==============================] - 0s 3ms/step - loss: 0.4218 - accuracy: 0.8010\n",
      "Epoch 72/100\n",
      "94/94 [==============================] - 0s 3ms/step - loss: 0.4209 - accuracy: 0.8010\n",
      "Epoch 73/100\n",
      "94/94 [==============================] - 0s 2ms/step - loss: 0.4190 - accuracy: 0.8020\n",
      "Epoch 74/100\n",
      "94/94 [==============================] - 0s 2ms/step - loss: 0.4194 - accuracy: 0.8020\n",
      "Epoch 75/100\n",
      "94/94 [==============================] - 0s 2ms/step - loss: 0.4193 - accuracy: 0.7960\n",
      "Epoch 76/100\n",
      "94/94 [==============================] - 0s 3ms/step - loss: 0.4171 - accuracy: 0.8023\n",
      "Epoch 77/100\n",
      "94/94 [==============================] - 0s 2ms/step - loss: 0.4187 - accuracy: 0.8010\n",
      "Epoch 78/100\n",
      "94/94 [==============================] - 0s 2ms/step - loss: 0.4162 - accuracy: 0.8000\n",
      "Epoch 79/100\n",
      "94/94 [==============================] - 0s 3ms/step - loss: 0.4175 - accuracy: 0.8033\n",
      "Epoch 80/100\n",
      "94/94 [==============================] - 0s 2ms/step - loss: 0.4163 - accuracy: 0.8057\n",
      "Epoch 81/100\n",
      "94/94 [==============================] - 0s 3ms/step - loss: 0.4156 - accuracy: 0.8054\n",
      "Epoch 82/100\n",
      "94/94 [==============================] - 0s 3ms/step - loss: 0.4139 - accuracy: 0.8087\n",
      "Epoch 83/100\n"
     ]
    },
    {
     "name": "stdout",
     "output_type": "stream",
     "text": [
      "94/94 [==============================] - 0s 2ms/step - loss: 0.4137 - accuracy: 0.8064\n",
      "Epoch 84/100\n",
      "94/94 [==============================] - 0s 2ms/step - loss: 0.4123 - accuracy: 0.8114: 0s - loss: 0.4052 - accuracy: 0.\n",
      "Epoch 85/100\n",
      "94/94 [==============================] - 0s 2ms/step - loss: 0.4126 - accuracy: 0.8104\n",
      "Epoch 86/100\n",
      "94/94 [==============================] - 0s 2ms/step - loss: 0.4123 - accuracy: 0.8077\n",
      "Epoch 87/100\n",
      "94/94 [==============================] - 0s 2ms/step - loss: 0.4101 - accuracy: 0.8070\n",
      "Epoch 88/100\n",
      "94/94 [==============================] - 0s 2ms/step - loss: 0.4106 - accuracy: 0.8084\n",
      "Epoch 89/100\n",
      "94/94 [==============================] - 0s 2ms/step - loss: 0.4098 - accuracy: 0.8074\n",
      "Epoch 90/100\n",
      "94/94 [==============================] - 0s 2ms/step - loss: 0.4105 - accuracy: 0.8084\n",
      "Epoch 91/100\n",
      "94/94 [==============================] - 0s 2ms/step - loss: 0.4092 - accuracy: 0.8087\n",
      "Epoch 92/100\n",
      "94/94 [==============================] - 0s 2ms/step - loss: 0.4089 - accuracy: 0.8107\n",
      "Epoch 93/100\n",
      "94/94 [==============================] - 0s 2ms/step - loss: 0.4063 - accuracy: 0.8127\n",
      "Epoch 94/100\n",
      "94/94 [==============================] - 0s 2ms/step - loss: 0.4088 - accuracy: 0.8087\n",
      "Epoch 95/100\n",
      "94/94 [==============================] - 0s 3ms/step - loss: 0.4060 - accuracy: 0.8114\n",
      "Epoch 96/100\n",
      "94/94 [==============================] - 0s 2ms/step - loss: 0.4051 - accuracy: 0.8154\n",
      "Epoch 97/100\n",
      "94/94 [==============================] - 0s 2ms/step - loss: 0.4054 - accuracy: 0.8144\n",
      "Epoch 98/100\n",
      "94/94 [==============================] - 0s 2ms/step - loss: 0.4043 - accuracy: 0.8164\n",
      "Epoch 99/100\n",
      "94/94 [==============================] - 0s 2ms/step - loss: 0.4040 - accuracy: 0.8191\n",
      "Epoch 100/100\n",
      "94/94 [==============================] - 0s 2ms/step - loss: 0.4035 - accuracy: 0.8177\n",
      "Classification Report is :               precision    recall  f1-score   support\n",
      "\n",
      "           0       0.89      0.71      0.79      1033\n",
      "           1       0.49      0.76      0.59       374\n",
      "\n",
      "    accuracy                           0.72      1407\n",
      "   macro avg       0.69      0.73      0.69      1407\n",
      "weighted avg       0.78      0.72      0.74      1407\n",
      "\n"
     ]
    }
   ],
   "source": [
    "X_train,Y_train = get_train_batch(df3_class_0,df3_class_1,0,1495)\n",
    "y_preds1 = ANN(X_train,X_test,Y_train,Y_test,'binary_crossentropy',weight=-1)"
   ]
  },
  {
   "cell_type": "code",
   "execution_count": 190,
   "metadata": {},
   "outputs": [
    {
     "name": "stdout",
     "output_type": "stream",
     "text": [
      "Epoch 1/100\n",
      "94/94 [==============================] - 0s 2ms/step - loss: 0.5766 - accuracy: 0.7274\n",
      "Epoch 2/100\n",
      "94/94 [==============================] - 0s 2ms/step - loss: 0.5046 - accuracy: 0.7565\n",
      "Epoch 3/100\n",
      "94/94 [==============================] - 0s 2ms/step - loss: 0.4949 - accuracy: 0.7639\n",
      "Epoch 4/100\n",
      "94/94 [==============================] - 0s 2ms/step - loss: 0.4882 - accuracy: 0.7639\n",
      "Epoch 5/100\n",
      "94/94 [==============================] - 0s 2ms/step - loss: 0.4835 - accuracy: 0.7662\n",
      "Epoch 6/100\n",
      "94/94 [==============================] - 0s 2ms/step - loss: 0.4809 - accuracy: 0.7659\n",
      "Epoch 7/100\n",
      "94/94 [==============================] - 0s 3ms/step - loss: 0.4780 - accuracy: 0.7669\n",
      "Epoch 8/100\n",
      "94/94 [==============================] - 0s 2ms/step - loss: 0.4759 - accuracy: 0.7689\n",
      "Epoch 9/100\n",
      "94/94 [==============================] - 0s 2ms/step - loss: 0.4737 - accuracy: 0.7666\n",
      "Epoch 10/100\n",
      "94/94 [==============================] - 0s 2ms/step - loss: 0.4718 - accuracy: 0.7699\n",
      "Epoch 11/100\n",
      "94/94 [==============================] - 0s 2ms/step - loss: 0.4670 - accuracy: 0.7746\n",
      "Epoch 12/100\n",
      "94/94 [==============================] - 0s 3ms/step - loss: 0.4675 - accuracy: 0.7753\n",
      "Epoch 13/100\n",
      "94/94 [==============================] - 0s 2ms/step - loss: 0.4647 - accuracy: 0.7726\n",
      "Epoch 14/100\n",
      "94/94 [==============================] - 0s 2ms/step - loss: 0.4630 - accuracy: 0.7732\n",
      "Epoch 15/100\n",
      "94/94 [==============================] - 0s 2ms/step - loss: 0.4589 - accuracy: 0.7776\n",
      "Epoch 16/100\n",
      "94/94 [==============================] - 0s 2ms/step - loss: 0.4593 - accuracy: 0.7746\n",
      "Epoch 17/100\n",
      "94/94 [==============================] - 0s 2ms/step - loss: 0.4577 - accuracy: 0.7766\n",
      "Epoch 18/100\n",
      "94/94 [==============================] - 0s 2ms/step - loss: 0.4548 - accuracy: 0.7722\n",
      "Epoch 19/100\n",
      "94/94 [==============================] - 0s 2ms/step - loss: 0.4538 - accuracy: 0.7773: 0s - loss: 0.4554 - accuracy: 0.77\n",
      "Epoch 20/100\n",
      "94/94 [==============================] - 0s 2ms/step - loss: 0.4518 - accuracy: 0.7776\n",
      "Epoch 21/100\n",
      "94/94 [==============================] - 0s 3ms/step - loss: 0.4493 - accuracy: 0.7866\n",
      "Epoch 22/100\n",
      "94/94 [==============================] - 0s 2ms/step - loss: 0.4495 - accuracy: 0.7789\n",
      "Epoch 23/100\n",
      "94/94 [==============================] - 0s 2ms/step - loss: 0.4463 - accuracy: 0.7843\n",
      "Epoch 24/100\n",
      "94/94 [==============================] - 0s 2ms/step - loss: 0.4452 - accuracy: 0.7856\n",
      "Epoch 25/100\n",
      "94/94 [==============================] - 0s 2ms/step - loss: 0.4453 - accuracy: 0.7819\n",
      "Epoch 26/100\n",
      "94/94 [==============================] - 0s 3ms/step - loss: 0.4433 - accuracy: 0.7843\n",
      "Epoch 27/100\n",
      "94/94 [==============================] - 0s 2ms/step - loss: 0.4409 - accuracy: 0.7890\n",
      "Epoch 28/100\n",
      "94/94 [==============================] - 0s 2ms/step - loss: 0.4398 - accuracy: 0.7873\n",
      "Epoch 29/100\n",
      "94/94 [==============================] - 0s 2ms/step - loss: 0.4376 - accuracy: 0.7863\n",
      "Epoch 30/100\n",
      "94/94 [==============================] - 0s 2ms/step - loss: 0.4368 - accuracy: 0.7916\n",
      "Epoch 31/100\n",
      "94/94 [==============================] - 0s 2ms/step - loss: 0.4362 - accuracy: 0.7900\n",
      "Epoch 32/100\n",
      "94/94 [==============================] - 0s 2ms/step - loss: 0.4339 - accuracy: 0.7936\n",
      "Epoch 33/100\n",
      "94/94 [==============================] - 0s 2ms/step - loss: 0.4315 - accuracy: 0.7980\n",
      "Epoch 34/100\n",
      "94/94 [==============================] - 0s 2ms/step - loss: 0.4307 - accuracy: 0.7990\n",
      "Epoch 35/100\n",
      "94/94 [==============================] - 0s 2ms/step - loss: 0.4306 - accuracy: 0.7970\n",
      "Epoch 36/100\n",
      "94/94 [==============================] - 0s 2ms/step - loss: 0.4304 - accuracy: 0.7960\n",
      "Epoch 37/100\n",
      "94/94 [==============================] - 0s 2ms/step - loss: 0.4283 - accuracy: 0.7987\n",
      "Epoch 38/100\n",
      "94/94 [==============================] - 0s 2ms/step - loss: 0.4267 - accuracy: 0.7967\n",
      "Epoch 39/100\n",
      "94/94 [==============================] - 0s 3ms/step - loss: 0.4245 - accuracy: 0.7997: 0s - loss: 0.4141 - accuracy: 0.\n",
      "Epoch 40/100\n",
      "94/94 [==============================] - 0s 3ms/step - loss: 0.4233 - accuracy: 0.8047\n",
      "Epoch 41/100\n",
      "94/94 [==============================] - 0s 2ms/step - loss: 0.4234 - accuracy: 0.8027\n",
      "Epoch 42/100\n",
      "94/94 [==============================] - 0s 3ms/step - loss: 0.4233 - accuracy: 0.8020\n",
      "Epoch 43/100\n",
      "94/94 [==============================] - 0s 3ms/step - loss: 0.4205 - accuracy: 0.8013\n",
      "Epoch 44/100\n",
      "94/94 [==============================] - 0s 2ms/step - loss: 0.4196 - accuracy: 0.8017\n",
      "Epoch 45/100\n",
      "94/94 [==============================] - 0s 2ms/step - loss: 0.4178 - accuracy: 0.8007\n",
      "Epoch 46/100\n",
      "94/94 [==============================] - 0s 2ms/step - loss: 0.4163 - accuracy: 0.8074\n",
      "Epoch 47/100\n",
      "94/94 [==============================] - 0s 2ms/step - loss: 0.4147 - accuracy: 0.8070\n",
      "Epoch 48/100\n",
      "94/94 [==============================] - 0s 2ms/step - loss: 0.4157 - accuracy: 0.8047\n",
      "Epoch 49/100\n",
      "94/94 [==============================] - 0s 2ms/step - loss: 0.4129 - accuracy: 0.8047\n",
      "Epoch 50/100\n",
      "94/94 [==============================] - 0s 2ms/step - loss: 0.4122 - accuracy: 0.8090\n",
      "Epoch 51/100\n",
      "94/94 [==============================] - 0s 2ms/step - loss: 0.4112 - accuracy: 0.8067\n",
      "Epoch 52/100\n",
      "94/94 [==============================] - 0s 3ms/step - loss: 0.4094 - accuracy: 0.8097\n",
      "Epoch 53/100\n",
      "94/94 [==============================] - 0s 2ms/step - loss: 0.4102 - accuracy: 0.8077\n",
      "Epoch 54/100\n",
      "94/94 [==============================] - 0s 2ms/step - loss: 0.4089 - accuracy: 0.8047\n",
      "Epoch 55/100\n",
      "94/94 [==============================] - 0s 2ms/step - loss: 0.4060 - accuracy: 0.8117\n",
      "Epoch 56/100\n",
      "94/94 [==============================] - 0s 2ms/step - loss: 0.4056 - accuracy: 0.8090\n",
      "Epoch 57/100\n",
      "94/94 [==============================] - 0s 2ms/step - loss: 0.4059 - accuracy: 0.8074\n",
      "Epoch 58/100\n",
      "94/94 [==============================] - 0s 2ms/step - loss: 0.4036 - accuracy: 0.8077\n",
      "Epoch 59/100\n",
      "94/94 [==============================] - 0s 3ms/step - loss: 0.4014 - accuracy: 0.8114\n",
      "Epoch 60/100\n",
      "94/94 [==============================] - 0s 2ms/step - loss: 0.4011 - accuracy: 0.8127\n",
      "Epoch 61/100\n",
      "94/94 [==============================] - 0s 2ms/step - loss: 0.3998 - accuracy: 0.8134\n",
      "Epoch 62/100\n",
      "94/94 [==============================] - 0s 2ms/step - loss: 0.3993 - accuracy: 0.8147\n",
      "Epoch 63/100\n",
      "94/94 [==============================] - 0s 2ms/step - loss: 0.3986 - accuracy: 0.8124\n",
      "Epoch 64/100\n",
      "94/94 [==============================] - 0s 2ms/step - loss: 0.3960 - accuracy: 0.8130\n",
      "Epoch 65/100\n",
      "94/94 [==============================] - 0s 2ms/step - loss: 0.3941 - accuracy: 0.8157\n",
      "Epoch 66/100\n",
      "94/94 [==============================] - 0s 3ms/step - loss: 0.3942 - accuracy: 0.8177: 0s - loss: 0.3790 - accuracy\n",
      "Epoch 67/100\n",
      "94/94 [==============================] - 0s 2ms/step - loss: 0.3920 - accuracy: 0.8204\n",
      "Epoch 68/100\n",
      "94/94 [==============================] - 0s 2ms/step - loss: 0.3923 - accuracy: 0.8161\n",
      "Epoch 69/100\n",
      "94/94 [==============================] - 0s 2ms/step - loss: 0.3949 - accuracy: 0.8174\n",
      "Epoch 70/100\n",
      "94/94 [==============================] - 0s 2ms/step - loss: 0.3906 - accuracy: 0.8194\n",
      "Epoch 71/100\n",
      "94/94 [==============================] - 0s 1ms/step - loss: 0.3894 - accuracy: 0.8157\n",
      "Epoch 72/100\n",
      "94/94 [==============================] - 0s 2ms/step - loss: 0.3882 - accuracy: 0.8147\n",
      "Epoch 73/100\n",
      "94/94 [==============================] - 0s 2ms/step - loss: 0.3883 - accuracy: 0.8197\n",
      "Epoch 74/100\n",
      "94/94 [==============================] - 0s 2ms/step - loss: 0.3867 - accuracy: 0.8177\n",
      "Epoch 75/100\n",
      "94/94 [==============================] - 0s 2ms/step - loss: 0.3855 - accuracy: 0.8201\n",
      "Epoch 76/100\n",
      "94/94 [==============================] - 0s 3ms/step - loss: 0.3869 - accuracy: 0.8184\n",
      "Epoch 77/100\n",
      "94/94 [==============================] - 0s 2ms/step - loss: 0.3847 - accuracy: 0.8154\n",
      "Epoch 78/100\n",
      "94/94 [==============================] - 0s 2ms/step - loss: 0.3837 - accuracy: 0.8197\n",
      "Epoch 79/100\n",
      "94/94 [==============================] - 0s 3ms/step - loss: 0.3821 - accuracy: 0.8181\n",
      "Epoch 80/100\n",
      "94/94 [==============================] - 0s 3ms/step - loss: 0.3805 - accuracy: 0.8241\n",
      "Epoch 81/100\n",
      "94/94 [==============================] - 0s 2ms/step - loss: 0.3793 - accuracy: 0.8224\n",
      "Epoch 82/100\n"
     ]
    },
    {
     "name": "stdout",
     "output_type": "stream",
     "text": [
      "94/94 [==============================] - 0s 2ms/step - loss: 0.3785 - accuracy: 0.8191\n",
      "Epoch 83/100\n",
      "94/94 [==============================] - 0s 2ms/step - loss: 0.3771 - accuracy: 0.8231\n",
      "Epoch 84/100\n",
      "94/94 [==============================] - 0s 2ms/step - loss: 0.3787 - accuracy: 0.8241\n",
      "Epoch 85/100\n",
      "94/94 [==============================] - 0s 2ms/step - loss: 0.3787 - accuracy: 0.8288\n",
      "Epoch 86/100\n",
      "94/94 [==============================] - 0s 2ms/step - loss: 0.3787 - accuracy: 0.8204\n",
      "Epoch 87/100\n",
      "94/94 [==============================] - 0s 2ms/step - loss: 0.3757 - accuracy: 0.8294\n",
      "Epoch 88/100\n",
      "94/94 [==============================] - 0s 2ms/step - loss: 0.3747 - accuracy: 0.8261\n",
      "Epoch 89/100\n",
      "94/94 [==============================] - 0s 3ms/step - loss: 0.3725 - accuracy: 0.8298\n",
      "Epoch 90/100\n",
      "94/94 [==============================] - 0s 2ms/step - loss: 0.3708 - accuracy: 0.8247\n",
      "Epoch 91/100\n",
      "94/94 [==============================] - 0s 2ms/step - loss: 0.3693 - accuracy: 0.8304\n",
      "Epoch 92/100\n",
      "94/94 [==============================] - 0s 3ms/step - loss: 0.3712 - accuracy: 0.8274\n",
      "Epoch 93/100\n",
      "94/94 [==============================] - 0s 3ms/step - loss: 0.3687 - accuracy: 0.8294\n",
      "Epoch 94/100\n",
      "94/94 [==============================] - 0s 2ms/step - loss: 0.3706 - accuracy: 0.8308\n",
      "Epoch 95/100\n",
      "94/94 [==============================] - 0s 2ms/step - loss: 0.3694 - accuracy: 0.8298\n",
      "Epoch 96/100\n",
      "94/94 [==============================] - 0s 2ms/step - loss: 0.3686 - accuracy: 0.8247\n",
      "Epoch 97/100\n",
      "94/94 [==============================] - 0s 2ms/step - loss: 0.3655 - accuracy: 0.8314\n",
      "Epoch 98/100\n",
      "94/94 [==============================] - 0s 3ms/step - loss: 0.3666 - accuracy: 0.8294\n",
      "Epoch 99/100\n",
      "94/94 [==============================] - 0s 2ms/step - loss: 0.3659 - accuracy: 0.8278\n",
      "Epoch 100/100\n",
      "94/94 [==============================] - 0s 2ms/step - loss: 0.3638 - accuracy: 0.8318\n",
      "Classification Report is :               precision    recall  f1-score   support\n",
      "\n",
      "           0       0.88      0.70      0.78      1033\n",
      "           1       0.47      0.75      0.58       374\n",
      "\n",
      "    accuracy                           0.71      1407\n",
      "   macro avg       0.68      0.72      0.68      1407\n",
      "weighted avg       0.77      0.71      0.73      1407\n",
      "\n"
     ]
    }
   ],
   "source": [
    "X_train,Y_train = get_train_batch(df3_class_0,df3_class_1,1495,2990)\n",
    "y_preds2 = ANN(X_train,X_test,Y_train,Y_test,'binary_crossentropy',weight=-1)"
   ]
  },
  {
   "cell_type": "code",
   "execution_count": 191,
   "metadata": {},
   "outputs": [
    {
     "name": "stdout",
     "output_type": "stream",
     "text": [
      "Epoch 1/100\n",
      "83/83 [==============================] - 0s 2ms/step - loss: 0.6426 - accuracy: 0.6406\n",
      "Epoch 2/100\n",
      "83/83 [==============================] - 0s 2ms/step - loss: 0.5230 - accuracy: 0.7552\n",
      "Epoch 3/100\n",
      "83/83 [==============================] - 0s 2ms/step - loss: 0.4945 - accuracy: 0.7700\n",
      "Epoch 4/100\n",
      "83/83 [==============================] - 0s 2ms/step - loss: 0.4835 - accuracy: 0.7681: 0s - loss: 0.4860 - accuracy: 0.76\n",
      "Epoch 5/100\n",
      "83/83 [==============================] - 0s 2ms/step - loss: 0.4776 - accuracy: 0.7708\n",
      "Epoch 6/100\n",
      "83/83 [==============================] - 0s 2ms/step - loss: 0.4735 - accuracy: 0.7791\n",
      "Epoch 7/100\n",
      "83/83 [==============================] - 0s 2ms/step - loss: 0.4712 - accuracy: 0.7772\n",
      "Epoch 8/100\n",
      "83/83 [==============================] - 0s 3ms/step - loss: 0.4688 - accuracy: 0.7837\n",
      "Epoch 9/100\n",
      "83/83 [==============================] - 0s 2ms/step - loss: 0.4674 - accuracy: 0.7806\n",
      "Epoch 10/100\n",
      "83/83 [==============================] - 0s 3ms/step - loss: 0.4651 - accuracy: 0.7860\n",
      "Epoch 11/100\n",
      "83/83 [==============================] - 0s 2ms/step - loss: 0.4630 - accuracy: 0.7882\n",
      "Epoch 12/100\n",
      "83/83 [==============================] - 0s 2ms/step - loss: 0.4604 - accuracy: 0.7882\n",
      "Epoch 13/100\n",
      "83/83 [==============================] - 0s 2ms/step - loss: 0.4582 - accuracy: 0.7924\n",
      "Epoch 14/100\n",
      "83/83 [==============================] - 0s 2ms/step - loss: 0.4567 - accuracy: 0.7909\n",
      "Epoch 15/100\n",
      "83/83 [==============================] - 0s 2ms/step - loss: 0.4556 - accuracy: 0.7935\n",
      "Epoch 16/100\n",
      "83/83 [==============================] - 0s 2ms/step - loss: 0.4540 - accuracy: 0.7917\n",
      "Epoch 17/100\n",
      "83/83 [==============================] - 0s 2ms/step - loss: 0.4540 - accuracy: 0.7920\n",
      "Epoch 18/100\n",
      "83/83 [==============================] - 0s 2ms/step - loss: 0.4521 - accuracy: 0.7935\n",
      "Epoch 19/100\n",
      "83/83 [==============================] - 0s 2ms/step - loss: 0.4508 - accuracy: 0.7947\n",
      "Epoch 20/100\n",
      "83/83 [==============================] - 0s 2ms/step - loss: 0.4474 - accuracy: 0.7966\n",
      "Epoch 21/100\n",
      "83/83 [==============================] - 0s 2ms/step - loss: 0.4477 - accuracy: 0.7928\n",
      "Epoch 22/100\n",
      "83/83 [==============================] - 0s 3ms/step - loss: 0.4465 - accuracy: 0.7966\n",
      "Epoch 23/100\n",
      "83/83 [==============================] - 0s 2ms/step - loss: 0.4456 - accuracy: 0.7935\n",
      "Epoch 24/100\n",
      "83/83 [==============================] - 0s 2ms/step - loss: 0.4456 - accuracy: 0.7928\n",
      "Epoch 25/100\n",
      "83/83 [==============================] - 0s 2ms/step - loss: 0.4417 - accuracy: 0.7962\n",
      "Epoch 26/100\n",
      "83/83 [==============================] - 0s 2ms/step - loss: 0.4415 - accuracy: 0.7996\n",
      "Epoch 27/100\n",
      "83/83 [==============================] - 0s 3ms/step - loss: 0.4398 - accuracy: 0.7966\n",
      "Epoch 28/100\n",
      "83/83 [==============================] - 0s 2ms/step - loss: 0.4390 - accuracy: 0.8011\n",
      "Epoch 29/100\n",
      "83/83 [==============================] - 0s 2ms/step - loss: 0.4378 - accuracy: 0.8008\n",
      "Epoch 30/100\n",
      "83/83 [==============================] - 0s 2ms/step - loss: 0.4355 - accuracy: 0.7981\n",
      "Epoch 31/100\n",
      "83/83 [==============================] - 0s 2ms/step - loss: 0.4342 - accuracy: 0.8038\n",
      "Epoch 32/100\n",
      "83/83 [==============================] - 0s 2ms/step - loss: 0.4344 - accuracy: 0.8019\n",
      "Epoch 33/100\n",
      "83/83 [==============================] - 0s 2ms/step - loss: 0.4338 - accuracy: 0.8019\n",
      "Epoch 34/100\n",
      "83/83 [==============================] - 0s 3ms/step - loss: 0.4321 - accuracy: 0.8087\n",
      "Epoch 35/100\n",
      "83/83 [==============================] - 0s 2ms/step - loss: 0.4322 - accuracy: 0.7985\n",
      "Epoch 36/100\n",
      "83/83 [==============================] - 0s 2ms/step - loss: 0.4304 - accuracy: 0.8042\n",
      "Epoch 37/100\n",
      "83/83 [==============================] - 0s 3ms/step - loss: 0.4285 - accuracy: 0.8038\n",
      "Epoch 38/100\n",
      "83/83 [==============================] - 0s 2ms/step - loss: 0.4271 - accuracy: 0.8042\n",
      "Epoch 39/100\n",
      "83/83 [==============================] - 0s 2ms/step - loss: 0.4261 - accuracy: 0.8102\n",
      "Epoch 40/100\n",
      "83/83 [==============================] - 0s 2ms/step - loss: 0.4254 - accuracy: 0.8102\n",
      "Epoch 41/100\n",
      "83/83 [==============================] - 0s 2ms/step - loss: 0.4245 - accuracy: 0.8099\n",
      "Epoch 42/100\n",
      "83/83 [==============================] - 0s 2ms/step - loss: 0.4236 - accuracy: 0.8118\n",
      "Epoch 43/100\n",
      "83/83 [==============================] - 0s 2ms/step - loss: 0.4228 - accuracy: 0.8129\n",
      "Epoch 44/100\n",
      "83/83 [==============================] - 0s 3ms/step - loss: 0.4221 - accuracy: 0.8095\n",
      "Epoch 45/100\n",
      "83/83 [==============================] - 0s 2ms/step - loss: 0.4226 - accuracy: 0.8106\n",
      "Epoch 46/100\n",
      "83/83 [==============================] - 0s 2ms/step - loss: 0.4207 - accuracy: 0.8083\n",
      "Epoch 47/100\n",
      "83/83 [==============================] - 0s 2ms/step - loss: 0.4193 - accuracy: 0.8099\n",
      "Epoch 48/100\n",
      "83/83 [==============================] - 0s 2ms/step - loss: 0.4184 - accuracy: 0.8171\n",
      "Epoch 49/100\n",
      "83/83 [==============================] - 0s 2ms/step - loss: 0.4169 - accuracy: 0.8129\n",
      "Epoch 50/100\n",
      "83/83 [==============================] - 0s 2ms/step - loss: 0.4170 - accuracy: 0.8118\n",
      "Epoch 51/100\n",
      "83/83 [==============================] - 0s 2ms/step - loss: 0.4166 - accuracy: 0.8216\n",
      "Epoch 52/100\n",
      "83/83 [==============================] - 0s 2ms/step - loss: 0.4139 - accuracy: 0.8129\n",
      "Epoch 53/100\n",
      "83/83 [==============================] - 0s 2ms/step - loss: 0.4141 - accuracy: 0.8152\n",
      "Epoch 54/100\n",
      "83/83 [==============================] - 0s 4ms/step - loss: 0.4131 - accuracy: 0.8231\n",
      "Epoch 55/100\n",
      "83/83 [==============================] - 0s 3ms/step - loss: 0.4106 - accuracy: 0.8231\n",
      "Epoch 56/100\n",
      "83/83 [==============================] - 0s 3ms/step - loss: 0.4102 - accuracy: 0.8178\n",
      "Epoch 57/100\n",
      "83/83 [==============================] - 0s 2ms/step - loss: 0.4107 - accuracy: 0.8156\n",
      "Epoch 58/100\n",
      "83/83 [==============================] - 0s 2ms/step - loss: 0.4085 - accuracy: 0.8194\n",
      "Epoch 59/100\n",
      "83/83 [==============================] - 0s 2ms/step - loss: 0.4066 - accuracy: 0.8201\n",
      "Epoch 60/100\n",
      "83/83 [==============================] - 0s 2ms/step - loss: 0.4070 - accuracy: 0.8178\n",
      "Epoch 61/100\n",
      "83/83 [==============================] - 0s 2ms/step - loss: 0.4059 - accuracy: 0.8190\n",
      "Epoch 62/100\n",
      "83/83 [==============================] - 0s 2ms/step - loss: 0.4054 - accuracy: 0.8235\n",
      "Epoch 63/100\n",
      "83/83 [==============================] - 0s 2ms/step - loss: 0.4044 - accuracy: 0.8182\n",
      "Epoch 64/100\n",
      "83/83 [==============================] - 0s 2ms/step - loss: 0.4037 - accuracy: 0.8171\n",
      "Epoch 65/100\n",
      "83/83 [==============================] - 0s 2ms/step - loss: 0.4052 - accuracy: 0.8247\n",
      "Epoch 66/100\n",
      "83/83 [==============================] - 0s 2ms/step - loss: 0.4012 - accuracy: 0.8209\n",
      "Epoch 67/100\n",
      "83/83 [==============================] - 0s 2ms/step - loss: 0.4000 - accuracy: 0.8258\n",
      "Epoch 68/100\n",
      "83/83 [==============================] - 0s 2ms/step - loss: 0.3989 - accuracy: 0.8243\n",
      "Epoch 69/100\n",
      "83/83 [==============================] - 0s 2ms/step - loss: 0.3976 - accuracy: 0.8228\n",
      "Epoch 70/100\n",
      "83/83 [==============================] - 0s 2ms/step - loss: 0.3968 - accuracy: 0.8262\n",
      "Epoch 71/100\n",
      "83/83 [==============================] - 0s 2ms/step - loss: 0.3955 - accuracy: 0.8239\n",
      "Epoch 72/100\n",
      "83/83 [==============================] - 0s 2ms/step - loss: 0.3933 - accuracy: 0.8285\n",
      "Epoch 73/100\n",
      "83/83 [==============================] - 0s 2ms/step - loss: 0.3942 - accuracy: 0.8254\n",
      "Epoch 74/100\n",
      "83/83 [==============================] - 0s 2ms/step - loss: 0.3933 - accuracy: 0.8250\n",
      "Epoch 75/100\n",
      "83/83 [==============================] - 0s 2ms/step - loss: 0.3917 - accuracy: 0.8262\n",
      "Epoch 76/100\n",
      "83/83 [==============================] - 0s 2ms/step - loss: 0.3908 - accuracy: 0.8277\n",
      "Epoch 77/100\n",
      "83/83 [==============================] - 0s 2ms/step - loss: 0.3877 - accuracy: 0.8338\n",
      "Epoch 78/100\n",
      "83/83 [==============================] - 0s 3ms/step - loss: 0.3915 - accuracy: 0.8296\n",
      "Epoch 79/100\n",
      "83/83 [==============================] - 0s 2ms/step - loss: 0.3860 - accuracy: 0.8258\n",
      "Epoch 80/100\n",
      "83/83 [==============================] - 0s 2ms/step - loss: 0.3880 - accuracy: 0.8323\n",
      "Epoch 81/100\n",
      "83/83 [==============================] - 0s 2ms/step - loss: 0.3862 - accuracy: 0.8330\n",
      "Epoch 82/100\n"
     ]
    },
    {
     "name": "stdout",
     "output_type": "stream",
     "text": [
      "83/83 [==============================] - 0s 2ms/step - loss: 0.3865 - accuracy: 0.8326\n",
      "Epoch 83/100\n",
      "83/83 [==============================] - 0s 2ms/step - loss: 0.3836 - accuracy: 0.8345\n",
      "Epoch 84/100\n",
      "83/83 [==============================] - 0s 2ms/step - loss: 0.3816 - accuracy: 0.8345\n",
      "Epoch 85/100\n",
      "83/83 [==============================] - 0s 2ms/step - loss: 0.3804 - accuracy: 0.8345\n",
      "Epoch 86/100\n",
      "83/83 [==============================] - 0s 2ms/step - loss: 0.3808 - accuracy: 0.8334\n",
      "Epoch 87/100\n",
      "83/83 [==============================] - 0s 2ms/step - loss: 0.3798 - accuracy: 0.8345\n",
      "Epoch 88/100\n",
      "83/83 [==============================] - 0s 2ms/step - loss: 0.3768 - accuracy: 0.8349\n",
      "Epoch 89/100\n",
      "83/83 [==============================] - 0s 2ms/step - loss: 0.3776 - accuracy: 0.8349\n",
      "Epoch 90/100\n",
      "83/83 [==============================] - 0s 3ms/step - loss: 0.3770 - accuracy: 0.8338\n",
      "Epoch 91/100\n",
      "83/83 [==============================] - 0s 2ms/step - loss: 0.3768 - accuracy: 0.8323\n",
      "Epoch 92/100\n",
      "83/83 [==============================] - 0s 2ms/step - loss: 0.3758 - accuracy: 0.8338\n",
      "Epoch 93/100\n",
      "83/83 [==============================] - 0s 2ms/step - loss: 0.3747 - accuracy: 0.8353\n",
      "Epoch 94/100\n",
      "83/83 [==============================] - 0s 2ms/step - loss: 0.3747 - accuracy: 0.8326\n",
      "Epoch 95/100\n",
      "83/83 [==============================] - 0s 2ms/step - loss: 0.3725 - accuracy: 0.8342\n",
      "Epoch 96/100\n",
      "83/83 [==============================] - 0s 2ms/step - loss: 0.3736 - accuracy: 0.8376\n",
      "Epoch 97/100\n",
      "83/83 [==============================] - 0s 2ms/step - loss: 0.3718 - accuracy: 0.8364\n",
      "Epoch 98/100\n",
      "83/83 [==============================] - 0s 2ms/step - loss: 0.3744 - accuracy: 0.8330\n",
      "Epoch 99/100\n",
      "83/83 [==============================] - 0s 2ms/step - loss: 0.3671 - accuracy: 0.8391\n",
      "Epoch 100/100\n",
      "83/83 [==============================] - 0s 2ms/step - loss: 0.3672 - accuracy: 0.8398\n",
      "Classification Report is :               precision    recall  f1-score   support\n",
      "\n",
      "           0       0.90      0.63      0.74      1033\n",
      "           1       0.44      0.80      0.57       374\n",
      "\n",
      "    accuracy                           0.67      1407\n",
      "   macro avg       0.67      0.71      0.65      1407\n",
      "weighted avg       0.78      0.67      0.69      1407\n",
      "\n"
     ]
    }
   ],
   "source": [
    "X_train,Y_train = get_train_batch(df3_class_0,df3_class_1,2990,4130)\n",
    "y_preds3 = ANN(X_train,X_test,Y_train,Y_test,'binary_crossentropy',weight=-1)"
   ]
  },
  {
   "cell_type": "code",
   "execution_count": 193,
   "metadata": {},
   "outputs": [
    {
     "data": {
      "text/plain": [
       "(1407, 1407, 1407)"
      ]
     },
     "execution_count": 193,
     "metadata": {},
     "output_type": "execute_result"
    }
   ],
   "source": [
    "len(y_preds1),len(y_preds2),len(y_preds3)"
   ]
  },
  {
   "cell_type": "code",
   "execution_count": 199,
   "metadata": {},
   "outputs": [],
   "source": [
    "y_pred_final = y_preds1.copy()\n",
    "\n",
    "for i in range(len(y_preds1)):\n",
    "    n_ones = y_preds1[i] + y_preds2[i] + y_preds3[i] \n",
    "    \n",
    "    if n_ones>1:\n",
    "        y_pred_final[i] = 1\n",
    "    else:\n",
    "        y_pred_final[i] = 0"
   ]
  },
  {
   "cell_type": "code",
   "execution_count": 200,
   "metadata": {},
   "outputs": [
    {
     "ename": "ValueError",
     "evalue": "Found input variables with inconsistent numbers of samples: [2066, 1407]",
     "output_type": "error",
     "traceback": [
      "\u001b[1;31m---------------------------------------------------------------------------\u001b[0m",
      "\u001b[1;31mValueError\u001b[0m                                Traceback (most recent call last)",
      "\u001b[1;32m<ipython-input-200-fbd1062d2643>\u001b[0m in \u001b[0;36m<module>\u001b[1;34m\u001b[0m\n\u001b[1;32m----> 1\u001b[1;33m \u001b[0mclassification_report\u001b[0m\u001b[1;33m(\u001b[0m\u001b[0my_test\u001b[0m\u001b[1;33m,\u001b[0m\u001b[0my_pred_final\u001b[0m\u001b[1;33m)\u001b[0m\u001b[1;33m\u001b[0m\u001b[1;33m\u001b[0m\u001b[0m\n\u001b[0m",
      "\u001b[1;32m~\\AppData\\Local\\Programs\\Python\\Python37\\lib\\site-packages\\sklearn\\utils\\validation.py\u001b[0m in \u001b[0;36minner_f\u001b[1;34m(*args, **kwargs)\u001b[0m\n\u001b[0;32m     70\u001b[0m                           FutureWarning)\n\u001b[0;32m     71\u001b[0m         \u001b[0mkwargs\u001b[0m\u001b[1;33m.\u001b[0m\u001b[0mupdate\u001b[0m\u001b[1;33m(\u001b[0m\u001b[1;33m{\u001b[0m\u001b[0mk\u001b[0m\u001b[1;33m:\u001b[0m \u001b[0marg\u001b[0m \u001b[1;32mfor\u001b[0m \u001b[0mk\u001b[0m\u001b[1;33m,\u001b[0m \u001b[0marg\u001b[0m \u001b[1;32min\u001b[0m \u001b[0mzip\u001b[0m\u001b[1;33m(\u001b[0m\u001b[0msig\u001b[0m\u001b[1;33m.\u001b[0m\u001b[0mparameters\u001b[0m\u001b[1;33m,\u001b[0m \u001b[0margs\u001b[0m\u001b[1;33m)\u001b[0m\u001b[1;33m}\u001b[0m\u001b[1;33m)\u001b[0m\u001b[1;33m\u001b[0m\u001b[1;33m\u001b[0m\u001b[0m\n\u001b[1;32m---> 72\u001b[1;33m         \u001b[1;32mreturn\u001b[0m \u001b[0mf\u001b[0m\u001b[1;33m(\u001b[0m\u001b[1;33m**\u001b[0m\u001b[0mkwargs\u001b[0m\u001b[1;33m)\u001b[0m\u001b[1;33m\u001b[0m\u001b[1;33m\u001b[0m\u001b[0m\n\u001b[0m\u001b[0;32m     73\u001b[0m     \u001b[1;32mreturn\u001b[0m \u001b[0minner_f\u001b[0m\u001b[1;33m\u001b[0m\u001b[1;33m\u001b[0m\u001b[0m\n\u001b[0;32m     74\u001b[0m \u001b[1;33m\u001b[0m\u001b[0m\n",
      "\u001b[1;32m~\\AppData\\Local\\Programs\\Python\\Python37\\lib\\site-packages\\sklearn\\metrics\\_classification.py\u001b[0m in \u001b[0;36mclassification_report\u001b[1;34m(y_true, y_pred, labels, target_names, sample_weight, digits, output_dict, zero_division)\u001b[0m\n\u001b[0;32m   1927\u001b[0m     \"\"\"\n\u001b[0;32m   1928\u001b[0m \u001b[1;33m\u001b[0m\u001b[0m\n\u001b[1;32m-> 1929\u001b[1;33m     \u001b[0my_type\u001b[0m\u001b[1;33m,\u001b[0m \u001b[0my_true\u001b[0m\u001b[1;33m,\u001b[0m \u001b[0my_pred\u001b[0m \u001b[1;33m=\u001b[0m \u001b[0m_check_targets\u001b[0m\u001b[1;33m(\u001b[0m\u001b[0my_true\u001b[0m\u001b[1;33m,\u001b[0m \u001b[0my_pred\u001b[0m\u001b[1;33m)\u001b[0m\u001b[1;33m\u001b[0m\u001b[1;33m\u001b[0m\u001b[0m\n\u001b[0m\u001b[0;32m   1930\u001b[0m \u001b[1;33m\u001b[0m\u001b[0m\n\u001b[0;32m   1931\u001b[0m     \u001b[0mlabels_given\u001b[0m \u001b[1;33m=\u001b[0m \u001b[1;32mTrue\u001b[0m\u001b[1;33m\u001b[0m\u001b[1;33m\u001b[0m\u001b[0m\n",
      "\u001b[1;32m~\\AppData\\Local\\Programs\\Python\\Python37\\lib\\site-packages\\sklearn\\metrics\\_classification.py\u001b[0m in \u001b[0;36m_check_targets\u001b[1;34m(y_true, y_pred)\u001b[0m\n\u001b[0;32m     79\u001b[0m     \u001b[0my_pred\u001b[0m \u001b[1;33m:\u001b[0m \u001b[0marray\u001b[0m \u001b[1;32mor\u001b[0m \u001b[0mindicator\u001b[0m \u001b[0mmatrix\u001b[0m\u001b[1;33m\u001b[0m\u001b[1;33m\u001b[0m\u001b[0m\n\u001b[0;32m     80\u001b[0m     \"\"\"\n\u001b[1;32m---> 81\u001b[1;33m     \u001b[0mcheck_consistent_length\u001b[0m\u001b[1;33m(\u001b[0m\u001b[0my_true\u001b[0m\u001b[1;33m,\u001b[0m \u001b[0my_pred\u001b[0m\u001b[1;33m)\u001b[0m\u001b[1;33m\u001b[0m\u001b[1;33m\u001b[0m\u001b[0m\n\u001b[0m\u001b[0;32m     82\u001b[0m     \u001b[0mtype_true\u001b[0m \u001b[1;33m=\u001b[0m \u001b[0mtype_of_target\u001b[0m\u001b[1;33m(\u001b[0m\u001b[0my_true\u001b[0m\u001b[1;33m)\u001b[0m\u001b[1;33m\u001b[0m\u001b[1;33m\u001b[0m\u001b[0m\n\u001b[0;32m     83\u001b[0m     \u001b[0mtype_pred\u001b[0m \u001b[1;33m=\u001b[0m \u001b[0mtype_of_target\u001b[0m\u001b[1;33m(\u001b[0m\u001b[0my_pred\u001b[0m\u001b[1;33m)\u001b[0m\u001b[1;33m\u001b[0m\u001b[1;33m\u001b[0m\u001b[0m\n",
      "\u001b[1;32m~\\AppData\\Local\\Programs\\Python\\Python37\\lib\\site-packages\\sklearn\\utils\\validation.py\u001b[0m in \u001b[0;36mcheck_consistent_length\u001b[1;34m(*arrays)\u001b[0m\n\u001b[0;32m    254\u001b[0m     \u001b[1;32mif\u001b[0m \u001b[0mlen\u001b[0m\u001b[1;33m(\u001b[0m\u001b[0muniques\u001b[0m\u001b[1;33m)\u001b[0m \u001b[1;33m>\u001b[0m \u001b[1;36m1\u001b[0m\u001b[1;33m:\u001b[0m\u001b[1;33m\u001b[0m\u001b[1;33m\u001b[0m\u001b[0m\n\u001b[0;32m    255\u001b[0m         raise ValueError(\"Found input variables with inconsistent numbers of\"\n\u001b[1;32m--> 256\u001b[1;33m                          \" samples: %r\" % [int(l) for l in lengths])\n\u001b[0m\u001b[0;32m    257\u001b[0m \u001b[1;33m\u001b[0m\u001b[0m\n\u001b[0;32m    258\u001b[0m \u001b[1;33m\u001b[0m\u001b[0m\n",
      "\u001b[1;31mValueError\u001b[0m: Found input variables with inconsistent numbers of samples: [2066, 1407]"
     ]
    }
   ],
   "source": [
    "print(classification_report(y_test,y_pred_final))"
   ]
  },
  {
   "cell_type": "code",
   "execution_count": null,
   "metadata": {},
   "outputs": [],
   "source": []
  }
 ],
 "metadata": {
  "kernelspec": {
   "display_name": "Python 3",
   "language": "python",
   "name": "python3"
  },
  "language_info": {
   "codemirror_mode": {
    "name": "ipython",
    "version": 3
   },
   "file_extension": ".py",
   "mimetype": "text/x-python",
   "name": "python",
   "nbconvert_exporter": "python",
   "pygments_lexer": "ipython3",
   "version": "3.7.2"
  }
 },
 "nbformat": 4,
 "nbformat_minor": 4
}
