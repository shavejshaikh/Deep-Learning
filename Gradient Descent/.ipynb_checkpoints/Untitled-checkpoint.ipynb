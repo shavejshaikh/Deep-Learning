{
 "cells": [
  {
   "cell_type": "code",
   "execution_count": null,
   "metadata": {},
   "outputs": [],
   "source": [
    "class myNN:\n",
    "    \n",
    "    def __init__(self):\n",
    "        self.w1=1\n",
    "        self.w2=1\n",
    "        self.bias=0\n",
    "        \n",
    "    \n",
    "    def fit(self,x,y,epochs,loss_thresold):\n",
    "        self.w1,self.w2,self.bias=self.gradient_descent(x['age'],x['affordability'],y,epochs,loss_thresold)\n",
    "        \n",
    "    def gradient_descent(self,age,affordability,y_true,epoch,loss_thresold):\n",
    "        w1 = w2= 1\n",
    "        bias =0\n",
    "        rate = 0.5\n",
    "        n = len(age)\n",
    "        for i in range(epoch):\n",
    "            weighted_sum = w1*age +w2 *affordability + bias\n",
    "            y_predicted = sigmoid_numpy(weighted_sum)\n",
    "\n",
    "            loss =log_loss(y_true,y_predicted)\n",
    "\n",
    "            w1d=(1/n)* np.dot(np.transpose(age),(y_predicted-y_true))\n",
    "            w2d=(1/n)* np.dot(np.transpose(affordability),(y_predicted-y_true))\n",
    "\n",
    "            bias_d = np.mean(y_predicted-y_true)\n",
    "\n",
    "            w1=w1-rate*w1d\n",
    "            w2=w2-rate*w2d\n",
    "\n",
    "            bias=bias -rate * bias_d\n",
    "\n",
    "            print(f'Epoch:{i}, w1:{w1} , w2:{w2}, bias:{bias}, loss:{loss}')\n",
    "\n",
    "            if loss <= loss_thresold:\n",
    "                print(\"Break\")\n",
    "                break;\n",
    "\n",
    "    return w1,w2,bias"
   ]
  }
 ],
 "metadata": {
  "kernelspec": {
   "display_name": "Python 3",
   "language": "python",
   "name": "python3"
  },
  "language_info": {
   "codemirror_mode": {
    "name": "ipython",
    "version": 3
   },
   "file_extension": ".py",
   "mimetype": "text/x-python",
   "name": "python",
   "nbconvert_exporter": "python",
   "pygments_lexer": "ipython3",
   "version": "3.7.2"
  }
 },
 "nbformat": 4,
 "nbformat_minor": 4
}
